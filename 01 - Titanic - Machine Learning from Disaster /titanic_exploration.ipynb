{
 "cells": [
  {
   "cell_type": "markdown",
   "metadata": {},
   "source": [
    "# Titanic - Machine Learning from Disaster\n",
    "This is my first submission in Kaggle so if you find any mistakes, corrections, or suggestions, feel free to mention them."
   ]
  },
  {
   "cell_type": "markdown",
   "metadata": {
    "heading_collapsed": true
   },
   "source": [
    "## Initial Setup"
   ]
  },
  {
   "cell_type": "markdown",
   "metadata": {
    "hidden": true
   },
   "source": [
    "### Import Statements"
   ]
  },
  {
   "cell_type": "code",
   "execution_count": 1,
   "metadata": {
    "ExecuteTime": {
     "end_time": "2021-01-21T18:19:23.186098Z",
     "start_time": "2021-01-21T18:19:21.565423Z"
    },
    "hidden": true
   },
   "outputs": [],
   "source": [
    "import numpy as np # linear algebra\n",
    "import pandas as pd # data processing, CSV file I/O (e.g. pd.read_csv)\n",
    "# Data Visualization \n",
    "import matplotlib.pyplot as plt \n",
    "import seaborn as sns\n",
    "# Hyperparameter Tuning\n",
    "from sklearn.model_selection import GridSearchCV, RandomizedSearchCV \n",
    "# Scoring Metric\n",
    "from sklearn.model_selection import cross_val_score \n",
    "from sklearn.metrics import make_scorer, mean_squared_error, accuracy_score\n",
    "# Encoding\n",
    "from sklearn.preprocessing import LabelEncoder\n",
    "# Splitting Dataset\n",
    "from sklearn.model_selection import train_test_split\n",
    "from sklearn.model_selection import ShuffleSplit"
   ]
  },
  {
   "cell_type": "markdown",
   "metadata": {
    "heading_collapsed": true,
    "hidden": true
   },
   "source": [
    "### Import the Datasets"
   ]
  },
  {
   "cell_type": "code",
   "execution_count": 2,
   "metadata": {
    "ExecuteTime": {
     "end_time": "2021-01-21T18:19:23.195236Z",
     "start_time": "2021-01-21T18:19:23.187215Z"
    },
    "hidden": true
   },
   "outputs": [],
   "source": [
    "train_data = pd.read_csv(\"./datasets/train.csv\")\n",
    "test_data = pd.read_csv(\"./datasets/test.csv\")"
   ]
  },
  {
   "cell_type": "markdown",
   "metadata": {
    "heading_collapsed": true,
    "hidden": true
   },
   "source": [
    "### Stylistics"
   ]
  },
  {
   "cell_type": "code",
   "execution_count": 3,
   "metadata": {
    "ExecuteTime": {
     "end_time": "2021-01-21T18:19:23.346968Z",
     "start_time": "2021-01-21T18:19:23.199611Z"
    },
    "hidden": true
   },
   "outputs": [],
   "source": [
    "%matplotlib inline\n",
    "plt.style.use(\"dark_background\")\n",
    "pd.set_option(\"display.max_rows\", 500)\n",
    "pd.set_option(\"display.max_columns\", 500)\n",
    "pd.set_option(\"display.width\", 1000)\n",
    "pd.set_option(\"precision\", 2)"
   ]
  },
  {
   "cell_type": "markdown",
   "metadata": {
    "heading_collapsed": true,
    "hidden": true
   },
   "source": [
    "### Files"
   ]
  },
  {
   "cell_type": "code",
   "execution_count": 4,
   "metadata": {
    "ExecuteTime": {
     "end_time": "2021-01-21T18:19:23.423121Z",
     "start_time": "2021-01-21T18:19:23.348510Z"
    },
    "hidden": true
   },
   "outputs": [
    {
     "name": "stdout",
     "output_type": "stream",
     "text": [
      "./datasets/test.csv\n",
      "./datasets/gender_submission.csv\n",
      "./datasets/train.csv\n"
     ]
    }
   ],
   "source": [
    "# This Python 3 environment comes with many helpful analytics libraries installed\n",
    "# It is defined by the kaggle/python docker image: https://github.com/kaggle/docker-python\n",
    "# For example, here's several helpful packages to load in \n",
    "\n",
    "# Input data files are available in the \"../input/\" directory.\n",
    "# For example, running this (by clicking run or pressing Shift+Enter) will list all files under the input directory\n",
    "\n",
    "import os\n",
    "for dirname, _, filenames in os.walk('./datasets/'):\n",
    "    for filename in filenames:\n",
    "        print(os.path.join(dirname, filename))\n",
    "\n",
    "# Any results you write to the current directory are saved as output."
   ]
  },
  {
   "cell_type": "markdown",
   "metadata": {
    "heading_collapsed": true,
    "hidden": true
   },
   "source": [
    "### Exploring the Dataset"
   ]
  },
  {
   "cell_type": "code",
   "execution_count": 5,
   "metadata": {
    "ExecuteTime": {
     "end_time": "2021-01-21T18:19:23.512404Z",
     "start_time": "2021-01-21T18:19:23.424825Z"
    },
    "hidden": true
   },
   "outputs": [
    {
     "data": {
      "text/html": [
       "<div>\n",
       "<style scoped>\n",
       "    .dataframe tbody tr th:only-of-type {\n",
       "        vertical-align: middle;\n",
       "    }\n",
       "\n",
       "    .dataframe tbody tr th {\n",
       "        vertical-align: top;\n",
       "    }\n",
       "\n",
       "    .dataframe thead th {\n",
       "        text-align: right;\n",
       "    }\n",
       "</style>\n",
       "<table border=\"1\" class=\"dataframe\">\n",
       "  <thead>\n",
       "    <tr style=\"text-align: right;\">\n",
       "      <th></th>\n",
       "      <th>PassengerId</th>\n",
       "      <th>Survived</th>\n",
       "      <th>Pclass</th>\n",
       "      <th>Name</th>\n",
       "      <th>Sex</th>\n",
       "      <th>Age</th>\n",
       "      <th>SibSp</th>\n",
       "      <th>Parch</th>\n",
       "      <th>Ticket</th>\n",
       "      <th>Fare</th>\n",
       "      <th>Cabin</th>\n",
       "      <th>Embarked</th>\n",
       "    </tr>\n",
       "  </thead>\n",
       "  <tbody>\n",
       "    <tr>\n",
       "      <th>0</th>\n",
       "      <td>1</td>\n",
       "      <td>0</td>\n",
       "      <td>3</td>\n",
       "      <td>Braund, Mr. Owen Harris</td>\n",
       "      <td>male</td>\n",
       "      <td>22.0</td>\n",
       "      <td>1</td>\n",
       "      <td>0</td>\n",
       "      <td>A/5 21171</td>\n",
       "      <td>7.25</td>\n",
       "      <td>NaN</td>\n",
       "      <td>S</td>\n",
       "    </tr>\n",
       "    <tr>\n",
       "      <th>1</th>\n",
       "      <td>2</td>\n",
       "      <td>1</td>\n",
       "      <td>1</td>\n",
       "      <td>Cumings, Mrs. John Bradley (Florence Briggs Th...</td>\n",
       "      <td>female</td>\n",
       "      <td>38.0</td>\n",
       "      <td>1</td>\n",
       "      <td>0</td>\n",
       "      <td>PC 17599</td>\n",
       "      <td>71.28</td>\n",
       "      <td>C85</td>\n",
       "      <td>C</td>\n",
       "    </tr>\n",
       "    <tr>\n",
       "      <th>2</th>\n",
       "      <td>3</td>\n",
       "      <td>1</td>\n",
       "      <td>3</td>\n",
       "      <td>Heikkinen, Miss. Laina</td>\n",
       "      <td>female</td>\n",
       "      <td>26.0</td>\n",
       "      <td>0</td>\n",
       "      <td>0</td>\n",
       "      <td>STON/O2. 3101282</td>\n",
       "      <td>7.92</td>\n",
       "      <td>NaN</td>\n",
       "      <td>S</td>\n",
       "    </tr>\n",
       "    <tr>\n",
       "      <th>3</th>\n",
       "      <td>4</td>\n",
       "      <td>1</td>\n",
       "      <td>1</td>\n",
       "      <td>Futrelle, Mrs. Jacques Heath (Lily May Peel)</td>\n",
       "      <td>female</td>\n",
       "      <td>35.0</td>\n",
       "      <td>1</td>\n",
       "      <td>0</td>\n",
       "      <td>113803</td>\n",
       "      <td>53.10</td>\n",
       "      <td>C123</td>\n",
       "      <td>S</td>\n",
       "    </tr>\n",
       "    <tr>\n",
       "      <th>4</th>\n",
       "      <td>5</td>\n",
       "      <td>0</td>\n",
       "      <td>3</td>\n",
       "      <td>Allen, Mr. William Henry</td>\n",
       "      <td>male</td>\n",
       "      <td>35.0</td>\n",
       "      <td>0</td>\n",
       "      <td>0</td>\n",
       "      <td>373450</td>\n",
       "      <td>8.05</td>\n",
       "      <td>NaN</td>\n",
       "      <td>S</td>\n",
       "    </tr>\n",
       "  </tbody>\n",
       "</table>\n",
       "</div>"
      ],
      "text/plain": [
       "   PassengerId  Survived  Pclass                                               Name     Sex   Age  SibSp  Parch            Ticket   Fare Cabin Embarked\n",
       "0            1         0       3                            Braund, Mr. Owen Harris    male  22.0      1      0         A/5 21171   7.25   NaN        S\n",
       "1            2         1       1  Cumings, Mrs. John Bradley (Florence Briggs Th...  female  38.0      1      0          PC 17599  71.28   C85        C\n",
       "2            3         1       3                             Heikkinen, Miss. Laina  female  26.0      0      0  STON/O2. 3101282   7.92   NaN        S\n",
       "3            4         1       1       Futrelle, Mrs. Jacques Heath (Lily May Peel)  female  35.0      1      0            113803  53.10  C123        S\n",
       "4            5         0       3                           Allen, Mr. William Henry    male  35.0      0      0            373450   8.05   NaN        S"
      ]
     },
     "execution_count": 5,
     "metadata": {},
     "output_type": "execute_result"
    }
   ],
   "source": [
    "train_data.head()"
   ]
  },
  {
   "cell_type": "code",
   "execution_count": 6,
   "metadata": {
    "ExecuteTime": {
     "end_time": "2021-01-21T18:19:23.590225Z",
     "start_time": "2021-01-21T18:19:23.513576Z"
    },
    "hidden": true
   },
   "outputs": [
    {
     "data": {
      "text/html": [
       "<div>\n",
       "<style scoped>\n",
       "    .dataframe tbody tr th:only-of-type {\n",
       "        vertical-align: middle;\n",
       "    }\n",
       "\n",
       "    .dataframe tbody tr th {\n",
       "        vertical-align: top;\n",
       "    }\n",
       "\n",
       "    .dataframe thead th {\n",
       "        text-align: right;\n",
       "    }\n",
       "</style>\n",
       "<table border=\"1\" class=\"dataframe\">\n",
       "  <thead>\n",
       "    <tr style=\"text-align: right;\">\n",
       "      <th></th>\n",
       "      <th>PassengerId</th>\n",
       "      <th>Pclass</th>\n",
       "      <th>Name</th>\n",
       "      <th>Sex</th>\n",
       "      <th>Age</th>\n",
       "      <th>SibSp</th>\n",
       "      <th>Parch</th>\n",
       "      <th>Ticket</th>\n",
       "      <th>Fare</th>\n",
       "      <th>Cabin</th>\n",
       "      <th>Embarked</th>\n",
       "    </tr>\n",
       "  </thead>\n",
       "  <tbody>\n",
       "    <tr>\n",
       "      <th>0</th>\n",
       "      <td>892</td>\n",
       "      <td>3</td>\n",
       "      <td>Kelly, Mr. James</td>\n",
       "      <td>male</td>\n",
       "      <td>34.5</td>\n",
       "      <td>0</td>\n",
       "      <td>0</td>\n",
       "      <td>330911</td>\n",
       "      <td>7.83</td>\n",
       "      <td>NaN</td>\n",
       "      <td>Q</td>\n",
       "    </tr>\n",
       "    <tr>\n",
       "      <th>1</th>\n",
       "      <td>893</td>\n",
       "      <td>3</td>\n",
       "      <td>Wilkes, Mrs. James (Ellen Needs)</td>\n",
       "      <td>female</td>\n",
       "      <td>47.0</td>\n",
       "      <td>1</td>\n",
       "      <td>0</td>\n",
       "      <td>363272</td>\n",
       "      <td>7.00</td>\n",
       "      <td>NaN</td>\n",
       "      <td>S</td>\n",
       "    </tr>\n",
       "    <tr>\n",
       "      <th>2</th>\n",
       "      <td>894</td>\n",
       "      <td>2</td>\n",
       "      <td>Myles, Mr. Thomas Francis</td>\n",
       "      <td>male</td>\n",
       "      <td>62.0</td>\n",
       "      <td>0</td>\n",
       "      <td>0</td>\n",
       "      <td>240276</td>\n",
       "      <td>9.69</td>\n",
       "      <td>NaN</td>\n",
       "      <td>Q</td>\n",
       "    </tr>\n",
       "    <tr>\n",
       "      <th>3</th>\n",
       "      <td>895</td>\n",
       "      <td>3</td>\n",
       "      <td>Wirz, Mr. Albert</td>\n",
       "      <td>male</td>\n",
       "      <td>27.0</td>\n",
       "      <td>0</td>\n",
       "      <td>0</td>\n",
       "      <td>315154</td>\n",
       "      <td>8.66</td>\n",
       "      <td>NaN</td>\n",
       "      <td>S</td>\n",
       "    </tr>\n",
       "    <tr>\n",
       "      <th>4</th>\n",
       "      <td>896</td>\n",
       "      <td>3</td>\n",
       "      <td>Hirvonen, Mrs. Alexander (Helga E Lindqvist)</td>\n",
       "      <td>female</td>\n",
       "      <td>22.0</td>\n",
       "      <td>1</td>\n",
       "      <td>1</td>\n",
       "      <td>3101298</td>\n",
       "      <td>12.29</td>\n",
       "      <td>NaN</td>\n",
       "      <td>S</td>\n",
       "    </tr>\n",
       "  </tbody>\n",
       "</table>\n",
       "</div>"
      ],
      "text/plain": [
       "   PassengerId  Pclass                                          Name     Sex   Age  SibSp  Parch   Ticket   Fare Cabin Embarked\n",
       "0          892       3                              Kelly, Mr. James    male  34.5      0      0   330911   7.83   NaN        Q\n",
       "1          893       3              Wilkes, Mrs. James (Ellen Needs)  female  47.0      1      0   363272   7.00   NaN        S\n",
       "2          894       2                     Myles, Mr. Thomas Francis    male  62.0      0      0   240276   9.69   NaN        Q\n",
       "3          895       3                              Wirz, Mr. Albert    male  27.0      0      0   315154   8.66   NaN        S\n",
       "4          896       3  Hirvonen, Mrs. Alexander (Helga E Lindqvist)  female  22.0      1      1  3101298  12.29   NaN        S"
      ]
     },
     "execution_count": 6,
     "metadata": {},
     "output_type": "execute_result"
    }
   ],
   "source": [
    "test_data.head()"
   ]
  },
  {
   "cell_type": "code",
   "execution_count": 7,
   "metadata": {
    "ExecuteTime": {
     "end_time": "2021-01-21T18:19:23.674154Z",
     "start_time": "2021-01-21T18:19:23.592318Z"
    },
    "hidden": true
   },
   "outputs": [
    {
     "name": "stdout",
     "output_type": "stream",
     "text": [
      "<class 'pandas.core.frame.DataFrame'>\n",
      "RangeIndex: 891 entries, 0 to 890\n",
      "Data columns (total 12 columns):\n",
      " #   Column       Non-Null Count  Dtype  \n",
      "---  ------       --------------  -----  \n",
      " 0   PassengerId  891 non-null    int64  \n",
      " 1   Survived     891 non-null    int64  \n",
      " 2   Pclass       891 non-null    int64  \n",
      " 3   Name         891 non-null    object \n",
      " 4   Sex          891 non-null    object \n",
      " 5   Age          714 non-null    float64\n",
      " 6   SibSp        891 non-null    int64  \n",
      " 7   Parch        891 non-null    int64  \n",
      " 8   Ticket       891 non-null    object \n",
      " 9   Fare         891 non-null    float64\n",
      " 10  Cabin        204 non-null    object \n",
      " 11  Embarked     889 non-null    object \n",
      "dtypes: float64(2), int64(5), object(5)\n",
      "memory usage: 83.7+ KB\n"
     ]
    }
   ],
   "source": [
    "train_data.info()"
   ]
  },
  {
   "cell_type": "code",
   "execution_count": 8,
   "metadata": {
    "ExecuteTime": {
     "end_time": "2021-01-21T18:19:23.774557Z",
     "start_time": "2021-01-21T18:19:23.676455Z"
    },
    "hidden": true
   },
   "outputs": [
    {
     "name": "stdout",
     "output_type": "stream",
     "text": [
      "Number of Rows: 891\n",
      "Number of Colums: 12\n",
      "Column Names: ['PassengerId' 'Survived' 'Pclass' 'Name' 'Sex' 'Age' 'SibSp' 'Parch'\n",
      " 'Ticket' 'Fare' 'Cabin' 'Embarked']\n"
     ]
    }
   ],
   "source": [
    "print(\"Number of Rows: {}\".format(train_data.shape[0]))\n",
    "print(\"Number of Colums: {}\".format(train_data.shape[1]))\n",
    "print(\"Column Names: {}\".format(train_data.columns.values))"
   ]
  },
  {
   "cell_type": "markdown",
   "metadata": {
    "hidden": true
   },
   "source": [
    "Some of the insights that we can get from these cells are:\n",
    "1. `PassengerId` gives a natural ordering to the dataset.\n",
    "2. We have 891 rows and 12 columns. `Name`, `Ticket` and `Cabin` are no important to us and should be dropped.\n",
    "3. The Columns have correct dtype except `Sex` that can be turned into a boolean number.\n",
    "4. We have 7 Numeric Columns and 5 Strings\n",
    "4. We have missing values."
   ]
  },
  {
   "cell_type": "markdown",
   "metadata": {
    "heading_collapsed": true
   },
   "source": [
    "## Data Cleaning"
   ]
  },
  {
   "cell_type": "markdown",
   "metadata": {
    "heading_collapsed": true,
    "hidden": true
   },
   "source": [
    "### Remove Unnecessary Columns "
   ]
  },
  {
   "cell_type": "markdown",
   "metadata": {
    "hidden": true
   },
   "source": [
    "Here we are removing `Name`, `Ticket` and `Cabin` since these columns are not important in our analysis."
   ]
  },
  {
   "cell_type": "code",
   "execution_count": 9,
   "metadata": {
    "ExecuteTime": {
     "end_time": "2021-01-21T18:19:23.852428Z",
     "start_time": "2021-01-21T18:19:23.776336Z"
    },
    "hidden": true
   },
   "outputs": [
    {
     "name": "stdout",
     "output_type": "stream",
     "text": [
      "train_data\n",
      "Number of Colums (BEFORE): 12\n",
      "Number of Colums (AFTER): 9\n",
      "\n",
      "test_data\n",
      "Number of Colums (BEFORE): 11\n",
      "Number of Colums (AFTER): 8\n",
      "\n"
     ]
    }
   ],
   "source": [
    "data_cleaner = [train_data, test_data]\n",
    "data_name = [\"train_data\", \"test_data\"]\n",
    "remove_cols = [\"Name\", \"Ticket\", \"Cabin\"]\n",
    "\n",
    "for idx, dataset in enumerate(data_cleaner):\n",
    "    print(data_name[idx])\n",
    "    print(\"Number of Colums (BEFORE): {}\".format(dataset.shape[1]))\n",
    "    \n",
    "    dataset.drop(remove_cols, axis=1, inplace=True)\n",
    "    \n",
    "    print(\"Number of Colums (AFTER): {}\\n\".format(dataset.shape[1]))\n",
    "    \n",
    "train_data.drop(\"PassengerId\", axis=1, inplace=True)"
   ]
  },
  {
   "cell_type": "markdown",
   "metadata": {
    "hidden": true
   },
   "source": [
    "We can confirm that we have removed the columns by printing how many columns we have.\n",
    "> The test data are 1 column less since it doesn't have the `Survived` column unlike the training data for later evaluation."
   ]
  },
  {
   "cell_type": "markdown",
   "metadata": {
    "heading_collapsed": true,
    "hidden": true
   },
   "source": [
    "### Missing Values"
   ]
  },
  {
   "cell_type": "code",
   "execution_count": 10,
   "metadata": {
    "ExecuteTime": {
     "end_time": "2021-01-21T18:19:23.933917Z",
     "start_time": "2021-01-21T18:19:23.854035Z"
    },
    "hidden": true
   },
   "outputs": [
    {
     "data": {
      "text/plain": [
       "Survived      0\n",
       "Pclass        0\n",
       "Sex           0\n",
       "Age         177\n",
       "SibSp         0\n",
       "Parch         0\n",
       "Fare          0\n",
       "Embarked      2\n",
       "dtype: int64"
      ]
     },
     "execution_count": 10,
     "metadata": {},
     "output_type": "execute_result"
    }
   ],
   "source": [
    "train_data.isnull().sum()"
   ]
  },
  {
   "cell_type": "code",
   "execution_count": 11,
   "metadata": {
    "ExecuteTime": {
     "end_time": "2021-01-21T18:19:24.017416Z",
     "start_time": "2021-01-21T18:19:23.935027Z"
    },
    "hidden": true
   },
   "outputs": [
    {
     "data": {
      "text/plain": [
       "PassengerId     0\n",
       "Pclass          0\n",
       "Sex             0\n",
       "Age            86\n",
       "SibSp           0\n",
       "Parch           0\n",
       "Fare            1\n",
       "Embarked        0\n",
       "dtype: int64"
      ]
     },
     "execution_count": 11,
     "metadata": {},
     "output_type": "execute_result"
    }
   ],
   "source": [
    "test_data.isnull().sum()"
   ]
  },
  {
   "cell_type": "markdown",
   "metadata": {
    "hidden": true
   },
   "source": [
    "Just like `train_data`, `test_data` also has some missing data on age."
   ]
  },
  {
   "cell_type": "markdown",
   "metadata": {
    "hidden": true
   },
   "source": [
    "Since `Age` has some significant values that are missing and we have no way to identify the  age of the passenger based on the columns presented, one solution that I can think of is fill this with the mean values of the `Age` column. Let's do just that."
   ]
  },
  {
   "cell_type": "code",
   "execution_count": 12,
   "metadata": {
    "ExecuteTime": {
     "end_time": "2021-01-21T18:19:24.101434Z",
     "start_time": "2021-01-21T18:19:24.019075Z"
    },
    "hidden": true
   },
   "outputs": [],
   "source": [
    "for dataset in data_cleaner:\n",
    "    dataset[\"Age\"].fillna(dataset[\"Age\"].mean(), inplace=True)\n",
    "    \n",
    "    dataset[\"Fare\"].fillna(dataset[\"Fare\"].median(), inplace=True)\n",
    "    \n",
    "    dataset[\"Embarked\"].fillna(dataset[\"Embarked\"].mode()[0], inplace=True)"
   ]
  },
  {
   "cell_type": "code",
   "execution_count": 13,
   "metadata": {
    "ExecuteTime": {
     "end_time": "2021-01-21T18:19:24.185710Z",
     "start_time": "2021-01-21T18:19:24.102585Z"
    },
    "hidden": true
   },
   "outputs": [
    {
     "name": "stdout",
     "output_type": "stream",
     "text": [
      "Survived    0\n",
      "Pclass      0\n",
      "Sex         0\n",
      "Age         0\n",
      "SibSp       0\n",
      "Parch       0\n",
      "Fare        0\n",
      "Embarked    0\n",
      "dtype: int64\n",
      "#--------------------#\n",
      "PassengerId    0\n",
      "Pclass         0\n",
      "Sex            0\n",
      "Age            0\n",
      "SibSp          0\n",
      "Parch          0\n",
      "Fare           0\n",
      "Embarked       0\n",
      "dtype: int64\n"
     ]
    }
   ],
   "source": [
    "print(train_data.isnull().sum())\n",
    "print(\"#\" + \"-\"*20 + \"#\")\n",
    "print(test_data.isnull().sum())"
   ]
  },
  {
   "cell_type": "markdown",
   "metadata": {
    "hidden": true
   },
   "source": [
    "As we can see, there are no mising values in any of the columns."
   ]
  },
  {
   "cell_type": "markdown",
   "metadata": {
    "heading_collapsed": true,
    "hidden": true
   },
   "source": [
    "### Removing  Outliers\n",
    "In order for our dataset to be prepared to be analyzed by our chosen model, we need to remove outliers that will draw our conclusion far away from the truth. To do this, we will consider a value an outlier if it falls over 3 standard deviation away from the mean."
   ]
  },
  {
   "cell_type": "code",
   "execution_count": 14,
   "metadata": {
    "ExecuteTime": {
     "end_time": "2021-01-21T18:19:24.307241Z",
     "start_time": "2021-01-21T18:19:24.186889Z"
    },
    "hidden": true
   },
   "outputs": [
    {
     "name": "stdout",
     "output_type": "stream",
     "text": [
      "Number of Remaining Observations: Fare -> (871,)\n",
      "\n",
      "Number of Remaining Observations: Age -> (864,)\n",
      "\n",
      "Number of Remaining Observations: SibSp -> (834,)\n",
      "\n",
      "Number of Remaining Observations: Parch -> (820,)\n",
      "\n",
      "Number of Observation Removed: 71\n"
     ]
    }
   ],
   "source": [
    "features = [\"Fare\", \"Age\", \"SibSp\", \"Parch\"] # Columns we are interested in\n",
    "before_removal = train_data.shape[0]\n",
    "for feature in features:\n",
    "    min_ = train_data[feature].mean() - (3 * train_data[feature].std())\n",
    "    max_ = train_data[feature].mean() + (3 * train_data[feature].std())\n",
    "    \n",
    "    train_data = train_data[train_data[feature] >= min_]\n",
    "    train_data = train_data[train_data[feature] <= max_]\n",
    "    print(\"Number of Remaining Observations: {} -> {}\\n\".format(feature, train_data[feature].shape))\n",
    "    \n",
    "print(\"Number of Observation Removed: {}\".format(before_removal - train_data.shape[0]))"
   ]
  },
  {
   "cell_type": "markdown",
   "metadata": {
    "heading_collapsed": true
   },
   "source": [
    "## Convert Formats\n",
    "Since we have String columns, our Machine Learning model won't be able to process data that are not numbers. A solution might be to use `LabelEncoder()` from scikit-learn to transform the text data into numeric data."
   ]
  },
  {
   "cell_type": "code",
   "execution_count": 15,
   "metadata": {
    "ExecuteTime": {
     "end_time": "2021-01-21T18:19:24.384557Z",
     "start_time": "2021-01-21T18:19:24.308837Z"
    },
    "hidden": true
   },
   "outputs": [],
   "source": [
    "label = LabelEncoder()\n",
    "\n",
    "train_data[\"Sex_Encoded\"] = label.fit_transform(train_data[\"Sex\"])\n",
    "train_data[\"Embarked_Encoded\"] = label.fit_transform(train_data[\"Embarked\"])\n",
    "\n",
    "test_data[\"Sex_Encoded\"] = label.fit_transform(test_data[\"Sex\"])\n",
    "test_data[\"Embarked_Encoded\"] = label.fit_transform(test_data[\"Embarked\"])\n",
    "    \n",
    "# Pretty names for charts\n",
    "pretty_titanic = ['Sex','Pclass', 'Embarked', 'SibSp', 'Parch', 'Age', 'Fare']\n",
    "# For Calculations\n",
    "calc_titanic = ['Sex_Encoded','Embarked_Encoded', 'SibSp', 'Parch', 'Age', 'Fare']"
   ]
  },
  {
   "cell_type": "markdown",
   "metadata": {
    "heading_collapsed": true,
    "hidden": true
   },
   "source": [
    "### Train Data"
   ]
  },
  {
   "cell_type": "markdown",
   "metadata": {
    "heading_collapsed": true,
    "hidden": true
   },
   "source": [
    "#### OneHotEncoding()"
   ]
  },
  {
   "cell_type": "code",
   "execution_count": 16,
   "metadata": {
    "ExecuteTime": {
     "end_time": "2021-01-21T18:19:24.455760Z",
     "start_time": "2021-01-21T18:19:24.386308Z"
    },
    "hidden": true
   },
   "outputs": [],
   "source": [
    "# from sklearn.compose import ColumnTransformer\n",
    "# from sklearn.preprocessing import OneHotEncoder\n",
    "\n",
    "# ct = ColumnTransformer(transformers=[('encoder', OneHotEncoder(), [\"Sex\", \"Embarked\"])], remainder='passthrough')\n",
    "# X = np.array(ct.fit_transform(X))\n",
    "# # np.array(ct.fit_transform(X))[:, :].shape"
   ]
  },
  {
   "cell_type": "markdown",
   "metadata": {
    "heading_collapsed": true,
    "hidden": true
   },
   "source": [
    "##### Turn the PassengerId Column into int.dtype"
   ]
  },
  {
   "cell_type": "code",
   "execution_count": 17,
   "metadata": {
    "ExecuteTime": {
     "end_time": "2021-01-21T18:19:24.530759Z",
     "start_time": "2021-01-21T18:19:24.457531Z"
    },
    "hidden": true
   },
   "outputs": [],
   "source": [
    "# X = pd.DataFrame(X)\n",
    "# X[5] = X[5].astype(int)"
   ]
  },
  {
   "cell_type": "markdown",
   "metadata": {
    "heading_collapsed": true,
    "hidden": true
   },
   "source": [
    "#### LabelEncoder()"
   ]
  },
  {
   "cell_type": "code",
   "execution_count": 18,
   "metadata": {
    "ExecuteTime": {
     "end_time": "2021-01-21T18:19:24.622461Z",
     "start_time": "2021-01-21T18:19:24.532481Z"
    },
    "hidden": true
   },
   "outputs": [],
   "source": [
    "# from sklearn.preprocessing import LabelEncoder\n",
    "# enc = LabelEncoder()\n",
    "\n",
    "# features = [\"Sex\", \"Embarked\"]\n",
    "\n",
    "# for feature in features:\n",
    "#     X[feature] = enc.fit_transform(X[feature])\n",
    "# X"
   ]
  },
  {
   "cell_type": "markdown",
   "metadata": {
    "heading_collapsed": true,
    "hidden": true
   },
   "source": [
    "#### Dummy Variables"
   ]
  },
  {
   "cell_type": "code",
   "execution_count": 19,
   "metadata": {
    "ExecuteTime": {
     "end_time": "2021-01-21T18:19:24.697435Z",
     "start_time": "2021-01-21T18:19:24.624241Z"
    },
    "hidden": true
   },
   "outputs": [],
   "source": [
    "# X = pd.get_dummies(X, columns=[\"Sex\", \"Embarked\"])\n",
    "# X = X.values"
   ]
  },
  {
   "cell_type": "markdown",
   "metadata": {
    "heading_collapsed": true,
    "hidden": true
   },
   "source": [
    "### Test Data"
   ]
  },
  {
   "cell_type": "markdown",
   "metadata": {
    "hidden": true
   },
   "source": [
    "#### OneHotEncoder()"
   ]
  },
  {
   "cell_type": "code",
   "execution_count": 20,
   "metadata": {
    "ExecuteTime": {
     "end_time": "2021-01-21T18:19:24.772501Z",
     "start_time": "2021-01-21T18:19:24.699147Z"
    },
    "hidden": true
   },
   "outputs": [],
   "source": [
    "# test_data = np.array(ct.transform(test_data.drop(\"PassengerId\", axis=1)))"
   ]
  },
  {
   "cell_type": "markdown",
   "metadata": {
    "hidden": true
   },
   "source": [
    "##### Turn the PassengerId Column into int.dtype"
   ]
  },
  {
   "cell_type": "code",
   "execution_count": 21,
   "metadata": {
    "ExecuteTime": {
     "end_time": "2021-01-21T18:19:24.847506Z",
     "start_time": "2021-01-21T18:19:24.774091Z"
    },
    "hidden": true
   },
   "outputs": [],
   "source": [
    "# test_data = pd.DataFrame(test_data)\n",
    "# test_data[5] = test_data[5].astype(int)"
   ]
  },
  {
   "cell_type": "markdown",
   "metadata": {
    "hidden": true
   },
   "source": [
    "#### LabelEncoder()"
   ]
  },
  {
   "cell_type": "code",
   "execution_count": 22,
   "metadata": {
    "ExecuteTime": {
     "end_time": "2021-01-21T18:19:24.939270Z",
     "start_time": "2021-01-21T18:19:24.851293Z"
    },
    "hidden": true
   },
   "outputs": [],
   "source": [
    "# from sklearn.preprocessing import LabelEncoder\n",
    "# enc = LabelEncoder()\n",
    "# for feature in features:\n",
    "#     test_data[feature] = enc.fit_transform(test_data[feature])"
   ]
  },
  {
   "cell_type": "markdown",
   "metadata": {
    "hidden": true
   },
   "source": [
    "#### Dummy Variable"
   ]
  },
  {
   "cell_type": "code",
   "execution_count": 23,
   "metadata": {
    "ExecuteTime": {
     "end_time": "2021-01-21T18:19:25.032960Z",
     "start_time": "2021-01-21T18:19:24.941135Z"
    },
    "hidden": true
   },
   "outputs": [],
   "source": [
    "# test_data = pd.get_dummies(test_data, columns=[\"Sex\", \"Embarked\"])"
   ]
  },
  {
   "cell_type": "markdown",
   "metadata": {},
   "source": [
    "## Machine Learning Model\n",
    "Now we are ready to feed our data to the model we choose to predict whether a person will survive or not depending on the labeled data that we fed in to our model."
   ]
  },
  {
   "cell_type": "markdown",
   "metadata": {},
   "source": [
    "### Splitting the Training Dataset into Dependent and Independent Variable\n",
    "Since the answer that we want to address is whether the person is going to survive or not (`Survived`), this will be our dependent variable and the rest of te features will be the independent variable."
   ]
  },
  {
   "cell_type": "code",
   "execution_count": 24,
   "metadata": {
    "ExecuteTime": {
     "end_time": "2021-01-21T18:19:25.118067Z",
     "start_time": "2021-01-21T18:19:25.034419Z"
    }
   },
   "outputs": [],
   "source": [
    "X = train_data[calc_titanic]\n",
    "y = train_data[\"Survived\"]\n",
    "\n",
    "X_train, X_test, y_train, y_test = train_test_split(X, y, test_size=0.2, random_state=5) "
   ]
  },
  {
   "cell_type": "code",
   "execution_count": 25,
   "metadata": {
    "ExecuteTime": {
     "end_time": "2021-01-21T18:19:25.257783Z",
     "start_time": "2021-01-21T18:19:25.119689Z"
    }
   },
   "outputs": [
    {
     "data": {
      "text/html": [
       "<div>\n",
       "<style scoped>\n",
       "    .dataframe tbody tr th:only-of-type {\n",
       "        vertical-align: middle;\n",
       "    }\n",
       "\n",
       "    .dataframe tbody tr th {\n",
       "        vertical-align: top;\n",
       "    }\n",
       "\n",
       "    .dataframe thead th {\n",
       "        text-align: right;\n",
       "    }\n",
       "</style>\n",
       "<table border=\"1\" class=\"dataframe\">\n",
       "  <thead>\n",
       "    <tr style=\"text-align: right;\">\n",
       "      <th></th>\n",
       "      <th>Sex_Encoded</th>\n",
       "      <th>Embarked_Encoded</th>\n",
       "      <th>SibSp</th>\n",
       "      <th>Parch</th>\n",
       "      <th>Age</th>\n",
       "      <th>Fare</th>\n",
       "    </tr>\n",
       "  </thead>\n",
       "  <tbody>\n",
       "    <tr>\n",
       "      <th>0</th>\n",
       "      <td>1</td>\n",
       "      <td>2</td>\n",
       "      <td>1</td>\n",
       "      <td>0</td>\n",
       "      <td>22.0</td>\n",
       "      <td>7.25</td>\n",
       "    </tr>\n",
       "    <tr>\n",
       "      <th>1</th>\n",
       "      <td>0</td>\n",
       "      <td>0</td>\n",
       "      <td>1</td>\n",
       "      <td>0</td>\n",
       "      <td>38.0</td>\n",
       "      <td>71.28</td>\n",
       "    </tr>\n",
       "    <tr>\n",
       "      <th>2</th>\n",
       "      <td>0</td>\n",
       "      <td>2</td>\n",
       "      <td>0</td>\n",
       "      <td>0</td>\n",
       "      <td>26.0</td>\n",
       "      <td>7.92</td>\n",
       "    </tr>\n",
       "    <tr>\n",
       "      <th>3</th>\n",
       "      <td>0</td>\n",
       "      <td>2</td>\n",
       "      <td>1</td>\n",
       "      <td>0</td>\n",
       "      <td>35.0</td>\n",
       "      <td>53.10</td>\n",
       "    </tr>\n",
       "    <tr>\n",
       "      <th>4</th>\n",
       "      <td>1</td>\n",
       "      <td>2</td>\n",
       "      <td>0</td>\n",
       "      <td>0</td>\n",
       "      <td>35.0</td>\n",
       "      <td>8.05</td>\n",
       "    </tr>\n",
       "    <tr>\n",
       "      <th>...</th>\n",
       "      <td>...</td>\n",
       "      <td>...</td>\n",
       "      <td>...</td>\n",
       "      <td>...</td>\n",
       "      <td>...</td>\n",
       "      <td>...</td>\n",
       "    </tr>\n",
       "    <tr>\n",
       "      <th>886</th>\n",
       "      <td>1</td>\n",
       "      <td>2</td>\n",
       "      <td>0</td>\n",
       "      <td>0</td>\n",
       "      <td>27.0</td>\n",
       "      <td>13.00</td>\n",
       "    </tr>\n",
       "    <tr>\n",
       "      <th>887</th>\n",
       "      <td>0</td>\n",
       "      <td>2</td>\n",
       "      <td>0</td>\n",
       "      <td>0</td>\n",
       "      <td>19.0</td>\n",
       "      <td>30.00</td>\n",
       "    </tr>\n",
       "    <tr>\n",
       "      <th>888</th>\n",
       "      <td>0</td>\n",
       "      <td>2</td>\n",
       "      <td>1</td>\n",
       "      <td>2</td>\n",
       "      <td>29.7</td>\n",
       "      <td>23.45</td>\n",
       "    </tr>\n",
       "    <tr>\n",
       "      <th>889</th>\n",
       "      <td>1</td>\n",
       "      <td>0</td>\n",
       "      <td>0</td>\n",
       "      <td>0</td>\n",
       "      <td>26.0</td>\n",
       "      <td>30.00</td>\n",
       "    </tr>\n",
       "    <tr>\n",
       "      <th>890</th>\n",
       "      <td>1</td>\n",
       "      <td>1</td>\n",
       "      <td>0</td>\n",
       "      <td>0</td>\n",
       "      <td>32.0</td>\n",
       "      <td>7.75</td>\n",
       "    </tr>\n",
       "  </tbody>\n",
       "</table>\n",
       "<p>820 rows × 6 columns</p>\n",
       "</div>"
      ],
      "text/plain": [
       "     Sex_Encoded  Embarked_Encoded  SibSp  Parch   Age   Fare\n",
       "0              1                 2      1      0  22.0   7.25\n",
       "1              0                 0      1      0  38.0  71.28\n",
       "2              0                 2      0      0  26.0   7.92\n",
       "3              0                 2      1      0  35.0  53.10\n",
       "4              1                 2      0      0  35.0   8.05\n",
       "..           ...               ...    ...    ...   ...    ...\n",
       "886            1                 2      0      0  27.0  13.00\n",
       "887            0                 2      0      0  19.0  30.00\n",
       "888            0                 2      1      2  29.7  23.45\n",
       "889            1                 0      0      0  26.0  30.00\n",
       "890            1                 1      0      0  32.0   7.75\n",
       "\n",
       "[820 rows x 6 columns]"
      ]
     },
     "execution_count": 25,
     "metadata": {},
     "output_type": "execute_result"
    }
   ],
   "source": [
    "X"
   ]
  },
  {
   "cell_type": "markdown",
   "metadata": {},
   "source": [
    "### Fitting the Training Data to Model"
   ]
  },
  {
   "cell_type": "markdown",
   "metadata": {},
   "source": [
    "#### Logistic Regression"
   ]
  },
  {
   "cell_type": "code",
   "execution_count": 26,
   "metadata": {
    "ExecuteTime": {
     "end_time": "2021-01-21T18:19:25.951667Z",
     "start_time": "2021-01-21T18:19:25.258671Z"
    }
   },
   "outputs": [
    {
     "name": "stdout",
     "output_type": "stream",
     "text": [
      "Accuracy on Training Set: 79.88\n",
      "Accuracy on Test Set: 75.61\n",
      "\n",
      "# ------- Feature Importance -------- #\n",
      "Feature: Sex_Encoded, Score: -2.5918894244117765\n",
      "Feature: Embarked_Encoded, Score: -0.19400033877818768\n",
      "Feature: SibSp, Score: -0.47834554713798944\n",
      "Feature: Parch, Score: 0.08975401284204235\n",
      "Feature: Age, Score: -0.028977295612450896\n",
      "Feature: Fare, Score: 0.0239048670543158\n"
     ]
    },
    {
     "data": {
      "image/png": "[encoded data removed]",
      "text/plain": [
       "<Figure size 720x360 with 1 Axes>"
      ]
     },
     "metadata": {},
     "output_type": "display_data"
    }
   ],
   "source": [
    "from sklearn.linear_model import LogisticRegression\n",
    "\n",
    "logreg = LogisticRegression(n_jobs=-1).fit(X_train, y_train)\n",
    "acc_logreg = logreg.score(X_train, y_train)*100\n",
    "acc_test_logreg = logreg.score(X_test, y_test)*100\n",
    "print(\"Accuracy on Training Set: {:.2f}\".format(acc_logreg))\n",
    "print(\"Accuracy on Test Set: {:.2f}\".format(acc_test_logreg))\n",
    "\n",
    "print(\"\\n# ------- Feature Importance -------- #\")\n",
    "importance = logreg.coef_[0]\n",
    "for idx, val in enumerate(importance):\n",
    "    col_name = X.iloc[:, idx].name\n",
    "    print(\"Feature: {}, Score: {}\".format(col_name, val))\n",
    "    \n",
    "plt.subplots(figsize=(10, 5))\n",
    "_ = plt.bar([X.iloc[:, x].name for x in range(len(importance))], importance)"
   ]
  },
  {
   "cell_type": "markdown",
   "metadata": {},
   "source": [
    "#### Decision Tree"
   ]
  },
  {
   "cell_type": "code",
   "execution_count": 27,
   "metadata": {
    "ExecuteTime": {
     "end_time": "2021-01-21T18:19:25.977048Z",
     "start_time": "2021-01-21T18:19:25.952822Z"
    }
   },
   "outputs": [
    {
     "name": "stdout",
     "output_type": "stream",
     "text": [
      "Accuracy on Training Set: 84.30\n",
      "Accuracy on Test Set: 76.83\n"
     ]
    }
   ],
   "source": [
    "from sklearn.tree import DecisionTreeClassifier\n",
    "\n",
    "tree = DecisionTreeClassifier(max_depth=4).fit(X_train, y_train)\n",
    "acc_tree = tree.score(X_train, y_train)*100\n",
    "acc_test_tree = tree.score(X_test, y_test)*100\n",
    "\n",
    "\n",
    "print(\"Accuracy on Training Set: {:.2f}\".format(acc_tree))\n",
    "print(\"Accuracy on Test Set: {:.2f}\".format(acc_test_tree))"
   ]
  },
  {
   "cell_type": "markdown",
   "metadata": {},
   "source": [
    "#### Polynomial Regression"
   ]
  },
  {
   "cell_type": "code",
   "execution_count": 28,
   "metadata": {
    "ExecuteTime": {
     "end_time": "2021-01-21T18:19:26.129944Z",
     "start_time": "2021-01-21T18:19:25.978899Z"
    }
   },
   "outputs": [
    {
     "name": "stdout",
     "output_type": "stream",
     "text": [
      "Accuracy on Training Set: 60.73\n"
     ]
    }
   ],
   "source": [
    "from sklearn.preprocessing import PolynomialFeatures\n",
    "from sklearn.linear_model import LinearRegression\n",
    "\n",
    "poly_reg = PolynomialFeatures(degree=4)\n",
    "X_poly = poly_reg.fit_transform(X_train)\n",
    "reg = LinearRegression()\n",
    "_ = reg.fit(X_poly, y_train)\n",
    "\n",
    "acc_poly = reg.score(X_poly, y_train)*100\n",
    "# acc_test_poly = reg.score(X_train, poly_reg.transform(X_test))*100\n",
    "\n",
    "print(\"Accuracy on Training Set: {:.2f}\".format(acc_poly))\n",
    "# print(\"Accuracy on Training Set: {:.2f}\".format(acc_test_poly))"
   ]
  },
  {
   "cell_type": "markdown",
   "metadata": {},
   "source": [
    "#### Random Forest"
   ]
  },
  {
   "cell_type": "code",
   "execution_count": 29,
   "metadata": {
    "ExecuteTime": {
     "end_time": "2021-01-21T18:19:26.615457Z",
     "start_time": "2021-01-21T18:19:26.131401Z"
    }
   },
   "outputs": [
    {
     "name": "stdout",
     "output_type": "stream",
     "text": [
      "Accuracy on Training Set: 82.62\n",
      "Accuracy on Test Set: 75.00\n"
     ]
    }
   ],
   "source": [
    "from sklearn.ensemble import RandomForestClassifier\n",
    "\n",
    "forest = RandomForestClassifier(n_estimators=200, max_depth=4, max_features=6, n_jobs=-1, max_leaf_nodes=5).fit(X_train, y_train)\n",
    "\n",
    "acc_forest = forest.score(X_train, y_train)*100\n",
    "acc_test_forest = forest.score(X_test, y_test)*100\n",
    "\n",
    "print(\"Accuracy on Training Set: {:.2f}\".format(acc_forest))\n",
    "print(\"Accuracy on Test Set: {:.2f}\".format(acc_test_forest))"
   ]
  },
  {
   "cell_type": "markdown",
   "metadata": {},
   "source": [
    "#### Gradient Boosting Classifier"
   ]
  },
  {
   "cell_type": "code",
   "execution_count": 30,
   "metadata": {
    "ExecuteTime": {
     "end_time": "2021-01-21T18:19:26.754826Z",
     "start_time": "2021-01-21T18:19:26.617203Z"
    }
   },
   "outputs": [
    {
     "name": "stdout",
     "output_type": "stream",
     "text": [
      "Accuracy on Training Set: 80.34\n",
      "Accuracy on Test Set: 75.00\n",
      "k-Fold Score: 77.32\n"
     ]
    }
   ],
   "source": [
    "from sklearn.ensemble import GradientBoostingClassifier\n",
    "\n",
    "gradient = GradientBoostingClassifier(criterion = \"friedman_mse\", \n",
    "                                      learning_rate = 0.15, \n",
    "                                      loss = \"deviance\", \n",
    "                                      max_depth = 5, \n",
    "                                      max_features = \"sqrt\", \n",
    "                                      min_samples_leaf = 0.1, \n",
    "                                      min_samples_split = 0.2090909090909091, \n",
    "                                      n_estimators = 10, \n",
    "                                      subsample = 0.8).fit(X, y)\n",
    "\n",
    "acc_gradient = gradient.score(X_train, y_train)*100\n",
    "acc_test_gradient = gradient.score(X_test, y_test)*100\n",
    "kfold_xgb = cross_val_score(estimator = gradient, X = X, y = y, cv = 10)\n",
    "kfold_xgb_mean = round(kfold_xgb.mean() * 100, 2)\n",
    "\n",
    "print(\"Accuracy on Training Set: {:.2f}\".format(acc_gradient))\n",
    "print(\"Accuracy on Test Set: {:.2f}\".format(acc_test_gradient))\n",
    "print(\"k-Fold Score: {:.2f}\".format(kfold_xgb_mean))"
   ]
  },
  {
   "cell_type": "markdown",
   "metadata": {},
   "source": [
    "#### K-Nearest Neighbors"
   ]
  },
  {
   "cell_type": "code",
   "execution_count": 31,
   "metadata": {
    "ExecuteTime": {
     "end_time": "2021-01-21T18:19:26.786281Z",
     "start_time": "2021-01-21T18:19:26.755922Z"
    }
   },
   "outputs": [
    {
     "name": "stdout",
     "output_type": "stream",
     "text": [
      "Accuracy on Training Set: 79.27\n",
      "Accuracy on Test Set: 70.73\n"
     ]
    }
   ],
   "source": [
    "from sklearn.neighbors import KNeighborsClassifier\n",
    "knn = KNeighborsClassifier(n_neighbors=6).fit(X_train, y_train)\n",
    "\n",
    "acc_knn = knn.score(X_train, y_train)*100\n",
    "acc_test_knn = knn.score(X_test, y_test)*100\n",
    "\n",
    "print(\"Accuracy on Training Set: {:.2f}\".format(acc_knn))\n",
    "print(\"Accuracy on Test Set: {:.2f}\".format(acc_test_knn))"
   ]
  },
  {
   "cell_type": "markdown",
   "metadata": {},
   "source": [
    "#### Linear SVC"
   ]
  },
  {
   "cell_type": "code",
   "execution_count": 32,
   "metadata": {
    "ExecuteTime": {
     "end_time": "2021-01-21T18:19:26.871542Z",
     "start_time": "2021-01-21T18:19:26.788267Z"
    }
   },
   "outputs": [
    {
     "name": "stdout",
     "output_type": "stream",
     "text": [
      "Accuracy on Training Set: 39.63\n",
      "Accuracy on Test Set: 37.80\n"
     ]
    },
    {
     "name": "stderr",
     "output_type": "stream",
     "text": [
      "/home/prince/Github/Kaggle Competitions/venv/lib/python3.8/site-packages/sklearn/svm/_base.py:985: ConvergenceWarning: Liblinear failed to converge, increase the number of iterations.\n",
      "  warnings.warn(\"Liblinear failed to converge, increase \"\n"
     ]
    }
   ],
   "source": [
    "from sklearn.svm import LinearSVC\n",
    "linear_svc = LinearSVC(C=4).fit(X_train, y_train)\n",
    "\n",
    "acc_linearSVC = linear_svc.score(X_train, y_train)*100\n",
    "acc_test_linearSVC = linear_svc.score(X_test, y_test)*100\n",
    "\n",
    "print(\"Accuracy on Training Set: {:.2f}\".format(acc_linearSVC))\n",
    "print(\"Accuracy on Test Set: {:.2f}\".format(acc_test_linearSVC))"
   ]
  },
  {
   "cell_type": "markdown",
   "metadata": {},
   "source": [
    "#### Ridge Classifier"
   ]
  },
  {
   "cell_type": "code",
   "execution_count": 33,
   "metadata": {
    "ExecuteTime": {
     "end_time": "2021-01-21T18:19:26.954287Z",
     "start_time": "2021-01-21T18:19:26.872647Z"
    }
   },
   "outputs": [
    {
     "name": "stdout",
     "output_type": "stream",
     "text": [
      "Accuracy on Training Set: 80.34\n",
      "Accuracy on Test Set: 74.39\n"
     ]
    }
   ],
   "source": [
    "from sklearn.linear_model import RidgeClassifier\n",
    "ridge = RidgeClassifier().fit(X_train, y_train)\n",
    "\n",
    "acc_ridge = ridge.score(X_train, y_train)*100\n",
    "acc_test_ridge = ridge.score(X_test, y_test)*100\n",
    "\n",
    "print(\"Accuracy on Training Set: {:.2f}\".format(acc_ridge))\n",
    "print(\"Accuracy on Test Set: {:.2f}\".format(acc_test_ridge))"
   ]
  },
  {
   "cell_type": "markdown",
   "metadata": {},
   "source": [
    "#### Support Vector Classifier"
   ]
  },
  {
   "cell_type": "code",
   "execution_count": 34,
   "metadata": {
    "ExecuteTime": {
     "end_time": "2021-01-21T18:19:27.083893Z",
     "start_time": "2021-01-21T18:19:26.955342Z"
    }
   },
   "outputs": [
    {
     "name": "stdout",
     "output_type": "stream",
     "text": [
      "Accuracy on Training Set: 60.37\n",
      "Accuracy on Test Set: 63.41\n"
     ]
    }
   ],
   "source": [
    "from sklearn.svm import SVC\n",
    "svc = SVC(C=0.01, gamma=10).fit(X_train, y_train)\n",
    "acc_svc = svc.score(X_train, y_train)*100\n",
    "acc_test_svc = svc.score(X_test, y_test)*100\n",
    "\n",
    "print(\"Accuracy on Training Set: {:.2f}\".format(acc_svc))\n",
    "print(\"Accuracy on Test Set: {:.2f}\".format(acc_test_svc))"
   ]
  },
  {
   "cell_type": "markdown",
   "metadata": {},
   "source": [
    "#### XGBoost Classifier"
   ]
  },
  {
   "cell_type": "code",
   "execution_count": 35,
   "metadata": {
    "ExecuteTime": {
     "end_time": "2021-01-21T18:19:27.487303Z",
     "start_time": "2021-01-21T18:19:27.085524Z"
    }
   },
   "outputs": [
    {
     "name": "stdout",
     "output_type": "stream",
     "text": [
      "[02:19:27] WARNING: ../src/learner.cc:1061: Starting in XGBoost 1.3.0, the default evaluation metric used with the objective 'binary:logistic' was changed from 'error' to 'logloss'. Explicitly set eval_metric if you'd like to restore the old behavior.\n"
     ]
    },
    {
     "name": "stderr",
     "output_type": "stream",
     "text": [
      "/home/prince/Github/Kaggle Competitions/venv/lib/python3.8/site-packages/xgboost/sklearn.py:892: UserWarning: The use of label encoder in XGBClassifier is deprecated and will be removed in a future release. To remove this warning, do the following: 1) Pass option use_label_encoder=False when constructing XGBClassifier object; and 2) Encode your labels (y) as integers starting with 0, i.e. 0, 1, 2, ..., [num_class - 1].\n",
      "  warnings.warn(label_encoder_deprecation_msg, UserWarning)\n"
     ]
    },
    {
     "name": "stdout",
     "output_type": "stream",
     "text": [
      "Accuracy on Training Set: 89.63\n",
      "Accuracy on Test Set: 79.88\n"
     ]
    }
   ],
   "source": [
    "from xgboost import XGBClassifier\n",
    "\n",
    "xg = XGBClassifier(min_child_weight=5, \n",
    "                   max_depth=15, \n",
    "                   learning_rate=0.15, \n",
    "                   gamma=0.4, \n",
    "                   colsample_bytree=0.7).fit(X_train, y_train)\n",
    "\n",
    "acc_xg = xg.score(X_train, y_train)*100\n",
    "acc_test_xg = xg.score(X_test, y_test)*100\n",
    "\n",
    "print(\"Accuracy on Training Set: {:.2f}\".format(acc_xg))\n",
    "print(\"Accuracy on Test Set: {:.2f}\".format(acc_test_xg))"
   ]
  },
  {
   "cell_type": "markdown",
   "metadata": {},
   "source": [
    "### Hyperparameter Tuning"
   ]
  },
  {
   "cell_type": "code",
   "execution_count": 36,
   "metadata": {
    "ExecuteTime": {
     "end_time": "2021-01-21T18:19:27.491992Z",
     "start_time": "2021-01-21T18:19:27.489210Z"
    }
   },
   "outputs": [],
   "source": [
    "cv_split = ShuffleSplit(n_splits = 10, \n",
    "                        test_size = .3, \n",
    "                        train_size = .6, \n",
    "                        random_state = 0 ) # run model 10x with 60/30 split intentionally leaving out 10%"
   ]
  },
  {
   "cell_type": "markdown",
   "metadata": {},
   "source": [
    "#### XGBoost"
   ]
  },
  {
   "cell_type": "code",
   "execution_count": 37,
   "metadata": {
    "ExecuteTime": {
     "end_time": "2021-01-21T18:22:59.270461Z",
     "start_time": "2021-01-21T18:19:27.493211Z"
    }
   },
   "outputs": [
    {
     "name": "stdout",
     "output_type": "stream",
     "text": [
      "Fitting 10 folds for each of 10 candidates, totalling 100 fits\n",
      "[02:22:59] WARNING: ../src/learner.cc:1061: Starting in XGBoost 1.3.0, the default evaluation metric used with the objective 'binary:logistic' was changed from 'error' to 'logloss'. Explicitly set eval_metric if you'd like to restore the old behavior.\n",
      "Best Accuracy: 85.44\n",
      "Best Parameters: {'min_child_weight': 3, 'max_depth': 4, 'learning_rate': 0.05, 'gamma': 0.0, 'colsample_bytree': 0.7}\n"
     ]
    },
    {
     "name": "stderr",
     "output_type": "stream",
     "text": [
      "/home/prince/Github/Kaggle Competitions/venv/lib/python3.8/site-packages/xgboost/sklearn.py:892: UserWarning: The use of label encoder in XGBClassifier is deprecated and will be removed in a future release. To remove this warning, do the following: 1) Pass option use_label_encoder=False when constructing XGBClassifier object; and 2) Encode your labels (y) as integers starting with 0, i.e. 0, 1, 2, ..., [num_class - 1].\n",
      "  warnings.warn(label_encoder_deprecation_msg, UserWarning)\n"
     ]
    }
   ],
   "source": [
    "from xgboost import XGBClassifier\n",
    "\n",
    "# Hyper Parameter Optimization\n",
    "params={\n",
    "    \"learning_rate\"    : [0.05, 0.10, 0.15, 0.20, 0.25, 0.30 ],\n",
    "    \"max_depth\"        : [ 3, 4, 5, 6, 8, 10, 12, 15],\n",
    "    \"min_child_weight\" : [ 1, 3, 5, 7 ],\n",
    "    \"gamma\"            : [ 0.0, 0.1, 0.2 , 0.3, 0.4 ],\n",
    "    \"colsample_bytree\" : [ 0.3, 0.4, 0.5 , 0.7 ]\n",
    "}\n",
    "\n",
    "random_search = RandomizedSearchCV(estimator = XGBClassifier(),\n",
    "                                 param_distributions = params,\n",
    "                                 scoring = \"roc_auc\",\n",
    "                                 cv = cv_split,\n",
    "                                 n_jobs = -1,\n",
    "                                 verbose = 2\n",
    "                                )\n",
    "random_search.fit(X, y)\n",
    "best_accuracy = random_search.best_score_\n",
    "best_params = random_search.best_params_\n",
    "print(\"Best Accuracy: {:.2f}\".format(best_accuracy*100))\n",
    "print(\"Best Parameters:\", best_params)"
   ]
  },
  {
   "cell_type": "markdown",
   "metadata": {
    "heading_collapsed": true
   },
   "source": [
    "##### Gradient Boosting"
   ]
  },
  {
   "cell_type": "code",
   "execution_count": 42,
   "metadata": {
    "ExecuteTime": {
     "end_time": "2021-01-08T06:18:59.751685Z",
     "start_time": "2021-01-08T05:57:29.864782Z"
    },
    "deletable": false,
    "editable": false,
    "hidden": true,
    "run_control": {
     "frozen": true
    }
   },
   "outputs": [
    {
     "name": "stdout",
     "output_type": "stream",
     "text": [
      "Fitting 5 folds for each of 84672 candidates, totalling 423360 fits\n",
      "Best Accuracy: 80.19\n",
      "Best Parameters: {'criterion': 'friedman_mse', 'learning_rate': 0.15, 'loss': 'deviance', 'max_depth': 5, 'max_features': 'sqrt', 'min_samples_leaf': 0.1, 'min_samples_split': 0.2090909090909091, 'n_estimators': 10, 'subsample': 0.8}\n"
     ]
    }
   ],
   "source": [
    "# Hyper Parameter Optimization\n",
    "parameters = {\n",
    "    \"loss\"               : [\"deviance\"],\n",
    "    \"learning_rate\"      : [0.01, 0.025, 0.05, 0.075, 0.1, 0.15, 0.2],\n",
    "    \"min_samples_split\"  : np.linspace(0.1, 0.5, 12),\n",
    "    \"min_samples_leaf\"   : np.linspace(0.1, 0.5, 12),\n",
    "    \"max_depth\"          : [3,5,8],\n",
    "    \"max_features\"       : [\"log2\",\"sqrt\"],\n",
    "    \"criterion\"          : [\"friedman_mse\",  \"mae\"],\n",
    "    \"subsample\"          : [0.5, 0.618, 0.8, 0.85, 0.9, 0.95, 1.0],\n",
    "    \"n_estimators\"       : [10]\n",
    "}\n",
    "\n",
    "grid_search = GridSearchCV(estimator = gradient,\n",
    "                           param_grid = parameters,\n",
    "                           cv = 5,\n",
    "                           scoring = \"accuracy\",\n",
    "                           n_jobs = -1,\n",
    "                           verbose = 2\n",
    "                          )\n",
    "grid_search.fit(X, y)\n",
    "best_accuracy = grid_search.best_score_\n",
    "best_params = grid_search.best_params_\n",
    "print(\"Best Accuracy: {:.2f}\".format(best_accuracy*100))\n",
    "print(\"Best Parameters:\", best_params)"
   ]
  },
  {
   "cell_type": "markdown",
   "metadata": {
    "hidden": true
   },
   "source": [
    "The above cell took 21 Minutes adn 30 Seconds to execute!"
   ]
  },
  {
   "cell_type": "code",
   "execution_count": 56,
   "metadata": {
    "ExecuteTime": {
     "end_time": "2021-01-21T18:09:32.518288Z",
     "start_time": "2021-01-21T18:09:31.973405Z"
    },
    "deletable": false,
    "editable": false,
    "hidden": true,
    "run_control": {
     "frozen": true
    }
   },
   "outputs": [
    {
     "name": "stdout",
     "output_type": "stream",
     "text": [
      "Fitting 10 folds for each of 10 candidates, totalling 100 fits\n",
      "Best Accuracy: 84.99\n",
      "Best Parameters: {'subsample': 0.85, 'n_estimators': 40, 'min_samples_split': 0.31818181818181823, 'min_samples_leaf': 0.1, 'max_features': 'sqrt', 'max_depth': 8, 'loss': 'deviance', 'learning_rate': 0.075, 'criterion': 'mae'}\n"
     ]
    },
    {
     "name": "stderr",
     "output_type": "stream",
     "text": [
      "/home/prince/Github/Kaggle Competitions/venv/lib/python3.8/site-packages/sklearn/ensemble/_gb.py:1118: FutureWarning: criterion='mae' was deprecated in version 0.24 and will be removed in version 1.1 (renaming of 0.26). Use criterion='friedman_mse' or 'mse' instead, as trees should use a least-square criterion in Gradient Boosting.\n",
      "  warnings.warn(\"criterion='mae' was deprecated in version 0.24 and \"\n"
     ]
    }
   ],
   "source": [
    "# Hyper Parameter Optimization\n",
    "parameters = {\n",
    "    \"loss\"               : [\"deviance\"],\n",
    "    \"learning_rate\"      : [0.01, 0.025, 0.05, 0.075, 0.1, 0.15, 0.2],\n",
    "    \"min_samples_split\"  : np.linspace(0.1, 0.5, 12),\n",
    "    \"min_samples_leaf\"   : np.linspace(0.1, 0.5, 12),\n",
    "    \"max_depth\"          : [1, 2, 3, 4, 5, 6, 7, 8],\n",
    "    \"max_features\"       : [\"log2\",\"sqrt\"],\n",
    "    \"criterion\"          : [\"friedman_mse\",  \"mae\"],\n",
    "    \"subsample\"          : [0.5, 0.618, 0.8, 0.85, 0.9, 0.95, 1.0],\n",
    "    \"n_estimators\"       : [5, 10, 15, 20, 25, 30, 35, 40]\n",
    "}\n",
    "\n",
    "random_search = RandomizedSearchCV(estimator = gradient,\n",
    "                                   param_distributions = parameters,\n",
    "                                   cv = cv_split,\n",
    "                                   scoring = \"roc_auc\",\n",
    "                                   n_jobs = -1,\n",
    "                                   verbose = 2\n",
    "                                  )\n",
    "random_search.fit(X, y)\n",
    "best_accuracy = random_search.best_score_\n",
    "best_params = random_search.best_params_\n",
    "print(\"Best Accuracy: {:.2f}\".format(best_accuracy*100))\n",
    "print(\"Best Parameters:\", best_params)"
   ]
  },
  {
   "cell_type": "markdown",
   "metadata": {
    "hidden": true
   },
   "source": [
    "This one only took 1.94 Seconds to execute as compared to GridSearchCV"
   ]
  },
  {
   "cell_type": "markdown",
   "metadata": {},
   "source": [
    "### Score Metrics"
   ]
  },
  {
   "cell_type": "code",
   "execution_count": 38,
   "metadata": {
    "ExecuteTime": {
     "end_time": "2021-01-21T18:22:59.276545Z",
     "start_time": "2021-01-21T18:22:59.271642Z"
    }
   },
   "outputs": [],
   "source": [
    "models = pd.DataFrame({\n",
    "    'Model': ['Support Vector Classifier', 'KNN', 'Logistic Regression', \n",
    "              'Random Forest', 'Linear SVC', 'Decision Tree', \"Ridge Regression\", \"Polynomial Regression\", \"Gradient Boosting Classifier\", \"XGBoost Classifer\"],\n",
    "    'Test Score': [acc_test_svc, acc_test_knn, acc_test_logreg, acc_test_forest, acc_test_linearSVC, acc_test_tree, acc_test_ridge, np.nan, acc_test_gradient, acc_test_xg],\n",
    "    'Train Score': [acc_svc, acc_knn, acc_logreg, acc_forest, acc_linearSVC, acc_tree, acc_ridge, acc_poly, acc_gradient, acc_xg]\n",
    "                     })\n",
    "sorted_models = models.sort_values(by=\"Test Score\", ascending=False).reset_index(drop=True)"
   ]
  },
  {
   "cell_type": "code",
   "execution_count": 39,
   "metadata": {
    "ExecuteTime": {
     "end_time": "2021-01-21T18:22:59.378726Z",
     "start_time": "2021-01-21T18:22:59.278024Z"
    },
    "scrolled": true
   },
   "outputs": [
    {
     "data": {
      "text/html": [
       "<div>\n",
       "<style scoped>\n",
       "    .dataframe tbody tr th:only-of-type {\n",
       "        vertical-align: middle;\n",
       "    }\n",
       "\n",
       "    .dataframe tbody tr th {\n",
       "        vertical-align: top;\n",
       "    }\n",
       "\n",
       "    .dataframe thead th {\n",
       "        text-align: right;\n",
       "    }\n",
       "</style>\n",
       "<table border=\"1\" class=\"dataframe\">\n",
       "  <thead>\n",
       "    <tr style=\"text-align: right;\">\n",
       "      <th></th>\n",
       "      <th>Model</th>\n",
       "      <th>Test Score</th>\n",
       "      <th>Train Score</th>\n",
       "    </tr>\n",
       "  </thead>\n",
       "  <tbody>\n",
       "    <tr>\n",
       "      <th>0</th>\n",
       "      <td>XGBoost Classifer</td>\n",
       "      <td>79.88</td>\n",
       "      <td>89.63</td>\n",
       "    </tr>\n",
       "    <tr>\n",
       "      <th>1</th>\n",
       "      <td>Decision Tree</td>\n",
       "      <td>76.83</td>\n",
       "      <td>84.30</td>\n",
       "    </tr>\n",
       "    <tr>\n",
       "      <th>2</th>\n",
       "      <td>Logistic Regression</td>\n",
       "      <td>75.61</td>\n",
       "      <td>79.88</td>\n",
       "    </tr>\n",
       "    <tr>\n",
       "      <th>3</th>\n",
       "      <td>Random Forest</td>\n",
       "      <td>75.00</td>\n",
       "      <td>82.62</td>\n",
       "    </tr>\n",
       "    <tr>\n",
       "      <th>4</th>\n",
       "      <td>Gradient Boosting Classifier</td>\n",
       "      <td>75.00</td>\n",
       "      <td>80.34</td>\n",
       "    </tr>\n",
       "    <tr>\n",
       "      <th>5</th>\n",
       "      <td>Ridge Regression</td>\n",
       "      <td>74.39</td>\n",
       "      <td>80.34</td>\n",
       "    </tr>\n",
       "    <tr>\n",
       "      <th>6</th>\n",
       "      <td>KNN</td>\n",
       "      <td>70.73</td>\n",
       "      <td>79.27</td>\n",
       "    </tr>\n",
       "    <tr>\n",
       "      <th>7</th>\n",
       "      <td>Support Vector Classifier</td>\n",
       "      <td>63.41</td>\n",
       "      <td>60.37</td>\n",
       "    </tr>\n",
       "    <tr>\n",
       "      <th>8</th>\n",
       "      <td>Linear SVC</td>\n",
       "      <td>37.80</td>\n",
       "      <td>39.63</td>\n",
       "    </tr>\n",
       "    <tr>\n",
       "      <th>9</th>\n",
       "      <td>Polynomial Regression</td>\n",
       "      <td>NaN</td>\n",
       "      <td>60.73</td>\n",
       "    </tr>\n",
       "  </tbody>\n",
       "</table>\n",
       "</div>"
      ],
      "text/plain": [
       "                          Model  Test Score  Train Score\n",
       "0             XGBoost Classifer       79.88        89.63\n",
       "1                 Decision Tree       76.83        84.30\n",
       "2           Logistic Regression       75.61        79.88\n",
       "3                 Random Forest       75.00        82.62\n",
       "4  Gradient Boosting Classifier       75.00        80.34\n",
       "5              Ridge Regression       74.39        80.34\n",
       "6                           KNN       70.73        79.27\n",
       "7     Support Vector Classifier       63.41        60.37\n",
       "8                    Linear SVC       37.80        39.63\n",
       "9         Polynomial Regression         NaN        60.73"
      ]
     },
     "execution_count": 39,
     "metadata": {},
     "output_type": "execute_result"
    }
   ],
   "source": [
    "sorted_models"
   ]
  },
  {
   "cell_type": "markdown",
   "metadata": {},
   "source": [
    "### Submission Predictions"
   ]
  },
  {
   "cell_type": "code",
   "execution_count": 40,
   "metadata": {
    "ExecuteTime": {
     "end_time": "2021-01-21T18:22:59.562381Z",
     "start_time": "2021-01-21T18:22:59.380038Z"
    }
   },
   "outputs": [],
   "source": [
    "predictions = random_search.predict(test_data[calc_titanic])"
   ]
  },
  {
   "cell_type": "code",
   "execution_count": 41,
   "metadata": {
    "ExecuteTime": {
     "end_time": "2021-01-21T18:22:59.682433Z",
     "start_time": "2021-01-21T18:22:59.563979Z"
    }
   },
   "outputs": [
    {
     "name": "stdout",
     "output_type": "stream",
     "text": [
      "Your submission was successfully saved!\n"
     ]
    }
   ],
   "source": [
    "output = pd.DataFrame({'PassengerId': test_data[\"PassengerId\"], 'Survived': predictions})\n",
    "output.to_csv('my_submission.csv', index=False)\n",
    "print(\"Your submission was successfully saved!\")"
   ]
  },
  {
   "cell_type": "markdown",
   "metadata": {
    "heading_collapsed": true
   },
   "source": [
    "## Visualizing Decision Tree"
   ]
  },
  {
   "cell_type": "code",
   "execution_count": 42,
   "metadata": {
    "ExecuteTime": {
     "end_time": "2021-01-21T18:22:59.802139Z",
     "start_time": "2021-01-21T18:22:59.684379Z"
    },
    "hidden": true
   },
   "outputs": [],
   "source": [
    "from sklearn.tree import export_graphviz\n",
    "feature_names=['Survived', 'Pclass', 'Sex', 'Age', 'SibSp','Parch', 'Fare', 'Embarked']\n",
    "export_graphviz(tree, out_file=\"tree.dot\", class_names=[\"Dead\", \"Alive\"], feature_names=X_train.columns, impurity=False, filled=True)"
   ]
  },
  {
   "cell_type": "code",
   "execution_count": 43,
   "metadata": {
    "ExecuteTime": {
     "end_time": "2021-01-21T18:23:00.178053Z",
     "start_time": "2021-01-21T18:22:59.803801Z"
    },
    "hidden": true
   },
   "outputs": [
    {
     "data": {
      "image/svg+xml": [
       "<?xml version=\"1.0\" encoding=\"UTF-8\" standalone=\"no\"?>\n",
       "<!DOCTYPE svg PUBLIC \"-//W3C//DTD SVG 1.1//EN\"\n",
       " \"http://www.w3.org/Graphics/SVG/1.1/DTD/svg11.dtd\">\n",
       "<!-- Generated by graphviz version 2.43.0 (0)\n",
       " -->\n",
       "<!-- Title: Tree Pages: 1 -->\n",
       "<svg width=\"1498pt\" height=\"477pt\"\n",
       " viewBox=\"0.00 0.00 1498.00 477.00\" xmlns=\"http://www.w3.org/2000/svg\" xmlns:xlink=\"http://www.w3.org/1999/xlink\">\n",
       "<g id=\"graph0\" class=\"graph\" transform=\"scale(1 1) rotate(0) translate(4 473)\">\n",
       "<title>Tree</title>\n",
       "<polygon fill=\"white\" stroke=\"transparent\" points=\"-4,4 -4,-473 1494,-473 1494,4 -4,4\"/>\n",
       "<!-- 0 -->\n",
       "<g id=\"node1\" class=\"node\">\n",
       "<title>0</title>\n",
       "<polygon fill=\"#f6d4bb\" stroke=\"black\" points=\"791,-469 624,-469 624,-401 791,-401 791,-469\"/>\n",
       "<text text-anchor=\"middle\" x=\"707.5\" y=\"-453.8\" font-family=\"Times,serif\" font-size=\"14.00\">Sex_Encoded &lt;= 0.5</text>\n",
       "<text text-anchor=\"middle\" x=\"707.5\" y=\"-438.8\" font-family=\"Times,serif\" font-size=\"14.00\">samples = 656</text>\n",
       "<text text-anchor=\"middle\" x=\"707.5\" y=\"-423.8\" font-family=\"Times,serif\" font-size=\"14.00\">value = [396, 260]</text>\n",
       "<text text-anchor=\"middle\" x=\"707.5\" y=\"-408.8\" font-family=\"Times,serif\" font-size=\"14.00\">class = Dead</text>\n",
       "</g>\n",
       "<!-- 1 -->\n",
       "<g id=\"node2\" class=\"node\">\n",
       "<title>1</title>\n",
       "<polygon fill=\"#6cb6ec\" stroke=\"black\" points=\"638.5,-365 498.5,-365 498.5,-297 638.5,-297 638.5,-365\"/>\n",
       "<text text-anchor=\"middle\" x=\"568.5\" y=\"-349.8\" font-family=\"Times,serif\" font-size=\"14.00\">Fare &lt;= 36.688</text>\n",
       "<text text-anchor=\"middle\" x=\"568.5\" y=\"-334.8\" font-family=\"Times,serif\" font-size=\"14.00\">samples = 221</text>\n",
       "<text text-anchor=\"middle\" x=\"568.5\" y=\"-319.8\" font-family=\"Times,serif\" font-size=\"14.00\">value = [45, 176]</text>\n",
       "<text text-anchor=\"middle\" x=\"568.5\" y=\"-304.8\" font-family=\"Times,serif\" font-size=\"14.00\">class = Alive</text>\n",
       "</g>\n",
       "<!-- 0&#45;&gt;1 -->\n",
       "<g id=\"edge1\" class=\"edge\">\n",
       "<title>0&#45;&gt;1</title>\n",
       "<path fill=\"none\" stroke=\"black\" d=\"M662.37,-400.88C649.5,-391.44 635.36,-381.06 622.04,-371.29\"/>\n",
       "<polygon fill=\"black\" stroke=\"black\" points=\"624.01,-368.39 613.88,-365.3 619.87,-374.04 624.01,-368.39\"/>\n",
       "<text text-anchor=\"middle\" x=\"617.67\" y=\"-386.31\" font-family=\"Times,serif\" font-size=\"14.00\">True</text>\n",
       "</g>\n",
       "<!-- 14 -->\n",
       "<g id=\"node15\" class=\"node\">\n",
       "<title>14</title>\n",
       "<polygon fill=\"#eb9f68\" stroke=\"black\" points=\"924.5,-365 784.5,-365 784.5,-297 924.5,-297 924.5,-365\"/>\n",
       "<text text-anchor=\"middle\" x=\"854.5\" y=\"-349.8\" font-family=\"Times,serif\" font-size=\"14.00\">Age &lt;= 9.5</text>\n",
       "<text text-anchor=\"middle\" x=\"854.5\" y=\"-334.8\" font-family=\"Times,serif\" font-size=\"14.00\">samples = 435</text>\n",
       "<text text-anchor=\"middle\" x=\"854.5\" y=\"-319.8\" font-family=\"Times,serif\" font-size=\"14.00\">value = [351, 84]</text>\n",
       "<text text-anchor=\"middle\" x=\"854.5\" y=\"-304.8\" font-family=\"Times,serif\" font-size=\"14.00\">class = Dead</text>\n",
       "</g>\n",
       "<!-- 0&#45;&gt;14 -->\n",
       "<g id=\"edge14\" class=\"edge\">\n",
       "<title>0&#45;&gt;14</title>\n",
       "<path fill=\"none\" stroke=\"black\" d=\"M755.23,-400.88C769.03,-391.3 784.23,-380.76 798.49,-370.86\"/>\n",
       "<polygon fill=\"black\" stroke=\"black\" points=\"800.54,-373.7 806.76,-365.12 796.55,-367.95 800.54,-373.7\"/>\n",
       "<text text-anchor=\"middle\" x=\"802.32\" y=\"-386.03\" font-family=\"Times,serif\" font-size=\"14.00\">False</text>\n",
       "</g>\n",
       "<!-- 2 -->\n",
       "<g id=\"node3\" class=\"node\">\n",
       "<title>2</title>\n",
       "<polygon fill=\"#84c2ef\" stroke=\"black\" points=\"429.5,-261 289.5,-261 289.5,-193 429.5,-193 429.5,-261\"/>\n",
       "<text text-anchor=\"middle\" x=\"359.5\" y=\"-245.8\" font-family=\"Times,serif\" font-size=\"14.00\">SibSp &lt;= 2.5</text>\n",
       "<text text-anchor=\"middle\" x=\"359.5\" y=\"-230.8\" font-family=\"Times,serif\" font-size=\"14.00\">samples = 156</text>\n",
       "<text text-anchor=\"middle\" x=\"359.5\" y=\"-215.8\" font-family=\"Times,serif\" font-size=\"14.00\">value = [43, 113]</text>\n",
       "<text text-anchor=\"middle\" x=\"359.5\" y=\"-200.8\" font-family=\"Times,serif\" font-size=\"14.00\">class = Alive</text>\n",
       "</g>\n",
       "<!-- 1&#45;&gt;2 -->\n",
       "<g id=\"edge2\" class=\"edge\">\n",
       "<title>1&#45;&gt;2</title>\n",
       "<path fill=\"none\" stroke=\"black\" d=\"M500.64,-296.88C480.19,-286.9 457.59,-275.87 436.58,-265.62\"/>\n",
       "<polygon fill=\"black\" stroke=\"black\" points=\"437.9,-262.37 427.37,-261.12 434.83,-268.66 437.9,-262.37\"/>\n",
       "</g>\n",
       "<!-- 9 -->\n",
       "<g id=\"node10\" class=\"node\">\n",
       "<title>9</title>\n",
       "<polygon fill=\"#3fa0e6\" stroke=\"black\" points=\"629.5,-261 507.5,-261 507.5,-193 629.5,-193 629.5,-261\"/>\n",
       "<text text-anchor=\"middle\" x=\"568.5\" y=\"-245.8\" font-family=\"Times,serif\" font-size=\"14.00\">Age &lt;= 2.5</text>\n",
       "<text text-anchor=\"middle\" x=\"568.5\" y=\"-230.8\" font-family=\"Times,serif\" font-size=\"14.00\">samples = 65</text>\n",
       "<text text-anchor=\"middle\" x=\"568.5\" y=\"-215.8\" font-family=\"Times,serif\" font-size=\"14.00\">value = [2, 63]</text>\n",
       "<text text-anchor=\"middle\" x=\"568.5\" y=\"-200.8\" font-family=\"Times,serif\" font-size=\"14.00\">class = Alive</text>\n",
       "</g>\n",
       "<!-- 1&#45;&gt;9 -->\n",
       "<g id=\"edge9\" class=\"edge\">\n",
       "<title>1&#45;&gt;9</title>\n",
       "<path fill=\"none\" stroke=\"black\" d=\"M568.5,-296.88C568.5,-288.78 568.5,-279.98 568.5,-271.47\"/>\n",
       "<polygon fill=\"black\" stroke=\"black\" points=\"572,-271.3 568.5,-261.3 565,-271.3 572,-271.3\"/>\n",
       "</g>\n",
       "<!-- 3 -->\n",
       "<g id=\"node4\" class=\"node\">\n",
       "<title>3</title>\n",
       "<polygon fill=\"#7dbfee\" stroke=\"black\" points=\"282.5,-157 142.5,-157 142.5,-89 282.5,-89 282.5,-157\"/>\n",
       "<text text-anchor=\"middle\" x=\"212.5\" y=\"-141.8\" font-family=\"Times,serif\" font-size=\"14.00\">Fare &lt;= 10.481</text>\n",
       "<text text-anchor=\"middle\" x=\"212.5\" y=\"-126.8\" font-family=\"Times,serif\" font-size=\"14.00\">samples = 149</text>\n",
       "<text text-anchor=\"middle\" x=\"212.5\" y=\"-111.8\" font-family=\"Times,serif\" font-size=\"14.00\">value = [38, 111]</text>\n",
       "<text text-anchor=\"middle\" x=\"212.5\" y=\"-96.8\" font-family=\"Times,serif\" font-size=\"14.00\">class = Alive</text>\n",
       "</g>\n",
       "<!-- 2&#45;&gt;3 -->\n",
       "<g id=\"edge3\" class=\"edge\">\n",
       "<title>2&#45;&gt;3</title>\n",
       "<path fill=\"none\" stroke=\"black\" d=\"M311.77,-192.88C297.97,-183.3 282.77,-172.76 268.51,-162.86\"/>\n",
       "<polygon fill=\"black\" stroke=\"black\" points=\"270.45,-159.95 260.24,-157.12 266.46,-165.7 270.45,-159.95\"/>\n",
       "</g>\n",
       "<!-- 6 -->\n",
       "<g id=\"node7\" class=\"node\">\n",
       "<title>6</title>\n",
       "<polygon fill=\"#efb388\" stroke=\"black\" points=\"418,-157 301,-157 301,-89 418,-89 418,-157\"/>\n",
       "<text text-anchor=\"middle\" x=\"359.5\" y=\"-141.8\" font-family=\"Times,serif\" font-size=\"14.00\">Age &lt;= 29.85</text>\n",
       "<text text-anchor=\"middle\" x=\"359.5\" y=\"-126.8\" font-family=\"Times,serif\" font-size=\"14.00\">samples = 7</text>\n",
       "<text text-anchor=\"middle\" x=\"359.5\" y=\"-111.8\" font-family=\"Times,serif\" font-size=\"14.00\">value = [5, 2]</text>\n",
       "<text text-anchor=\"middle\" x=\"359.5\" y=\"-96.8\" font-family=\"Times,serif\" font-size=\"14.00\">class = Dead</text>\n",
       "</g>\n",
       "<!-- 2&#45;&gt;6 -->\n",
       "<g id=\"edge6\" class=\"edge\">\n",
       "<title>2&#45;&gt;6</title>\n",
       "<path fill=\"none\" stroke=\"black\" d=\"M359.5,-192.88C359.5,-184.78 359.5,-175.98 359.5,-167.47\"/>\n",
       "<polygon fill=\"black\" stroke=\"black\" points=\"363,-167.3 359.5,-157.3 356,-167.3 363,-167.3\"/>\n",
       "</g>\n",
       "<!-- 4 -->\n",
       "<g id=\"node5\" class=\"node\">\n",
       "<title>4</title>\n",
       "<polygon fill=\"#b5daf5\" stroke=\"black\" points=\"131,-53 0,-53 0,0 131,0 131,-53\"/>\n",
       "<text text-anchor=\"middle\" x=\"65.5\" y=\"-37.8\" font-family=\"Times,serif\" font-size=\"14.00\">samples = 52</text>\n",
       "<text text-anchor=\"middle\" x=\"65.5\" y=\"-22.8\" font-family=\"Times,serif\" font-size=\"14.00\">value = [20, 32]</text>\n",
       "<text text-anchor=\"middle\" x=\"65.5\" y=\"-7.8\" font-family=\"Times,serif\" font-size=\"14.00\">class = Alive</text>\n",
       "</g>\n",
       "<!-- 3&#45;&gt;4 -->\n",
       "<g id=\"edge4\" class=\"edge\">\n",
       "<title>3&#45;&gt;4</title>\n",
       "<path fill=\"none\" stroke=\"black\" d=\"M161.09,-88.95C145.86,-79.16 129.24,-68.48 114.19,-58.8\"/>\n",
       "<polygon fill=\"black\" stroke=\"black\" points=\"115.84,-55.7 105.53,-53.24 112.05,-61.59 115.84,-55.7\"/>\n",
       "</g>\n",
       "<!-- 5 -->\n",
       "<g id=\"node6\" class=\"node\">\n",
       "<title>5</title>\n",
       "<polygon fill=\"#66b3eb\" stroke=\"black\" points=\"280,-53 149,-53 149,0 280,0 280,-53\"/>\n",
       "<text text-anchor=\"middle\" x=\"214.5\" y=\"-37.8\" font-family=\"Times,serif\" font-size=\"14.00\">samples = 97</text>\n",
       "<text text-anchor=\"middle\" x=\"214.5\" y=\"-22.8\" font-family=\"Times,serif\" font-size=\"14.00\">value = [18, 79]</text>\n",
       "<text text-anchor=\"middle\" x=\"214.5\" y=\"-7.8\" font-family=\"Times,serif\" font-size=\"14.00\">class = Alive</text>\n",
       "</g>\n",
       "<!-- 3&#45;&gt;5 -->\n",
       "<g id=\"edge5\" class=\"edge\">\n",
       "<title>3&#45;&gt;5</title>\n",
       "<path fill=\"none\" stroke=\"black\" d=\"M213.2,-88.95C213.37,-80.72 213.56,-71.85 213.74,-63.48\"/>\n",
       "<polygon fill=\"black\" stroke=\"black\" points=\"217.24,-63.31 213.96,-53.24 210.24,-63.16 217.24,-63.31\"/>\n",
       "</g>\n",
       "<!-- 7 -->\n",
       "<g id=\"node8\" class=\"node\">\n",
       "<title>7</title>\n",
       "<polygon fill=\"#e58139\" stroke=\"black\" points=\"414,-53 301,-53 301,0 414,0 414,-53\"/>\n",
       "<text text-anchor=\"middle\" x=\"357.5\" y=\"-37.8\" font-family=\"Times,serif\" font-size=\"14.00\">samples = 5</text>\n",
       "<text text-anchor=\"middle\" x=\"357.5\" y=\"-22.8\" font-family=\"Times,serif\" font-size=\"14.00\">value = [5, 0]</text>\n",
       "<text text-anchor=\"middle\" x=\"357.5\" y=\"-7.8\" font-family=\"Times,serif\" font-size=\"14.00\">class = Dead</text>\n",
       "</g>\n",
       "<!-- 6&#45;&gt;7 -->\n",
       "<g id=\"edge7\" class=\"edge\">\n",
       "<title>6&#45;&gt;7</title>\n",
       "<path fill=\"none\" stroke=\"black\" d=\"M358.8,-88.95C358.63,-80.72 358.44,-71.85 358.26,-63.48\"/>\n",
       "<polygon fill=\"black\" stroke=\"black\" points=\"361.76,-63.16 358.04,-53.24 354.76,-63.31 361.76,-63.16\"/>\n",
       "</g>\n",
       "<!-- 8 -->\n",
       "<g id=\"node9\" class=\"node\">\n",
       "<title>8</title>\n",
       "<polygon fill=\"#399de5\" stroke=\"black\" points=\"545,-53 432,-53 432,0 545,0 545,-53\"/>\n",
       "<text text-anchor=\"middle\" x=\"488.5\" y=\"-37.8\" font-family=\"Times,serif\" font-size=\"14.00\">samples = 2</text>\n",
       "<text text-anchor=\"middle\" x=\"488.5\" y=\"-22.8\" font-family=\"Times,serif\" font-size=\"14.00\">value = [0, 2]</text>\n",
       "<text text-anchor=\"middle\" x=\"488.5\" y=\"-7.8\" font-family=\"Times,serif\" font-size=\"14.00\">class = Alive</text>\n",
       "</g>\n",
       "<!-- 6&#45;&gt;8 -->\n",
       "<g id=\"edge8\" class=\"edge\">\n",
       "<title>6&#45;&gt;8</title>\n",
       "<path fill=\"none\" stroke=\"black\" d=\"M404.62,-88.95C417.73,-79.34 432.02,-68.87 445.03,-59.34\"/>\n",
       "<polygon fill=\"black\" stroke=\"black\" points=\"447.37,-61.97 453.37,-53.24 443.23,-56.32 447.37,-61.97\"/>\n",
       "</g>\n",
       "<!-- 10 -->\n",
       "<g id=\"node11\" class=\"node\">\n",
       "<title>10</title>\n",
       "<polygon fill=\"#e58139\" stroke=\"black\" points=\"549,-149.5 436,-149.5 436,-96.5 549,-96.5 549,-149.5\"/>\n",
       "<text text-anchor=\"middle\" x=\"492.5\" y=\"-134.3\" font-family=\"Times,serif\" font-size=\"14.00\">samples = 1</text>\n",
       "<text text-anchor=\"middle\" x=\"492.5\" y=\"-119.3\" font-family=\"Times,serif\" font-size=\"14.00\">value = [1, 0]</text>\n",
       "<text text-anchor=\"middle\" x=\"492.5\" y=\"-104.3\" font-family=\"Times,serif\" font-size=\"14.00\">class = Dead</text>\n",
       "</g>\n",
       "<!-- 9&#45;&gt;10 -->\n",
       "<g id=\"edge10\" class=\"edge\">\n",
       "<title>9&#45;&gt;10</title>\n",
       "<path fill=\"none\" stroke=\"black\" d=\"M543.82,-192.88C535.47,-181.67 526.12,-169.13 517.72,-157.85\"/>\n",
       "<polygon fill=\"black\" stroke=\"black\" points=\"520.3,-155.45 511.51,-149.52 514.68,-159.63 520.3,-155.45\"/>\n",
       "</g>\n",
       "<!-- 11 -->\n",
       "<g id=\"node12\" class=\"node\">\n",
       "<title>11</title>\n",
       "<polygon fill=\"#3c9fe5\" stroke=\"black\" points=\"707.5,-157 567.5,-157 567.5,-89 707.5,-89 707.5,-157\"/>\n",
       "<text text-anchor=\"middle\" x=\"637.5\" y=\"-141.8\" font-family=\"Times,serif\" font-size=\"14.00\">Fare &lt;= 149.035</text>\n",
       "<text text-anchor=\"middle\" x=\"637.5\" y=\"-126.8\" font-family=\"Times,serif\" font-size=\"14.00\">samples = 64</text>\n",
       "<text text-anchor=\"middle\" x=\"637.5\" y=\"-111.8\" font-family=\"Times,serif\" font-size=\"14.00\">value = [1, 63]</text>\n",
       "<text text-anchor=\"middle\" x=\"637.5\" y=\"-96.8\" font-family=\"Times,serif\" font-size=\"14.00\">class = Alive</text>\n",
       "</g>\n",
       "<!-- 9&#45;&gt;11 -->\n",
       "<g id=\"edge11\" class=\"edge\">\n",
       "<title>9&#45;&gt;11</title>\n",
       "<path fill=\"none\" stroke=\"black\" d=\"M590.9,-192.88C596.75,-184.24 603.12,-174.82 609.23,-165.79\"/>\n",
       "<polygon fill=\"black\" stroke=\"black\" points=\"612.27,-167.54 614.97,-157.3 606.47,-163.62 612.27,-167.54\"/>\n",
       "</g>\n",
       "<!-- 12 -->\n",
       "<g id=\"node13\" class=\"node\">\n",
       "<title>12</title>\n",
       "<polygon fill=\"#399de5\" stroke=\"black\" points=\"692.5,-53 570.5,-53 570.5,0 692.5,0 692.5,-53\"/>\n",
       "<text text-anchor=\"middle\" x=\"631.5\" y=\"-37.8\" font-family=\"Times,serif\" font-size=\"14.00\">samples = 58</text>\n",
       "<text text-anchor=\"middle\" x=\"631.5\" y=\"-22.8\" font-family=\"Times,serif\" font-size=\"14.00\">value = [0, 58]</text>\n",
       "<text text-anchor=\"middle\" x=\"631.5\" y=\"-7.8\" font-family=\"Times,serif\" font-size=\"14.00\">class = Alive</text>\n",
       "</g>\n",
       "<!-- 11&#45;&gt;12 -->\n",
       "<g id=\"edge12\" class=\"edge\">\n",
       "<title>11&#45;&gt;12</title>\n",
       "<path fill=\"none\" stroke=\"black\" d=\"M635.4,-88.95C634.88,-80.72 634.32,-71.85 633.78,-63.48\"/>\n",
       "<polygon fill=\"black\" stroke=\"black\" points=\"637.26,-62.99 633.13,-53.24 630.27,-63.44 637.26,-62.99\"/>\n",
       "</g>\n",
       "<!-- 13 -->\n",
       "<g id=\"node14\" class=\"node\">\n",
       "<title>13</title>\n",
       "<polygon fill=\"#61b1ea\" stroke=\"black\" points=\"824,-53 711,-53 711,0 824,0 824,-53\"/>\n",
       "<text text-anchor=\"middle\" x=\"767.5\" y=\"-37.8\" font-family=\"Times,serif\" font-size=\"14.00\">samples = 6</text>\n",
       "<text text-anchor=\"middle\" x=\"767.5\" y=\"-22.8\" font-family=\"Times,serif\" font-size=\"14.00\">value = [1, 5]</text>\n",
       "<text text-anchor=\"middle\" x=\"767.5\" y=\"-7.8\" font-family=\"Times,serif\" font-size=\"14.00\">class = Alive</text>\n",
       "</g>\n",
       "<!-- 11&#45;&gt;13 -->\n",
       "<g id=\"edge13\" class=\"edge\">\n",
       "<title>11&#45;&gt;13</title>\n",
       "<path fill=\"none\" stroke=\"black\" d=\"M682.97,-88.95C696.18,-79.34 710.58,-68.87 723.69,-59.34\"/>\n",
       "<polygon fill=\"black\" stroke=\"black\" points=\"726.06,-61.95 732.1,-53.24 721.95,-56.29 726.06,-61.95\"/>\n",
       "</g>\n",
       "<!-- 15 -->\n",
       "<g id=\"node16\" class=\"node\">\n",
       "<title>15</title>\n",
       "<polygon fill=\"#50a9e8\" stroke=\"black\" points=\"915.5,-261 793.5,-261 793.5,-193 915.5,-193 915.5,-261\"/>\n",
       "<text text-anchor=\"middle\" x=\"854.5\" y=\"-245.8\" font-family=\"Times,serif\" font-size=\"14.00\">SibSp &lt;= 2.5</text>\n",
       "<text text-anchor=\"middle\" x=\"854.5\" y=\"-230.8\" font-family=\"Times,serif\" font-size=\"14.00\">samples = 19</text>\n",
       "<text text-anchor=\"middle\" x=\"854.5\" y=\"-215.8\" font-family=\"Times,serif\" font-size=\"14.00\">value = [2, 17]</text>\n",
       "<text text-anchor=\"middle\" x=\"854.5\" y=\"-200.8\" font-family=\"Times,serif\" font-size=\"14.00\">class = Alive</text>\n",
       "</g>\n",
       "<!-- 14&#45;&gt;15 -->\n",
       "<g id=\"edge15\" class=\"edge\">\n",
       "<title>14&#45;&gt;15</title>\n",
       "<path fill=\"none\" stroke=\"black\" d=\"M854.5,-296.88C854.5,-288.78 854.5,-279.98 854.5,-271.47\"/>\n",
       "<polygon fill=\"black\" stroke=\"black\" points=\"858,-271.3 854.5,-261.3 851,-271.3 858,-271.3\"/>\n",
       "</g>\n",
       "<!-- 18 -->\n",
       "<g id=\"node19\" class=\"node\">\n",
       "<title>18</title>\n",
       "<polygon fill=\"#ea995f\" stroke=\"black\" points=\"1174.5,-261 1034.5,-261 1034.5,-193 1174.5,-193 1174.5,-261\"/>\n",
       "<text text-anchor=\"middle\" x=\"1104.5\" y=\"-245.8\" font-family=\"Times,serif\" font-size=\"14.00\">Fare &lt;= 26.269</text>\n",
       "<text text-anchor=\"middle\" x=\"1104.5\" y=\"-230.8\" font-family=\"Times,serif\" font-size=\"14.00\">samples = 416</text>\n",
       "<text text-anchor=\"middle\" x=\"1104.5\" y=\"-215.8\" font-family=\"Times,serif\" font-size=\"14.00\">value = [349, 67]</text>\n",
       "<text text-anchor=\"middle\" x=\"1104.5\" y=\"-200.8\" font-family=\"Times,serif\" font-size=\"14.00\">class = Dead</text>\n",
       "</g>\n",
       "<!-- 14&#45;&gt;18 -->\n",
       "<g id=\"edge18\" class=\"edge\">\n",
       "<title>14&#45;&gt;18</title>\n",
       "<path fill=\"none\" stroke=\"black\" d=\"M924.8,-301.32C955.96,-288.61 992.76,-273.59 1024.91,-260.47\"/>\n",
       "<polygon fill=\"black\" stroke=\"black\" points=\"1026.35,-263.66 1034.29,-256.65 1023.71,-257.18 1026.35,-263.66\"/>\n",
       "</g>\n",
       "<!-- 16 -->\n",
       "<g id=\"node17\" class=\"node\">\n",
       "<title>16</title>\n",
       "<polygon fill=\"#399de5\" stroke=\"black\" points=\"847.5,-149.5 725.5,-149.5 725.5,-96.5 847.5,-96.5 847.5,-149.5\"/>\n",
       "<text text-anchor=\"middle\" x=\"786.5\" y=\"-134.3\" font-family=\"Times,serif\" font-size=\"14.00\">samples = 17</text>\n",
       "<text text-anchor=\"middle\" x=\"786.5\" y=\"-119.3\" font-family=\"Times,serif\" font-size=\"14.00\">value = [0, 17]</text>\n",
       "<text text-anchor=\"middle\" x=\"786.5\" y=\"-104.3\" font-family=\"Times,serif\" font-size=\"14.00\">class = Alive</text>\n",
       "</g>\n",
       "<!-- 15&#45;&gt;16 -->\n",
       "<g id=\"edge16\" class=\"edge\">\n",
       "<title>15&#45;&gt;16</title>\n",
       "<path fill=\"none\" stroke=\"black\" d=\"M832.42,-192.88C824.94,-181.67 816.58,-169.13 809.07,-157.85\"/>\n",
       "<polygon fill=\"black\" stroke=\"black\" points=\"811.97,-155.9 803.51,-149.52 806.15,-159.78 811.97,-155.9\"/>\n",
       "</g>\n",
       "<!-- 17 -->\n",
       "<g id=\"node18\" class=\"node\">\n",
       "<title>17</title>\n",
       "<polygon fill=\"#e58139\" stroke=\"black\" points=\"979,-149.5 866,-149.5 866,-96.5 979,-96.5 979,-149.5\"/>\n",
       "<text text-anchor=\"middle\" x=\"922.5\" y=\"-134.3\" font-family=\"Times,serif\" font-size=\"14.00\">samples = 2</text>\n",
       "<text text-anchor=\"middle\" x=\"922.5\" y=\"-119.3\" font-family=\"Times,serif\" font-size=\"14.00\">value = [2, 0]</text>\n",
       "<text text-anchor=\"middle\" x=\"922.5\" y=\"-104.3\" font-family=\"Times,serif\" font-size=\"14.00\">class = Dead</text>\n",
       "</g>\n",
       "<!-- 15&#45;&gt;17 -->\n",
       "<g id=\"edge17\" class=\"edge\">\n",
       "<title>15&#45;&gt;17</title>\n",
       "<path fill=\"none\" stroke=\"black\" d=\"M876.58,-192.88C884.06,-181.67 892.42,-169.13 899.93,-157.85\"/>\n",
       "<polygon fill=\"black\" stroke=\"black\" points=\"902.85,-159.78 905.49,-149.52 897.03,-155.9 902.85,-159.78\"/>\n",
       "</g>\n",
       "<!-- 19 -->\n",
       "<g id=\"node20\" class=\"node\">\n",
       "<title>19</title>\n",
       "<polygon fill=\"#e89051\" stroke=\"black\" points=\"1211.5,-157 997.5,-157 997.5,-89 1211.5,-89 1211.5,-157\"/>\n",
       "<text text-anchor=\"middle\" x=\"1104.5\" y=\"-141.8\" font-family=\"Times,serif\" font-size=\"14.00\">Embarked_Encoded &lt;= 0.5</text>\n",
       "<text text-anchor=\"middle\" x=\"1104.5\" y=\"-126.8\" font-family=\"Times,serif\" font-size=\"14.00\">samples = 323</text>\n",
       "<text text-anchor=\"middle\" x=\"1104.5\" y=\"-111.8\" font-family=\"Times,serif\" font-size=\"14.00\">value = [288, 35]</text>\n",
       "<text text-anchor=\"middle\" x=\"1104.5\" y=\"-96.8\" font-family=\"Times,serif\" font-size=\"14.00\">class = Dead</text>\n",
       "</g>\n",
       "<!-- 18&#45;&gt;19 -->\n",
       "<g id=\"edge19\" class=\"edge\">\n",
       "<title>18&#45;&gt;19</title>\n",
       "<path fill=\"none\" stroke=\"black\" d=\"M1104.5,-192.88C1104.5,-184.78 1104.5,-175.98 1104.5,-167.47\"/>\n",
       "<polygon fill=\"black\" stroke=\"black\" points=\"1108,-167.3 1104.5,-157.3 1101,-167.3 1108,-167.3\"/>\n",
       "</g>\n",
       "<!-- 22 -->\n",
       "<g id=\"node23\" class=\"node\">\n",
       "<title>22</title>\n",
       "<polygon fill=\"#f3c3a1\" stroke=\"black\" points=\"1361,-157 1230,-157 1230,-89 1361,-89 1361,-157\"/>\n",
       "<text text-anchor=\"middle\" x=\"1295.5\" y=\"-141.8\" font-family=\"Times,serif\" font-size=\"14.00\">Fare &lt;= 26.469</text>\n",
       "<text text-anchor=\"middle\" x=\"1295.5\" y=\"-126.8\" font-family=\"Times,serif\" font-size=\"14.00\">samples = 93</text>\n",
       "<text text-anchor=\"middle\" x=\"1295.5\" y=\"-111.8\" font-family=\"Times,serif\" font-size=\"14.00\">value = [61, 32]</text>\n",
       "<text text-anchor=\"middle\" x=\"1295.5\" y=\"-96.8\" font-family=\"Times,serif\" font-size=\"14.00\">class = Dead</text>\n",
       "</g>\n",
       "<!-- 18&#45;&gt;22 -->\n",
       "<g id=\"edge22\" class=\"edge\">\n",
       "<title>18&#45;&gt;22</title>\n",
       "<path fill=\"none\" stroke=\"black\" d=\"M1166.51,-192.88C1185.04,-182.99 1205.49,-172.07 1224.54,-161.9\"/>\n",
       "<polygon fill=\"black\" stroke=\"black\" points=\"1226.3,-164.92 1233.47,-157.12 1223,-158.75 1226.3,-164.92\"/>\n",
       "</g>\n",
       "<!-- 20 -->\n",
       "<g id=\"node21\" class=\"node\">\n",
       "<title>20</title>\n",
       "<polygon fill=\"#eda876\" stroke=\"black\" points=\"1028.5,-53 906.5,-53 906.5,0 1028.5,0 1028.5,-53\"/>\n",
       "<text text-anchor=\"middle\" x=\"967.5\" y=\"-37.8\" font-family=\"Times,serif\" font-size=\"14.00\">samples = 38</text>\n",
       "<text text-anchor=\"middle\" x=\"967.5\" y=\"-22.8\" font-family=\"Times,serif\" font-size=\"14.00\">value = [29, 9]</text>\n",
       "<text text-anchor=\"middle\" x=\"967.5\" y=\"-7.8\" font-family=\"Times,serif\" font-size=\"14.00\">class = Dead</text>\n",
       "</g>\n",
       "<!-- 19&#45;&gt;20 -->\n",
       "<g id=\"edge20\" class=\"edge\">\n",
       "<title>19&#45;&gt;20</title>\n",
       "<path fill=\"none\" stroke=\"black\" d=\"M1056.58,-88.95C1042.53,-79.25 1027.19,-68.68 1013.27,-59.07\"/>\n",
       "<polygon fill=\"black\" stroke=\"black\" points=\"1015.03,-56.03 1004.81,-53.24 1011.06,-61.8 1015.03,-56.03\"/>\n",
       "</g>\n",
       "<!-- 21 -->\n",
       "<g id=\"node22\" class=\"node\">\n",
       "<title>21</title>\n",
       "<polygon fill=\"#e88e4d\" stroke=\"black\" points=\"1186.5,-53 1046.5,-53 1046.5,0 1186.5,0 1186.5,-53\"/>\n",
       "<text text-anchor=\"middle\" x=\"1116.5\" y=\"-37.8\" font-family=\"Times,serif\" font-size=\"14.00\">samples = 285</text>\n",
       "<text text-anchor=\"middle\" x=\"1116.5\" y=\"-22.8\" font-family=\"Times,serif\" font-size=\"14.00\">value = [259, 26]</text>\n",
       "<text text-anchor=\"middle\" x=\"1116.5\" y=\"-7.8\" font-family=\"Times,serif\" font-size=\"14.00\">class = Dead</text>\n",
       "</g>\n",
       "<!-- 19&#45;&gt;21 -->\n",
       "<g id=\"edge21\" class=\"edge\">\n",
       "<title>19&#45;&gt;21</title>\n",
       "<path fill=\"none\" stroke=\"black\" d=\"M1108.7,-88.95C1109.75,-80.62 1110.89,-71.65 1111.97,-63.2\"/>\n",
       "<polygon fill=\"black\" stroke=\"black\" points=\"1115.44,-63.6 1113.23,-53.24 1108.5,-62.72 1115.44,-63.6\"/>\n",
       "</g>\n",
       "<!-- 23 -->\n",
       "<g id=\"node24\" class=\"node\">\n",
       "<title>23</title>\n",
       "<polygon fill=\"#399de5\" stroke=\"black\" points=\"1341,-53 1228,-53 1228,0 1341,0 1341,-53\"/>\n",
       "<text text-anchor=\"middle\" x=\"1284.5\" y=\"-37.8\" font-family=\"Times,serif\" font-size=\"14.00\">samples = 3</text>\n",
       "<text text-anchor=\"middle\" x=\"1284.5\" y=\"-22.8\" font-family=\"Times,serif\" font-size=\"14.00\">value = [0, 3]</text>\n",
       "<text text-anchor=\"middle\" x=\"1284.5\" y=\"-7.8\" font-family=\"Times,serif\" font-size=\"14.00\">class = Alive</text>\n",
       "</g>\n",
       "<!-- 22&#45;&gt;23 -->\n",
       "<g id=\"edge23\" class=\"edge\">\n",
       "<title>22&#45;&gt;23</title>\n",
       "<path fill=\"none\" stroke=\"black\" d=\"M1291.65,-88.95C1290.68,-80.62 1289.64,-71.65 1288.66,-63.2\"/>\n",
       "<polygon fill=\"black\" stroke=\"black\" points=\"1292.13,-62.76 1287.5,-53.24 1285.18,-63.57 1292.13,-62.76\"/>\n",
       "</g>\n",
       "<!-- 24 -->\n",
       "<g id=\"node25\" class=\"node\">\n",
       "<title>24</title>\n",
       "<polygon fill=\"#f1bd97\" stroke=\"black\" points=\"1490,-53 1359,-53 1359,0 1490,0 1490,-53\"/>\n",
       "<text text-anchor=\"middle\" x=\"1424.5\" y=\"-37.8\" font-family=\"Times,serif\" font-size=\"14.00\">samples = 90</text>\n",
       "<text text-anchor=\"middle\" x=\"1424.5\" y=\"-22.8\" font-family=\"Times,serif\" font-size=\"14.00\">value = [61, 29]</text>\n",
       "<text text-anchor=\"middle\" x=\"1424.5\" y=\"-7.8\" font-family=\"Times,serif\" font-size=\"14.00\">class = Dead</text>\n",
       "</g>\n",
       "<!-- 22&#45;&gt;24 -->\n",
       "<g id=\"edge24\" class=\"edge\">\n",
       "<title>22&#45;&gt;24</title>\n",
       "<path fill=\"none\" stroke=\"black\" d=\"M1340.62,-88.95C1353.73,-79.34 1368.02,-68.87 1381.03,-59.34\"/>\n",
       "<polygon fill=\"black\" stroke=\"black\" points=\"1383.37,-61.97 1389.37,-53.24 1379.23,-56.32 1383.37,-61.97\"/>\n",
       "</g>\n",
       "</g>\n",
       "</svg>\n"
      ],
      "text/plain": [
       "<graphviz.files.Source at 0x7f99ff6ff550>"
      ]
     },
     "execution_count": 43,
     "metadata": {},
     "output_type": "execute_result"
    }
   ],
   "source": [
    "import graphviz\n",
    "with open(\"tree.dot\") as f:\n",
    "    dot_graph = f.read()\n",
    "graphviz.Source(dot_graph)"
   ]
  },
  {
   "cell_type": "code",
   "execution_count": 44,
   "metadata": {
    "ExecuteTime": {
     "end_time": "2021-01-21T18:23:00.186044Z",
     "start_time": "2021-01-21T18:23:00.180540Z"
    },
    "hidden": true
   },
   "outputs": [],
   "source": [
    "def plot_feature_importance(model):\n",
    "    n_features = X.shape[1]\n",
    "    plt.barh(np.arange(n_features), model.feature_importances_, align=\"center\")\n",
    "    plt.yticks(np.arange(n_features), feature_names)\n",
    "    plt.xlabel(\"Feature Importance\")\n",
    "    plt.ylabel(\"Feature Names\")"
   ]
  },
  {
   "cell_type": "code",
   "execution_count": 45,
   "metadata": {
    "ExecuteTime": {
     "end_time": "2021-01-21T18:23:00.279337Z",
     "start_time": "2021-01-21T18:23:00.187761Z"
    },
    "hidden": true
   },
   "outputs": [],
   "source": [
    "# plot_feature_importance(tree)"
   ]
  },
  {
   "cell_type": "markdown",
   "metadata": {
    "heading_collapsed": true
   },
   "source": [
    "## Visualizing Random Forest"
   ]
  },
  {
   "cell_type": "code",
   "execution_count": 46,
   "metadata": {
    "ExecuteTime": {
     "end_time": "2021-01-21T18:23:00.370909Z",
     "start_time": "2021-01-21T18:23:00.281149Z"
    },
    "hidden": true
   },
   "outputs": [],
   "source": [
    "# plot_feature_importance(forest)"
   ]
  },
  {
   "cell_type": "markdown",
   "metadata": {},
   "source": [
    "## Visualizing Gradient Boosting"
   ]
  },
  {
   "cell_type": "code",
   "execution_count": 47,
   "metadata": {
    "ExecuteTime": {
     "end_time": "2021-01-21T18:23:00.437781Z",
     "start_time": "2021-01-21T18:23:00.372544Z"
    }
   },
   "outputs": [],
   "source": [
    "# plot_feature_importance(gradient)"
   ]
  }
 ],
 "metadata": {
  "kernelspec": {
   "display_name": "Python 3",
   "language": "python",
   "name": "python3"
  },
  "language_info": {
   "codemirror_mode": {
    "name": "ipython",
    "version": 3
   },
   "file_extension": ".py",
   "mimetype": "text/x-python",
   "name": "python",
   "nbconvert_exporter": "python",
   "pygments_lexer": "ipython3",
   "version": "3.8.5"
  },
  "toc": {
   "base_numbering": 1,
   "nav_menu": {},
   "number_sections": true,
   "sideBar": true,
   "skip_h1_title": false,
   "title_cell": "Table of Contents",
   "title_sidebar": "Contents",
   "toc_cell": false,
   "toc_position": {
    "height": "calc(100% - 180px)",
    "left": "10px",
    "top": "150px",
    "width": "300.753px"
   },
   "toc_section_display": true,
   "toc_window_display": true
  }
 },
 "nbformat": 4,
 "nbformat_minor": 1
}
