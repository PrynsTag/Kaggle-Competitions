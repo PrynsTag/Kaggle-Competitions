{
 "cells": [
  {
   "cell_type": "markdown",
   "metadata": {},
   "source": [
    "# Titanic - Machine Learning from Disaster\n",
    "This is my first submission in Kaggle so if you find any mistakes, corrections, or suggestions, feel free to mention them."
   ]
  },
  {
   "cell_type": "markdown",
   "metadata": {},
   "source": [
    "## Initial Setup"
   ]
  },
  {
   "cell_type": "markdown",
   "metadata": {},
   "source": [
    "### Import Statements"
   ]
  },
  {
   "cell_type": "code",
   "execution_count": 1,
   "metadata": {
    "ExecuteTime": {
     "end_time": "2021-01-09T15:55:18.697024Z",
     "start_time": "2021-01-09T15:55:18.005087Z"
    }
   },
   "outputs": [],
   "source": [
    "import numpy as np # linear algebra\n",
    "import pandas as pd # data processing, CSV file I/O (e.g. pd.read_csv)\n",
    "import matplotlib.pyplot as plt # Data Visualization \n",
    "from sklearn.model_selection import GridSearchCV, RandomizedSearchCV #Hyperparameter Tuning\n",
    "from sklearn.model_selection import cross_val_score # k-Fold Scoring Metric\n",
    "from sklearn.metrics import make_scorer, mean_squared_error, accuracy_score"
   ]
  },
  {
   "cell_type": "markdown",
   "metadata": {
    "heading_collapsed": true
   },
   "source": [
    "### Import the Datasets"
   ]
  },
  {
   "cell_type": "code",
   "execution_count": 2,
   "metadata": {
    "ExecuteTime": {
     "end_time": "2021-01-09T15:55:18.705598Z",
     "start_time": "2021-01-09T15:55:18.698179Z"
    },
    "hidden": true
   },
   "outputs": [],
   "source": [
    "train_data = pd.read_csv(\"./datasets/train.csv\")\n",
    "test_data = pd.read_csv(\"./datasets/test.csv\")"
   ]
  },
  {
   "cell_type": "markdown",
   "metadata": {
    "heading_collapsed": true
   },
   "source": [
    "### Stylistics"
   ]
  },
  {
   "cell_type": "code",
   "execution_count": 3,
   "metadata": {
    "ExecuteTime": {
     "end_time": "2021-01-09T15:55:18.782761Z",
     "start_time": "2021-01-09T15:55:18.706961Z"
    },
    "hidden": true
   },
   "outputs": [],
   "source": [
    "%matplotlib inline\n",
    "plt.style.use(\"dark_background\")\n",
    "pd.set_option(\"display.max_rows\", 500)\n",
    "pd.set_option(\"display.max_columns\", 500)\n",
    "pd.set_option(\"display.width\", 1000)\n",
    "pd.set_option(\"precision\", 2)"
   ]
  },
  {
   "cell_type": "markdown",
   "metadata": {
    "heading_collapsed": true
   },
   "source": [
    "### Files"
   ]
  },
  {
   "cell_type": "code",
   "execution_count": 4,
   "metadata": {
    "ExecuteTime": {
     "end_time": "2021-01-09T15:55:18.857208Z",
     "start_time": "2021-01-09T15:55:18.784883Z"
    },
    "hidden": true
   },
   "outputs": [
    {
     "name": "stdout",
     "output_type": "stream",
     "text": [
      "./datasets/test.csv\n",
      "./datasets/gender_submission.csv\n",
      "./datasets/train.csv\n"
     ]
    }
   ],
   "source": [
    "# This Python 3 environment comes with many helpful analytics libraries installed\n",
    "# It is defined by the kaggle/python docker image: https://github.com/kaggle/docker-python\n",
    "# For example, here's several helpful packages to load in \n",
    "\n",
    "# Input data files are available in the \"../input/\" directory.\n",
    "# For example, running this (by clicking run or pressing Shift+Enter) will list all files under the input directory\n",
    "\n",
    "import os\n",
    "for dirname, _, filenames in os.walk('./datasets/'):\n",
    "    for filename in filenames:\n",
    "        print(os.path.join(dirname, filename))\n",
    "\n",
    "# Any results you write to the current directory are saved as output."
   ]
  },
  {
   "cell_type": "markdown",
   "metadata": {
    "heading_collapsed": true
   },
   "source": [
    "### Exploring the Dataset"
   ]
  },
  {
   "cell_type": "code",
   "execution_count": 5,
   "metadata": {
    "ExecuteTime": {
     "end_time": "2021-01-09T15:55:18.960079Z",
     "start_time": "2021-01-09T15:55:18.859268Z"
    },
    "hidden": true
   },
   "outputs": [
    {
     "data": {
      "text/html": [
       "<div>\n",
       "<style scoped>\n",
       "    .dataframe tbody tr th:only-of-type {\n",
       "        vertical-align: middle;\n",
       "    }\n",
       "\n",
       "    .dataframe tbody tr th {\n",
       "        vertical-align: top;\n",
       "    }\n",
       "\n",
       "    .dataframe thead th {\n",
       "        text-align: right;\n",
       "    }\n",
       "</style>\n",
       "<table border=\"1\" class=\"dataframe\">\n",
       "  <thead>\n",
       "    <tr style=\"text-align: right;\">\n",
       "      <th></th>\n",
       "      <th>PassengerId</th>\n",
       "      <th>Survived</th>\n",
       "      <th>Pclass</th>\n",
       "      <th>Name</th>\n",
       "      <th>Sex</th>\n",
       "      <th>Age</th>\n",
       "      <th>SibSp</th>\n",
       "      <th>Parch</th>\n",
       "      <th>Ticket</th>\n",
       "      <th>Fare</th>\n",
       "      <th>Cabin</th>\n",
       "      <th>Embarked</th>\n",
       "    </tr>\n",
       "  </thead>\n",
       "  <tbody>\n",
       "    <tr>\n",
       "      <th>0</th>\n",
       "      <td>1</td>\n",
       "      <td>0</td>\n",
       "      <td>3</td>\n",
       "      <td>Braund, Mr. Owen Harris</td>\n",
       "      <td>male</td>\n",
       "      <td>22.0</td>\n",
       "      <td>1</td>\n",
       "      <td>0</td>\n",
       "      <td>A/5 21171</td>\n",
       "      <td>7.25</td>\n",
       "      <td>NaN</td>\n",
       "      <td>S</td>\n",
       "    </tr>\n",
       "    <tr>\n",
       "      <th>1</th>\n",
       "      <td>2</td>\n",
       "      <td>1</td>\n",
       "      <td>1</td>\n",
       "      <td>Cumings, Mrs. John Bradley (Florence Briggs Th...</td>\n",
       "      <td>female</td>\n",
       "      <td>38.0</td>\n",
       "      <td>1</td>\n",
       "      <td>0</td>\n",
       "      <td>PC 17599</td>\n",
       "      <td>71.28</td>\n",
       "      <td>C85</td>\n",
       "      <td>C</td>\n",
       "    </tr>\n",
       "    <tr>\n",
       "      <th>2</th>\n",
       "      <td>3</td>\n",
       "      <td>1</td>\n",
       "      <td>3</td>\n",
       "      <td>Heikkinen, Miss. Laina</td>\n",
       "      <td>female</td>\n",
       "      <td>26.0</td>\n",
       "      <td>0</td>\n",
       "      <td>0</td>\n",
       "      <td>STON/O2. 3101282</td>\n",
       "      <td>7.92</td>\n",
       "      <td>NaN</td>\n",
       "      <td>S</td>\n",
       "    </tr>\n",
       "    <tr>\n",
       "      <th>3</th>\n",
       "      <td>4</td>\n",
       "      <td>1</td>\n",
       "      <td>1</td>\n",
       "      <td>Futrelle, Mrs. Jacques Heath (Lily May Peel)</td>\n",
       "      <td>female</td>\n",
       "      <td>35.0</td>\n",
       "      <td>1</td>\n",
       "      <td>0</td>\n",
       "      <td>113803</td>\n",
       "      <td>53.10</td>\n",
       "      <td>C123</td>\n",
       "      <td>S</td>\n",
       "    </tr>\n",
       "    <tr>\n",
       "      <th>4</th>\n",
       "      <td>5</td>\n",
       "      <td>0</td>\n",
       "      <td>3</td>\n",
       "      <td>Allen, Mr. William Henry</td>\n",
       "      <td>male</td>\n",
       "      <td>35.0</td>\n",
       "      <td>0</td>\n",
       "      <td>0</td>\n",
       "      <td>373450</td>\n",
       "      <td>8.05</td>\n",
       "      <td>NaN</td>\n",
       "      <td>S</td>\n",
       "    </tr>\n",
       "  </tbody>\n",
       "</table>\n",
       "</div>"
      ],
      "text/plain": [
       "   PassengerId  Survived  Pclass                                               Name     Sex   Age  SibSp  Parch            Ticket   Fare Cabin Embarked\n",
       "0            1         0       3                            Braund, Mr. Owen Harris    male  22.0      1      0         A/5 21171   7.25   NaN        S\n",
       "1            2         1       1  Cumings, Mrs. John Bradley (Florence Briggs Th...  female  38.0      1      0          PC 17599  71.28   C85        C\n",
       "2            3         1       3                             Heikkinen, Miss. Laina  female  26.0      0      0  STON/O2. 3101282   7.92   NaN        S\n",
       "3            4         1       1       Futrelle, Mrs. Jacques Heath (Lily May Peel)  female  35.0      1      0            113803  53.10  C123        S\n",
       "4            5         0       3                           Allen, Mr. William Henry    male  35.0      0      0            373450   8.05   NaN        S"
      ]
     },
     "execution_count": 5,
     "metadata": {},
     "output_type": "execute_result"
    }
   ],
   "source": [
    "train_data.head()"
   ]
  },
  {
   "cell_type": "code",
   "execution_count": 6,
   "metadata": {
    "ExecuteTime": {
     "end_time": "2021-01-09T15:55:19.043477Z",
     "start_time": "2021-01-09T15:55:18.961944Z"
    },
    "hidden": true
   },
   "outputs": [
    {
     "data": {
      "text/html": [
       "<div>\n",
       "<style scoped>\n",
       "    .dataframe tbody tr th:only-of-type {\n",
       "        vertical-align: middle;\n",
       "    }\n",
       "\n",
       "    .dataframe tbody tr th {\n",
       "        vertical-align: top;\n",
       "    }\n",
       "\n",
       "    .dataframe thead th {\n",
       "        text-align: right;\n",
       "    }\n",
       "</style>\n",
       "<table border=\"1\" class=\"dataframe\">\n",
       "  <thead>\n",
       "    <tr style=\"text-align: right;\">\n",
       "      <th></th>\n",
       "      <th>PassengerId</th>\n",
       "      <th>Pclass</th>\n",
       "      <th>Name</th>\n",
       "      <th>Sex</th>\n",
       "      <th>Age</th>\n",
       "      <th>SibSp</th>\n",
       "      <th>Parch</th>\n",
       "      <th>Ticket</th>\n",
       "      <th>Fare</th>\n",
       "      <th>Cabin</th>\n",
       "      <th>Embarked</th>\n",
       "    </tr>\n",
       "  </thead>\n",
       "  <tbody>\n",
       "    <tr>\n",
       "      <th>0</th>\n",
       "      <td>892</td>\n",
       "      <td>3</td>\n",
       "      <td>Kelly, Mr. James</td>\n",
       "      <td>male</td>\n",
       "      <td>34.5</td>\n",
       "      <td>0</td>\n",
       "      <td>0</td>\n",
       "      <td>330911</td>\n",
       "      <td>7.83</td>\n",
       "      <td>NaN</td>\n",
       "      <td>Q</td>\n",
       "    </tr>\n",
       "    <tr>\n",
       "      <th>1</th>\n",
       "      <td>893</td>\n",
       "      <td>3</td>\n",
       "      <td>Wilkes, Mrs. James (Ellen Needs)</td>\n",
       "      <td>female</td>\n",
       "      <td>47.0</td>\n",
       "      <td>1</td>\n",
       "      <td>0</td>\n",
       "      <td>363272</td>\n",
       "      <td>7.00</td>\n",
       "      <td>NaN</td>\n",
       "      <td>S</td>\n",
       "    </tr>\n",
       "    <tr>\n",
       "      <th>2</th>\n",
       "      <td>894</td>\n",
       "      <td>2</td>\n",
       "      <td>Myles, Mr. Thomas Francis</td>\n",
       "      <td>male</td>\n",
       "      <td>62.0</td>\n",
       "      <td>0</td>\n",
       "      <td>0</td>\n",
       "      <td>240276</td>\n",
       "      <td>9.69</td>\n",
       "      <td>NaN</td>\n",
       "      <td>Q</td>\n",
       "    </tr>\n",
       "    <tr>\n",
       "      <th>3</th>\n",
       "      <td>895</td>\n",
       "      <td>3</td>\n",
       "      <td>Wirz, Mr. Albert</td>\n",
       "      <td>male</td>\n",
       "      <td>27.0</td>\n",
       "      <td>0</td>\n",
       "      <td>0</td>\n",
       "      <td>315154</td>\n",
       "      <td>8.66</td>\n",
       "      <td>NaN</td>\n",
       "      <td>S</td>\n",
       "    </tr>\n",
       "    <tr>\n",
       "      <th>4</th>\n",
       "      <td>896</td>\n",
       "      <td>3</td>\n",
       "      <td>Hirvonen, Mrs. Alexander (Helga E Lindqvist)</td>\n",
       "      <td>female</td>\n",
       "      <td>22.0</td>\n",
       "      <td>1</td>\n",
       "      <td>1</td>\n",
       "      <td>3101298</td>\n",
       "      <td>12.29</td>\n",
       "      <td>NaN</td>\n",
       "      <td>S</td>\n",
       "    </tr>\n",
       "  </tbody>\n",
       "</table>\n",
       "</div>"
      ],
      "text/plain": [
       "   PassengerId  Pclass                                          Name     Sex   Age  SibSp  Parch   Ticket   Fare Cabin Embarked\n",
       "0          892       3                              Kelly, Mr. James    male  34.5      0      0   330911   7.83   NaN        Q\n",
       "1          893       3              Wilkes, Mrs. James (Ellen Needs)  female  47.0      1      0   363272   7.00   NaN        S\n",
       "2          894       2                     Myles, Mr. Thomas Francis    male  62.0      0      0   240276   9.69   NaN        Q\n",
       "3          895       3                              Wirz, Mr. Albert    male  27.0      0      0   315154   8.66   NaN        S\n",
       "4          896       3  Hirvonen, Mrs. Alexander (Helga E Lindqvist)  female  22.0      1      1  3101298  12.29   NaN        S"
      ]
     },
     "execution_count": 6,
     "metadata": {},
     "output_type": "execute_result"
    }
   ],
   "source": [
    "test_data.head()"
   ]
  },
  {
   "cell_type": "code",
   "execution_count": 7,
   "metadata": {
    "ExecuteTime": {
     "end_time": "2021-01-09T15:55:19.126388Z",
     "start_time": "2021-01-09T15:55:19.045342Z"
    },
    "hidden": true
   },
   "outputs": [
    {
     "name": "stdout",
     "output_type": "stream",
     "text": [
      "<class 'pandas.core.frame.DataFrame'>\n",
      "RangeIndex: 891 entries, 0 to 890\n",
      "Data columns (total 12 columns):\n",
      " #   Column       Non-Null Count  Dtype  \n",
      "---  ------       --------------  -----  \n",
      " 0   PassengerId  891 non-null    int64  \n",
      " 1   Survived     891 non-null    int64  \n",
      " 2   Pclass       891 non-null    int64  \n",
      " 3   Name         891 non-null    object \n",
      " 4   Sex          891 non-null    object \n",
      " 5   Age          714 non-null    float64\n",
      " 6   SibSp        891 non-null    int64  \n",
      " 7   Parch        891 non-null    int64  \n",
      " 8   Ticket       891 non-null    object \n",
      " 9   Fare         891 non-null    float64\n",
      " 10  Cabin        204 non-null    object \n",
      " 11  Embarked     889 non-null    object \n",
      "dtypes: float64(2), int64(5), object(5)\n",
      "memory usage: 83.7+ KB\n"
     ]
    }
   ],
   "source": [
    "train_data.info()"
   ]
  },
  {
   "cell_type": "code",
   "execution_count": 8,
   "metadata": {
    "ExecuteTime": {
     "end_time": "2021-01-09T15:55:19.198238Z",
     "start_time": "2021-01-09T15:55:19.128878Z"
    },
    "hidden": true
   },
   "outputs": [
    {
     "name": "stdout",
     "output_type": "stream",
     "text": [
      "Number of Rows: 891\n",
      "Number of Colums: 12\n",
      "Column Names: ['PassengerId' 'Survived' 'Pclass' 'Name' 'Sex' 'Age' 'SibSp' 'Parch'\n",
      " 'Ticket' 'Fare' 'Cabin' 'Embarked']\n"
     ]
    }
   ],
   "source": [
    "print(\"Number of Rows: {}\".format(train_data.shape[0]))\n",
    "print(\"Number of Colums: {}\".format(train_data.shape[1]))\n",
    "print(\"Column Names: {}\".format(train_data.columns.values))"
   ]
  },
  {
   "cell_type": "markdown",
   "metadata": {
    "hidden": true
   },
   "source": [
    "Some of the insights that we can get from these cells are:\n",
    "1. `PassengerId` gives a natural ordering to the dataset.\n",
    "2. We have 891 rows and 12 columns. `Name`, `Ticket` and `Cabin` are no important to us and should be dropped.\n",
    "3. The Columns have correct dtype except `Sex` that can be turned into a boolean number.\n",
    "4. We have 7 Numeric Columns and 5 Strings\n",
    "4. We have missing values."
   ]
  },
  {
   "cell_type": "markdown",
   "metadata": {
    "heading_collapsed": true
   },
   "source": [
    "## Data Cleaning"
   ]
  },
  {
   "cell_type": "markdown",
   "metadata": {
    "hidden": true
   },
   "source": [
    "### Remove Unnecessary Columns "
   ]
  },
  {
   "cell_type": "markdown",
   "metadata": {
    "hidden": true
   },
   "source": [
    "#### Training Data"
   ]
  },
  {
   "cell_type": "markdown",
   "metadata": {
    "hidden": true
   },
   "source": [
    "Here we are removing `Name`, `Ticket` and `Cabin` since these columns are not important in our analysis."
   ]
  },
  {
   "cell_type": "code",
   "execution_count": 9,
   "metadata": {
    "ExecuteTime": {
     "end_time": "2021-01-09T15:55:19.266390Z",
     "start_time": "2021-01-09T15:55:19.200824Z"
    },
    "hidden": true
   },
   "outputs": [
    {
     "name": "stdout",
     "output_type": "stream",
     "text": [
      "Number of Colums (BEFORE): 12\n",
      "Number of Colums (AFTER): 9\n"
     ]
    }
   ],
   "source": [
    "print(\"Number of Colums (BEFORE): {}\".format(train_data.shape[1]))\n",
    "train_data = train_data.drop([\"Name\", \"Ticket\", \"Cabin\"], axis=1)\n",
    "print(\"Number of Colums (AFTER): {}\".format(train_data.shape[1]))"
   ]
  },
  {
   "cell_type": "markdown",
   "metadata": {
    "hidden": true
   },
   "source": [
    "#### Test Data"
   ]
  },
  {
   "cell_type": "code",
   "execution_count": 10,
   "metadata": {
    "ExecuteTime": {
     "end_time": "2021-01-09T15:55:19.332736Z",
     "start_time": "2021-01-09T15:55:19.268184Z"
    },
    "hidden": true
   },
   "outputs": [
    {
     "name": "stdout",
     "output_type": "stream",
     "text": [
      "Number of Colums (BEFORE): 11\n",
      "Number of Colums (AFTER): 8\n"
     ]
    }
   ],
   "source": [
    "print(\"Number of Colums (BEFORE): {}\".format(test_data.shape[1]))\n",
    "test_data = test_data.drop([\"Name\", \"Ticket\", \"Cabin\"], axis=1)\n",
    "print(\"Number of Colums (AFTER): {}\".format(test_data.shape[1]))"
   ]
  },
  {
   "cell_type": "markdown",
   "metadata": {
    "hidden": true
   },
   "source": [
    "We can confirm that we have removed the columns by printing how many columns we have.\n",
    "> The test data are 1 column less since it doesn't have the `Survived` column unlike the training data for later evaluation."
   ]
  },
  {
   "cell_type": "markdown",
   "metadata": {
    "hidden": true
   },
   "source": [
    "### Missing Values"
   ]
  },
  {
   "cell_type": "markdown",
   "metadata": {
    "hidden": true
   },
   "source": [
    "#### Training Data"
   ]
  },
  {
   "cell_type": "code",
   "execution_count": 11,
   "metadata": {
    "ExecuteTime": {
     "end_time": "2021-01-09T15:55:19.429531Z",
     "start_time": "2021-01-09T15:55:19.334345Z"
    },
    "hidden": true
   },
   "outputs": [
    {
     "name": "stdout",
     "output_type": "stream",
     "text": [
      "PassengerId: 0\n",
      "Survived: 0\n",
      "Pclass: 0\n",
      "Sex: 0\n",
      "Age: 177\n",
      "SibSp: 0\n",
      "Parch: 0\n",
      "Fare: 0\n",
      "Embarked: 2\n"
     ]
    }
   ],
   "source": [
    "def missing_val(data=\"train_data\"):\n",
    "    if data == \"train_data\":\n",
    "        for col in train_data.columns:\n",
    "            print(\"{}: {}\".format(col, train_data[col].isnull().sum()))\n",
    "    else:\n",
    "        for col in test_data.columns:\n",
    "            print(\"{}: {}\".format(col, test_data[col].isnull().sum()))\n",
    "\n",
    "missing_val()"
   ]
  },
  {
   "cell_type": "markdown",
   "metadata": {
    "hidden": true
   },
   "source": [
    "We can see that `Age` and `Embarked` has the missing values. Let's deal first with `Age`."
   ]
  },
  {
   "cell_type": "markdown",
   "metadata": {
    "hidden": true
   },
   "source": [
    "#### Test Data"
   ]
  },
  {
   "cell_type": "code",
   "execution_count": 12,
   "metadata": {
    "ExecuteTime": {
     "end_time": "2021-01-09T15:55:19.502615Z",
     "start_time": "2021-01-09T15:55:19.431050Z"
    },
    "hidden": true
   },
   "outputs": [
    {
     "name": "stdout",
     "output_type": "stream",
     "text": [
      "PassengerId: 0\n",
      "Pclass: 0\n",
      "Sex: 0\n",
      "Age: 86\n",
      "SibSp: 0\n",
      "Parch: 0\n",
      "Fare: 1\n",
      "Embarked: 0\n"
     ]
    }
   ],
   "source": [
    "missing_val(\"test_data\")"
   ]
  },
  {
   "cell_type": "markdown",
   "metadata": {
    "hidden": true
   },
   "source": [
    "Just like `train_data`, `test_data` also has some missing data on age."
   ]
  },
  {
   "cell_type": "markdown",
   "metadata": {
    "hidden": true
   },
   "source": [
    "#### Filing `Age` Column with Mean Values"
   ]
  },
  {
   "cell_type": "markdown",
   "metadata": {
    "hidden": true
   },
   "source": [
    "Since `Age` has some significant values that are missing and we have no way to identify the  age of the passenger based on the columns presented, one solution that I can think of is fill this with the mean values of the `Age` column. Let's do just that."
   ]
  },
  {
   "cell_type": "markdown",
   "metadata": {
    "hidden": true
   },
   "source": [
    "##### Training Data"
   ]
  },
  {
   "cell_type": "code",
   "execution_count": 13,
   "metadata": {
    "ExecuteTime": {
     "end_time": "2021-01-09T15:55:19.623201Z",
     "start_time": "2021-01-09T15:55:19.504411Z"
    },
    "hidden": true
   },
   "outputs": [],
   "source": [
    "mean_age = train_data[\"Age\"].mean()\n",
    "train_data[\"Age\"].fillna(mean_age, inplace=True)"
   ]
  },
  {
   "cell_type": "code",
   "execution_count": 14,
   "metadata": {
    "ExecuteTime": {
     "end_time": "2021-01-09T15:55:19.751109Z",
     "start_time": "2021-01-09T15:55:19.624852Z"
    },
    "hidden": true
   },
   "outputs": [
    {
     "name": "stdout",
     "output_type": "stream",
     "text": [
      "PassengerId: 0\n",
      "Survived: 0\n",
      "Pclass: 0\n",
      "Sex: 0\n",
      "Age: 0\n",
      "SibSp: 0\n",
      "Parch: 0\n",
      "Fare: 0\n",
      "Embarked: 2\n"
     ]
    }
   ],
   "source": [
    "missing_val()"
   ]
  },
  {
   "cell_type": "markdown",
   "metadata": {
    "hidden": true
   },
   "source": [
    "As we can see, the `Age` column does not have any more missing values. Now let's do the same with the `test_data`."
   ]
  },
  {
   "cell_type": "markdown",
   "metadata": {
    "hidden": true
   },
   "source": [
    "##### Test Data"
   ]
  },
  {
   "cell_type": "code",
   "execution_count": 15,
   "metadata": {
    "ExecuteTime": {
     "end_time": "2021-01-09T15:55:19.839439Z",
     "start_time": "2021-01-09T15:55:19.752710Z"
    },
    "hidden": true
   },
   "outputs": [],
   "source": [
    "mean_age = test_data[\"Age\"].mean()\n",
    "test_data[\"Age\"].fillna(mean_age, inplace=True)"
   ]
  },
  {
   "cell_type": "code",
   "execution_count": 16,
   "metadata": {
    "ExecuteTime": {
     "end_time": "2021-01-09T15:55:19.925581Z",
     "start_time": "2021-01-09T15:55:19.840993Z"
    },
    "hidden": true
   },
   "outputs": [
    {
     "name": "stdout",
     "output_type": "stream",
     "text": [
      "PassengerId: 0\n",
      "Pclass: 0\n",
      "Sex: 0\n",
      "Age: 0\n",
      "SibSp: 0\n",
      "Parch: 0\n",
      "Fare: 1\n",
      "Embarked: 0\n"
     ]
    }
   ],
   "source": [
    "missing_val(\"test_data\")"
   ]
  },
  {
   "cell_type": "markdown",
   "metadata": {
    "hidden": true
   },
   "source": [
    "As we can see, there are no mising values in the `Age` Column."
   ]
  },
  {
   "cell_type": "markdown",
   "metadata": {
    "heading_collapsed": true,
    "hidden": true
   },
   "source": [
    "#### Filing `Fare` Column with Mean Values"
   ]
  },
  {
   "cell_type": "code",
   "execution_count": 17,
   "metadata": {
    "ExecuteTime": {
     "end_time": "2021-01-09T15:55:19.997825Z",
     "start_time": "2021-01-09T15:55:19.926758Z"
    },
    "hidden": true
   },
   "outputs": [],
   "source": [
    "mean_fare = test_data[\"Fare\"].mean()\n",
    "test_data[\"Fare\"].fillna(mean_fare, inplace=True)"
   ]
  },
  {
   "cell_type": "code",
   "execution_count": 18,
   "metadata": {
    "ExecuteTime": {
     "end_time": "2021-01-09T15:55:20.083905Z",
     "start_time": "2021-01-09T15:55:19.999415Z"
    },
    "hidden": true
   },
   "outputs": [
    {
     "name": "stdout",
     "output_type": "stream",
     "text": [
      "PassengerId: 0\n",
      "Pclass: 0\n",
      "Sex: 0\n",
      "Age: 0\n",
      "SibSp: 0\n",
      "Parch: 0\n",
      "Fare: 0\n",
      "Embarked: 0\n"
     ]
    }
   ],
   "source": [
    "missing_val(\"test_data\")"
   ]
  },
  {
   "cell_type": "markdown",
   "metadata": {
    "hidden": true
   },
   "source": [
    "We can confirm that test data are now clean."
   ]
  },
  {
   "cell_type": "markdown",
   "metadata": {
    "hidden": true
   },
   "source": [
    "#### Removing `Embarked` Missing Values"
   ]
  },
  {
   "cell_type": "markdown",
   "metadata": {
    "heading_collapsed": true,
    "hidden": true
   },
   "source": [
    "##### Training Data"
   ]
  },
  {
   "cell_type": "markdown",
   "metadata": {
    "hidden": true
   },
   "source": [
    "Since `Embarked` is a column that tells from which port did the person come in to Titanic and there is no way we can tell that based on the information at hand, we will just removed it since we are only removing an insignificant amount of rows."
   ]
  },
  {
   "cell_type": "code",
   "execution_count": 19,
   "metadata": {
    "ExecuteTime": {
     "end_time": "2021-01-09T15:55:20.172309Z",
     "start_time": "2021-01-09T15:55:20.085602Z"
    },
    "hidden": true
   },
   "outputs": [
    {
     "name": "stdout",
     "output_type": "stream",
     "text": [
      "BEFORE Row Deletion: 891\n",
      "\n",
      "PassengerId: 0\n",
      "Survived: 0\n",
      "Pclass: 0\n",
      "Sex: 0\n",
      "Age: 0\n",
      "SibSp: 0\n",
      "Parch: 0\n",
      "Fare: 0\n",
      "Embarked: 0\n",
      "\n",
      "AFTER Row Deletion: 889\n"
     ]
    }
   ],
   "source": [
    "print(\"BEFORE Row Deletion: {}\\n\".format(train_data.shape[0]))\n",
    "train_data.dropna(inplace=True)\n",
    "missing_val()\n",
    "print(\"\\nAFTER Row Deletion: {}\".format(train_data.shape[0]))"
   ]
  },
  {
   "cell_type": "markdown",
   "metadata": {
    "hidden": true
   },
   "source": [
    "Just like test data, train data are now clean of missing values."
   ]
  },
  {
   "cell_type": "markdown",
   "metadata": {
    "heading_collapsed": true,
    "hidden": true
   },
   "source": [
    "### Removing  Outliers\n",
    "In order for our dataset to be prepared to be analyzed by our chosen model, we need to remove outliers that will draw our conclusion far away from the truth. To do this, we will consider a value an outlier if it falls over 3 standard deviation away from the mean."
   ]
  },
  {
   "cell_type": "markdown",
   "metadata": {
    "hidden": true
   },
   "source": [
    "#### Numeric Columns"
   ]
  },
  {
   "cell_type": "code",
   "execution_count": 20,
   "metadata": {
    "ExecuteTime": {
     "end_time": "2021-01-09T15:55:20.258571Z",
     "start_time": "2021-01-09T15:55:20.173485Z"
    },
    "hidden": true
   },
   "outputs": [
    {
     "name": "stdout",
     "output_type": "stream",
     "text": [
      "Number of Remaining Observations: Fare -> (869,)\n",
      "\n",
      "Number of Remaining Observations: Age -> (862,)\n",
      "\n",
      "Number of Remaining Observations: SibSp -> (832,)\n",
      "\n",
      "Number of Remaining Observations: Parch -> (818,)\n",
      "\n",
      "Number of Observation Removed: 71\n"
     ]
    }
   ],
   "source": [
    "features = [\"Fare\", \"Age\", \"SibSp\", \"Parch\"] # Columns we are interested in\n",
    "before_removal = train_data.shape[0]\n",
    "for feature in features:\n",
    "    min_ = train_data[feature].mean() - (3 * train_data[feature].std())\n",
    "    max_ = train_data[feature].mean() + (3 * train_data[feature].std())\n",
    "    \n",
    "    train_data = train_data[train_data[feature] >= min_]\n",
    "    train_data = train_data[train_data[feature] <= max_]\n",
    "    print(\"Number of Remaining Observations: {} -> {}\\n\".format(feature, train_data[feature].shape))\n",
    "    \n",
    "print(\"Number of Observation Removed: {}\".format(before_removal - train_data.shape[0]))"
   ]
  },
  {
   "cell_type": "markdown",
   "metadata": {
    "heading_collapsed": true,
    "hidden": true
   },
   "source": [
    "#### Text Columns"
   ]
  },
  {
   "cell_type": "markdown",
   "metadata": {
    "hidden": true
   },
   "source": [
    "##### Training Data"
   ]
  },
  {
   "cell_type": "code",
   "execution_count": 21,
   "metadata": {
    "ExecuteTime": {
     "end_time": "2021-01-09T15:55:20.334593Z",
     "start_time": "2021-01-09T15:55:20.259623Z"
    },
    "hidden": true
   },
   "outputs": [
    {
     "name": "stdout",
     "output_type": "stream",
     "text": [
      "Sex\n",
      "male      539\n",
      "female    279\n",
      "Name: Sex, dtype: int64 \n",
      "\n",
      "Embarked\n",
      "S    594\n",
      "C    153\n",
      "Q     71\n",
      "Name: Embarked, dtype: int64 \n",
      "\n"
     ]
    }
   ],
   "source": [
    "features = [\"Sex\", \"Embarked\"]\n",
    "\n",
    "for feature in features:\n",
    "    count_ = train_data[feature].value_counts()\n",
    "    \n",
    "    print(feature)\n",
    "    print(count_, \"\\n\")"
   ]
  },
  {
   "cell_type": "markdown",
   "metadata": {
    "hidden": true
   },
   "source": [
    "##### Test Data"
   ]
  },
  {
   "cell_type": "code",
   "execution_count": 22,
   "metadata": {
    "ExecuteTime": {
     "end_time": "2021-01-09T15:55:20.418163Z",
     "start_time": "2021-01-09T15:55:20.336568Z"
    },
    "hidden": true
   },
   "outputs": [
    {
     "name": "stdout",
     "output_type": "stream",
     "text": [
      "Sex\n",
      "male      266\n",
      "female    152\n",
      "Name: Sex, dtype: int64 \n",
      "\n",
      "Embarked\n",
      "S    270\n",
      "C    102\n",
      "Q     46\n",
      "Name: Embarked, dtype: int64 \n",
      "\n"
     ]
    }
   ],
   "source": [
    "features = [\"Sex\", \"Embarked\"]\n",
    "\n",
    "for feature in features:\n",
    "    count_ = test_data[feature].value_counts()\n",
    "    \n",
    "    print(feature)\n",
    "    print(count_, \"\\n\")"
   ]
  },
  {
   "cell_type": "markdown",
   "metadata": {
    "hidden": true
   },
   "source": [
    "None of the classes for any of the features are considered to be outliers as they all represent over 5% of the entire dataset."
   ]
  },
  {
   "cell_type": "markdown",
   "metadata": {
    "heading_collapsed": true
   },
   "source": [
    "## Data Preprocessing\n",
    "Since we have String columns, our Machine Learning model won't be able to process data that are not numbers. A solution might be to use `LabelEncoder()` from scikit-learn to transform the text data into numeric data."
   ]
  },
  {
   "cell_type": "markdown",
   "metadata": {
    "heading_collapsed": true,
    "hidden": true
   },
   "source": [
    "### Train Data"
   ]
  },
  {
   "cell_type": "code",
   "execution_count": 23,
   "metadata": {
    "ExecuteTime": {
     "end_time": "2021-01-09T15:55:20.507077Z",
     "start_time": "2021-01-09T15:55:20.421633Z"
    },
    "hidden": true
   },
   "outputs": [],
   "source": [
    "X = train_data.drop(\"Survived\", axis=1)\n",
    "y = train_data[\"Survived\"].values"
   ]
  },
  {
   "cell_type": "markdown",
   "metadata": {
    "hidden": true
   },
   "source": [
    "#### OneHotEncoding()"
   ]
  },
  {
   "cell_type": "code",
   "execution_count": 24,
   "metadata": {
    "ExecuteTime": {
     "end_time": "2021-01-09T15:55:20.599874Z",
     "start_time": "2021-01-09T15:55:20.509468Z"
    },
    "hidden": true
   },
   "outputs": [],
   "source": [
    "from sklearn.compose import ColumnTransformer\n",
    "from sklearn.preprocessing import OneHotEncoder\n",
    "\n",
    "ct = ColumnTransformer(transformers=[('encoder', OneHotEncoder(), [\"Sex\", \"Embarked\"])], remainder='passthrough')\n",
    "X = np.array(ct.fit_transform(X))"
   ]
  },
  {
   "cell_type": "markdown",
   "metadata": {
    "hidden": true
   },
   "source": [
    "##### Turn the PassengerId Column into int.dtype"
   ]
  },
  {
   "cell_type": "code",
   "execution_count": 25,
   "metadata": {
    "ExecuteTime": {
     "end_time": "2021-01-09T15:55:20.673521Z",
     "start_time": "2021-01-09T15:55:20.601138Z"
    },
    "hidden": true
   },
   "outputs": [],
   "source": [
    "X = pd.DataFrame(X)\n",
    "X[5] = X[5].astype(int)"
   ]
  },
  {
   "cell_type": "markdown",
   "metadata": {
    "hidden": true
   },
   "source": [
    "#### LabelEncoder()"
   ]
  },
  {
   "cell_type": "code",
   "execution_count": 26,
   "metadata": {
    "ExecuteTime": {
     "end_time": "2021-01-09T15:55:20.747283Z",
     "start_time": "2021-01-09T15:55:20.674809Z"
    },
    "hidden": true
   },
   "outputs": [],
   "source": [
    "# from sklearn.preprocessing import LabelEncoder\n",
    "# enc = LabelEncoder()\n",
    "\n",
    "# features = [\"Sex\", \"Embarked\"]\n",
    "\n",
    "# for feature in features:\n",
    "#     X[feature] = enc.fit_transform(X[feature])\n",
    "# X"
   ]
  },
  {
   "cell_type": "markdown",
   "metadata": {
    "heading_collapsed": true,
    "hidden": true
   },
   "source": [
    "#### Dummy Variables"
   ]
  },
  {
   "cell_type": "code",
   "execution_count": 27,
   "metadata": {
    "ExecuteTime": {
     "end_time": "2021-01-09T15:55:20.822333Z",
     "start_time": "2021-01-09T15:55:20.748950Z"
    },
    "hidden": true
   },
   "outputs": [],
   "source": [
    "# X = pd.get_dummies(X, columns=[\"Sex\", \"Embarked\"])\n",
    "# X = X.values"
   ]
  },
  {
   "cell_type": "markdown",
   "metadata": {
    "hidden": true
   },
   "source": [
    "### Test Data"
   ]
  },
  {
   "cell_type": "markdown",
   "metadata": {
    "hidden": true
   },
   "source": [
    "#### OneHotEncoder()"
   ]
  },
  {
   "cell_type": "code",
   "execution_count": 28,
   "metadata": {
    "ExecuteTime": {
     "end_time": "2021-01-09T15:55:20.951410Z",
     "start_time": "2021-01-09T15:55:20.824057Z"
    },
    "hidden": true
   },
   "outputs": [],
   "source": [
    "test_data = np.array(ct.transform(test_data))"
   ]
  },
  {
   "cell_type": "markdown",
   "metadata": {
    "heading_collapsed": true,
    "hidden": true
   },
   "source": [
    "##### Turn the PassengerId Column into int.dtype"
   ]
  },
  {
   "cell_type": "code",
   "execution_count": 29,
   "metadata": {
    "ExecuteTime": {
     "end_time": "2021-01-09T15:55:21.023494Z",
     "start_time": "2021-01-09T15:55:20.953152Z"
    },
    "hidden": true
   },
   "outputs": [],
   "source": [
    "test_data = pd.DataFrame(test_data)\n",
    "test_data[5] = test_data[5].astype(int)"
   ]
  },
  {
   "cell_type": "markdown",
   "metadata": {
    "heading_collapsed": true,
    "hidden": true
   },
   "source": [
    "#### LabelEncoder()"
   ]
  },
  {
   "cell_type": "code",
   "execution_count": 30,
   "metadata": {
    "ExecuteTime": {
     "end_time": "2021-01-09T15:55:21.097205Z",
     "start_time": "2021-01-09T15:55:21.025149Z"
    },
    "hidden": true
   },
   "outputs": [],
   "source": [
    "# from sklearn.preprocessing import LabelEncoder\n",
    "# enc = LabelEncoder()\n",
    "# for feature in features:\n",
    "#     test_data[feature] = enc.fit_transform(test_data[feature])"
   ]
  },
  {
   "cell_type": "markdown",
   "metadata": {
    "heading_collapsed": true,
    "hidden": true
   },
   "source": [
    "#### Dummy Variable"
   ]
  },
  {
   "cell_type": "code",
   "execution_count": 31,
   "metadata": {
    "ExecuteTime": {
     "end_time": "2021-01-09T15:55:21.172348Z",
     "start_time": "2021-01-09T15:55:21.098409Z"
    },
    "hidden": true
   },
   "outputs": [],
   "source": [
    "# test_data = pd.get_dummies(test_data, columns=[\"Sex\", \"Embarked\"])"
   ]
  },
  {
   "cell_type": "markdown",
   "metadata": {},
   "source": [
    "## Machine Learning Model\n",
    "Now we are ready to feed our data to the model we choose to predict whether a person will survive or not depending on the labeled data that we fed in to our model."
   ]
  },
  {
   "cell_type": "markdown",
   "metadata": {},
   "source": [
    "### Splitting the Training Dataset into Dependent and Independent Variable\n",
    "Since the answer that we want to address is whether the person is going to survive or not (`Survived`), this will be our dependent variable and the rest of te features will be the independent variable."
   ]
  },
  {
   "cell_type": "code",
   "execution_count": 32,
   "metadata": {
    "ExecuteTime": {
     "end_time": "2021-01-09T15:55:21.240525Z",
     "start_time": "2021-01-09T15:55:21.173968Z"
    }
   },
   "outputs": [],
   "source": [
    "from sklearn.model_selection import train_test_split\n",
    "X_train, X_test, y_train, y_test = train_test_split(X, y) "
   ]
  },
  {
   "cell_type": "markdown",
   "metadata": {},
   "source": [
    "### Fitting the Training Data to Model"
   ]
  },
  {
   "cell_type": "markdown",
   "metadata": {},
   "source": [
    "#### Logistic Regression"
   ]
  },
  {
   "cell_type": "code",
   "execution_count": 33,
   "metadata": {
    "ExecuteTime": {
     "end_time": "2021-01-09T15:55:21.935227Z",
     "start_time": "2021-01-09T15:55:21.242258Z"
    }
   },
   "outputs": [
    {
     "name": "stdout",
     "output_type": "stream",
     "text": [
      "Accuracy on Training Set: 80.26\n",
      "Accuracy on Test Set: 77.56\n"
     ]
    }
   ],
   "source": [
    "from sklearn.linear_model import LogisticRegression\n",
    "\n",
    "logreg = LogisticRegression(n_jobs=-1).fit(X_train, y_train)\n",
    "acc_logreg = logreg.score(X_train, y_train)*100\n",
    "acc_test_logreg = logreg.score(X_test, y_test)*100\n",
    "print(\"Accuracy on Training Set: {:.2f}\".format(acc_logreg))\n",
    "print(\"Accuracy on Test Set: {:.2f}\".format(acc_test_logreg))"
   ]
  },
  {
   "cell_type": "markdown",
   "metadata": {},
   "source": [
    "#### Decision Tree"
   ]
  },
  {
   "cell_type": "code",
   "execution_count": 34,
   "metadata": {
    "ExecuteTime": {
     "end_time": "2021-01-09T15:55:21.971627Z",
     "start_time": "2021-01-09T15:55:21.938022Z"
    }
   },
   "outputs": [
    {
     "name": "stdout",
     "output_type": "stream",
     "text": [
      "Accuracy on Training Set: 84.01\n",
      "Accuracy on Test Set: 79.02\n"
     ]
    }
   ],
   "source": [
    "from sklearn.tree import DecisionTreeClassifier\n",
    "\n",
    "tree = DecisionTreeClassifier(max_depth=4).fit(X_train, y_train)\n",
    "acc_tree = tree.score(X_train, y_train)*100\n",
    "acc_test_tree = tree.score(X_test, y_test)*100\n",
    "\n",
    "\n",
    "print(\"Accuracy on Training Set: {:.2f}\".format(acc_tree))\n",
    "print(\"Accuracy on Test Set: {:.2f}\".format(acc_test_tree))"
   ]
  },
  {
   "cell_type": "markdown",
   "metadata": {},
   "source": [
    "#### Polynomial Regression"
   ]
  },
  {
   "cell_type": "code",
   "execution_count": 35,
   "metadata": {
    "ExecuteTime": {
     "end_time": "2021-01-09T15:55:22.207230Z",
     "start_time": "2021-01-09T15:55:21.973251Z"
    }
   },
   "outputs": [
    {
     "name": "stdout",
     "output_type": "stream",
     "text": [
      "Accuracy on Training Set: 83.89\n"
     ]
    }
   ],
   "source": [
    "from sklearn.preprocessing import PolynomialFeatures\n",
    "from sklearn.linear_model import LinearRegression\n",
    "\n",
    "poly_reg = PolynomialFeatures(degree=4)\n",
    "X_poly = poly_reg.fit_transform(X_train)\n",
    "reg = LinearRegression()\n",
    "_ = reg.fit(X_poly, y_train)\n",
    "\n",
    "acc_poly = reg.score(X_poly, y_train)*100\n",
    "# acc_test_poly = reg.score(X_train, poly_reg.transform(X_test))*100\n",
    "\n",
    "print(\"Accuracy on Training Set: {:.2f}\".format(acc_poly))\n",
    "# print(\"Accuracy on Training Set: {:.2f}\".format(acc_test_poly))"
   ]
  },
  {
   "cell_type": "markdown",
   "metadata": {},
   "source": [
    "#### Random Forest"
   ]
  },
  {
   "cell_type": "code",
   "execution_count": 36,
   "metadata": {
    "ExecuteTime": {
     "end_time": "2021-01-09T15:55:22.663018Z",
     "start_time": "2021-01-09T15:55:22.208625Z"
    }
   },
   "outputs": [
    {
     "name": "stdout",
     "output_type": "stream",
     "text": [
      "Accuracy on Training Set: 80.91\n",
      "Accuracy on Test Set: 81.46\n"
     ]
    }
   ],
   "source": [
    "from sklearn.ensemble import RandomForestClassifier\n",
    "\n",
    "forest = RandomForestClassifier(n_estimators=200, max_depth=4, max_features=6, n_jobs=-1, max_leaf_nodes=5).fit(X_train, y_train)\n",
    "\n",
    "acc_forest = forest.score(X_train, y_train)*100\n",
    "acc_test_forest = forest.score(X_test, y_test)*100\n",
    "\n",
    "print(\"Accuracy on Training Set: {:.2f}\".format(acc_forest))\n",
    "print(\"Accuracy on Test Set: {:.2f}\".format(acc_test_forest))"
   ]
  },
  {
   "cell_type": "markdown",
   "metadata": {},
   "source": [
    "#### Gradient Boosting Classifier"
   ]
  },
  {
   "cell_type": "code",
   "execution_count": 37,
   "metadata": {
    "ExecuteTime": {
     "end_time": "2021-01-09T15:55:22.780410Z",
     "start_time": "2021-01-09T15:55:22.664714Z"
    }
   },
   "outputs": [
    {
     "name": "stdout",
     "output_type": "stream",
     "text": [
      "Accuracy on Training Set: 78.96\n",
      "Accuracy on Test Set: 79.51\n",
      "k-Fold Score: 79.83\n"
     ]
    }
   ],
   "source": [
    "from sklearn.ensemble import GradientBoostingClassifier\n",
    "\n",
    "gradient = GradientBoostingClassifier(criterion = \"friedman_mse\", \n",
    "                                      learning_rate = 0.15, \n",
    "                                      loss = \"deviance\", \n",
    "                                      max_depth = 5, \n",
    "                                      max_features = \"sqrt\", \n",
    "                                      min_samples_leaf = 0.1, \n",
    "                                      min_samples_split = 0.2090909090909091, \n",
    "                                      n_estimators = 10, \n",
    "                                      subsample = 0.8).fit(X, y)\n",
    "\n",
    "acc_gradient = gradient.score(X_train, y_train)*100\n",
    "acc_test_gradient = gradient.score(X_test, y_test)*100\n",
    "kfold_xgb = cross_val_score(estimator = gradient, X = X, y = y, cv = 10)\n",
    "kfold_xgb_mean = round(kfold_xgb.mean() * 100, 2)\n",
    "\n",
    "print(\"Accuracy on Training Set: {:.2f}\".format(acc_gradient))\n",
    "print(\"Accuracy on Test Set: {:.2f}\".format(acc_test_gradient))\n",
    "print(\"k-Fold Score: {:.2f}\".format(kfold_xgb_mean))"
   ]
  },
  {
   "cell_type": "markdown",
   "metadata": {},
   "source": [
    "#### K-Nearest Neighbors"
   ]
  },
  {
   "cell_type": "code",
   "execution_count": 38,
   "metadata": {
    "ExecuteTime": {
     "end_time": "2021-01-09T15:55:22.816676Z",
     "start_time": "2021-01-09T15:55:22.781351Z"
    }
   },
   "outputs": [
    {
     "name": "stdout",
     "output_type": "stream",
     "text": [
      "Accuracy on Training Set: 72.59\n",
      "Accuracy on Test Set: 60.98\n"
     ]
    }
   ],
   "source": [
    "from sklearn.neighbors import KNeighborsClassifier\n",
    "knn = KNeighborsClassifier(n_neighbors=6).fit(X_train, y_train)\n",
    "\n",
    "acc_knn = knn.score(X_train, y_train)*100\n",
    "acc_test_knn = knn.score(X_test, y_test)*100\n",
    "\n",
    "print(\"Accuracy on Training Set: {:.2f}\".format(acc_knn))\n",
    "print(\"Accuracy on Test Set: {:.2f}\".format(acc_test_knn))"
   ]
  },
  {
   "cell_type": "markdown",
   "metadata": {},
   "source": [
    "#### Linear SVC"
   ]
  },
  {
   "cell_type": "code",
   "execution_count": 39,
   "metadata": {
    "ExecuteTime": {
     "end_time": "2021-01-09T15:55:22.907885Z",
     "start_time": "2021-01-09T15:55:22.817621Z"
    }
   },
   "outputs": [
    {
     "name": "stdout",
     "output_type": "stream",
     "text": [
      "Accuracy on Training Set: 77.00\n",
      "Accuracy on Test Set: 78.54\n"
     ]
    },
    {
     "name": "stderr",
     "output_type": "stream",
     "text": [
      "/home/prince/Github/Kaggle Competitions/venv/lib/python3.8/site-packages/sklearn/svm/_base.py:985: ConvergenceWarning: Liblinear failed to converge, increase the number of iterations.\n",
      "  warnings.warn(\"Liblinear failed to converge, increase \"\n"
     ]
    }
   ],
   "source": [
    "from sklearn.svm import LinearSVC\n",
    "linear_svc = LinearSVC(C=4).fit(X_train, y_train)\n",
    "\n",
    "acc_linearSVC = linear_svc.score(X_train, y_train)*100\n",
    "acc_test_linearSVC = linear_svc.score(X_test, y_test)*100\n",
    "\n",
    "print(\"Accuracy on Training Set: {:.2f}\".format(acc_linearSVC))\n",
    "print(\"Accuracy on Test Set: {:.2f}\".format(acc_test_linearSVC))"
   ]
  },
  {
   "cell_type": "markdown",
   "metadata": {},
   "source": [
    "#### Ridge Classifier"
   ]
  },
  {
   "cell_type": "code",
   "execution_count": 40,
   "metadata": {
    "ExecuteTime": {
     "end_time": "2021-01-09T15:55:22.963117Z",
     "start_time": "2021-01-09T15:55:22.908933Z"
    }
   },
   "outputs": [
    {
     "name": "stdout",
     "output_type": "stream",
     "text": [
      "Accuracy on Training Set: 80.42\n",
      "Accuracy on Test Set: 79.02\n"
     ]
    }
   ],
   "source": [
    "from sklearn.linear_model import RidgeClassifier\n",
    "ridge = RidgeClassifier().fit(X_train, y_train)\n",
    "\n",
    "acc_ridge = ridge.score(X_train, y_train)*100\n",
    "acc_test_ridge = ridge.score(X_test, y_test)*100\n",
    "\n",
    "print(\"Accuracy on Training Set: {:.2f}\".format(acc_ridge))\n",
    "print(\"Accuracy on Test Set: {:.2f}\".format(acc_test_ridge))"
   ]
  },
  {
   "cell_type": "markdown",
   "metadata": {},
   "source": [
    "#### Support Vector Classifier"
   ]
  },
  {
   "cell_type": "code",
   "execution_count": 41,
   "metadata": {
    "ExecuteTime": {
     "end_time": "2021-01-09T15:55:23.120328Z",
     "start_time": "2021-01-09T15:55:22.964145Z"
    }
   },
   "outputs": [
    {
     "name": "stdout",
     "output_type": "stream",
     "text": [
      "Accuracy on Training Set: 61.83\n",
      "Accuracy on Test Set: 59.02\n"
     ]
    }
   ],
   "source": [
    "from sklearn.svm import SVC\n",
    "svc = SVC(C=0.01, gamma=10).fit(X_train, y_train)\n",
    "acc_svc = svc.score(X_train, y_train)*100\n",
    "acc_test_svc = svc.score(X_test, y_test)*100\n",
    "\n",
    "print(\"Accuracy on Training Set: {:.2f}\".format(acc_svc))\n",
    "print(\"Accuracy on Test Set: {:.2f}\".format(acc_test_svc))"
   ]
  },
  {
   "cell_type": "markdown",
   "metadata": {},
   "source": [
    "#### XGBoost Classifier"
   ]
  },
  {
   "cell_type": "code",
   "execution_count": 41,
   "metadata": {
    "ExecuteTime": {
     "end_time": "2021-01-08T11:12:07.671857Z",
     "start_time": "2021-01-08T11:06:34.571945Z"
    },
    "deletable": false,
    "editable": false,
    "run_control": {
     "frozen": true
    }
   },
   "outputs": [
    {
     "name": "stdout",
     "output_type": "stream",
     "text": [
      "Fitting 10 folds for each of 10 candidates, totalling 100 fits\n",
      "[19:12:07] WARNING: ../src/learner.cc:1061: Starting in XGBoost 1.3.0, the default evaluation metric used with the objective 'binary:logistic' was changed from 'error' to 'logloss'. Explicitly set eval_metric if you'd like to restore the old behavior.\n",
      "Best Accuracy: 80.57\n",
      "Best Parameters: {'min_child_weight': 1, 'max_depth': 5, 'learning_rate': 0.05, 'gamma': 0.0, 'colsample_bytree': 0.3}\n"
     ]
    },
    {
     "name": "stderr",
     "output_type": "stream",
     "text": [
      "/home/prince/Github/Kaggle Competitions/venv/lib/python3.8/site-packages/xgboost/sklearn.py:892: UserWarning: The use of label encoder in XGBClassifier is deprecated and will be removed in a future release. To remove this warning, do the following: 1) Pass option use_label_encoder=False when constructing XGBClassifier object; and 2) Encode your labels (y) as integers starting with 0, i.e. 0, 1, 2, ..., [num_class - 1].\n",
      "  warnings.warn(label_encoder_deprecation_msg, UserWarning)\n"
     ]
    }
   ],
   "source": [
    "from xgboost import XGBClassifier\n",
    "\n",
    "# Hyper Parameter Optimization\n",
    "params={\n",
    "    \"learning_rate\"    : [0.05, 0.10, 0.15, 0.20, 0.25, 0.30 ],\n",
    "    \"max_depth\"        : [ 3, 4, 5, 6, 8, 10, 12, 15],\n",
    "    \"min_child_weight\" : [ 1, 3, 5, 7 ],\n",
    "    \"gamma\"            : [ 0.0, 0.1, 0.2 , 0.3, 0.4 ],\n",
    "    \"colsample_bytree\" : [ 0.3, 0.4, 0.5 , 0.7 ]\n",
    "}\n",
    "\n",
    "random_search = RandomizedSearchCV(estimator = XGBClassifier(),\n",
    "                                 param_distributions = params,\n",
    "                                 scoring = \"accuracy\",\n",
    "                                 cv = 10,\n",
    "                                 n_jobs = -1,\n",
    "                                 verbose = 2\n",
    "                                )\n",
    "random_search.fit(X, y)\n",
    "best_accuracy = random_search.best_score_\n",
    "best_params = random_search.best_params_\n",
    "print(\"Best Accuracy: {:.2f}\".format(best_accuracy*100))\n",
    "print(\"Best Parameters:\", best_params)"
   ]
  },
  {
   "cell_type": "markdown",
   "metadata": {},
   "source": [
    "### Hyperparameter Tuning"
   ]
  },
  {
   "cell_type": "markdown",
   "metadata": {},
   "source": [
    "#### GridSearchCV"
   ]
  },
  {
   "cell_type": "markdown",
   "metadata": {},
   "source": [
    "##### Gradient Boosting"
   ]
  },
  {
   "cell_type": "code",
   "execution_count": 42,
   "metadata": {
    "ExecuteTime": {
     "end_time": "2021-01-08T06:18:59.751685Z",
     "start_time": "2021-01-08T05:57:29.864782Z"
    },
    "deletable": false,
    "editable": false,
    "run_control": {
     "frozen": true
    }
   },
   "outputs": [
    {
     "name": "stdout",
     "output_type": "stream",
     "text": [
      "Fitting 5 folds for each of 84672 candidates, totalling 423360 fits\n",
      "Best Accuracy: 80.19\n",
      "Best Parameters: {'criterion': 'friedman_mse', 'learning_rate': 0.15, 'loss': 'deviance', 'max_depth': 5, 'max_features': 'sqrt', 'min_samples_leaf': 0.1, 'min_samples_split': 0.2090909090909091, 'n_estimators': 10, 'subsample': 0.8}\n"
     ]
    }
   ],
   "source": [
    "# Hyper Parameter Optimization\n",
    "parameters = {\n",
    "    \"loss\"               : [\"deviance\"],\n",
    "    \"learning_rate\"      : [0.01, 0.025, 0.05, 0.075, 0.1, 0.15, 0.2],\n",
    "    \"min_samples_split\"  : np.linspace(0.1, 0.5, 12),\n",
    "    \"min_samples_leaf\"   : np.linspace(0.1, 0.5, 12),\n",
    "    \"max_depth\"          : [3,5,8],\n",
    "    \"max_features\"       : [\"log2\",\"sqrt\"],\n",
    "    \"criterion\"          : [\"friedman_mse\",  \"mae\"],\n",
    "    \"subsample\"          : [0.5, 0.618, 0.8, 0.85, 0.9, 0.95, 1.0],\n",
    "    \"n_estimators\"       : [10]\n",
    "}\n",
    "\n",
    "grid_search = GridSearchCV(estimator = gradient,\n",
    "                           param_grid = parameters,\n",
    "                           cv = 5,\n",
    "                           scoring = \"accuracy\",\n",
    "                           n_jobs = -1,\n",
    "                           verbose = 2\n",
    "                          )\n",
    "grid_search.fit(X, y)\n",
    "best_accuracy = grid_search.best_score_\n",
    "best_params = grid_search.best_params_\n",
    "print(\"Best Accuracy: {:.2f}\".format(best_accuracy*100))\n",
    "print(\"Best Parameters:\", best_params)"
   ]
  },
  {
   "cell_type": "markdown",
   "metadata": {},
   "source": [
    "The above cell took 21 Minutes adn 30 Seconds to execute!"
   ]
  },
  {
   "cell_type": "markdown",
   "metadata": {},
   "source": [
    "#### RandomizedSearchCV"
   ]
  },
  {
   "cell_type": "markdown",
   "metadata": {},
   "source": [
    "##### Gradient Boosting"
   ]
  },
  {
   "cell_type": "code",
   "execution_count": 42,
   "metadata": {
    "ExecuteTime": {
     "end_time": "2021-01-09T15:55:24.318511Z",
     "start_time": "2021-01-09T15:55:23.122151Z"
    }
   },
   "outputs": [
    {
     "name": "stdout",
     "output_type": "stream",
     "text": [
      "Fitting 10 folds for each of 10 candidates, totalling 100 fits\n",
      "Best Accuracy: 79.10\n",
      "Best Parameters: {'subsample': 0.95, 'n_estimators': 25, 'min_samples_split': 0.13636363636363638, 'min_samples_leaf': 0.17272727272727273, 'max_features': 'log2', 'max_depth': 6, 'loss': 'deviance', 'learning_rate': 0.075, 'criterion': 'friedman_mse'}\n"
     ]
    }
   ],
   "source": [
    "# Hyper Parameter Optimization\n",
    "parameters = {\n",
    "    \"loss\"               : [\"deviance\"],\n",
    "    \"learning_rate\"      : [0.01, 0.025, 0.05, 0.075, 0.1, 0.15, 0.2],\n",
    "    \"min_samples_split\"  : np.linspace(0.1, 0.5, 12),\n",
    "    \"min_samples_leaf\"   : np.linspace(0.1, 0.5, 12),\n",
    "    \"max_depth\"          : [1, 2, 3, 4, 5, 6, 7, 8],\n",
    "    \"max_features\"       : [\"log2\",\"sqrt\"],\n",
    "    \"criterion\"          : [\"friedman_mse\",  \"mae\"],\n",
    "    \"subsample\"          : [0.5, 0.618, 0.8, 0.85, 0.9, 0.95, 1.0],\n",
    "    \"n_estimators\"       : [5, 10, 15, 20, 25, 30, 35, 40]\n",
    "}\n",
    "\n",
    "random_search = RandomizedSearchCV(estimator = gradient,\n",
    "                                   param_distributions = parameters,\n",
    "                                   cv = 10,\n",
    "                                   scoring = \"accuracy\",\n",
    "                                   n_jobs = -1,\n",
    "                                   verbose = 2\n",
    "                                  )\n",
    "random_search.fit(X, y)\n",
    "best_accuracy = random_search.best_score_\n",
    "best_params = random_search.best_params_\n",
    "print(\"Best Accuracy: {:.2f}\".format(best_accuracy*100))\n",
    "print(\"Best Parameters:\", best_params)"
   ]
  },
  {
   "cell_type": "markdown",
   "metadata": {},
   "source": [
    "This one only took 1.94 Seconds to execute as compared to GridSearchCV"
   ]
  },
  {
   "cell_type": "markdown",
   "metadata": {},
   "source": [
    "### Score Metrics"
   ]
  },
  {
   "cell_type": "code",
   "execution_count": 43,
   "metadata": {
    "ExecuteTime": {
     "end_time": "2021-01-09T15:55:24.324928Z",
     "start_time": "2021-01-09T15:55:24.319870Z"
    }
   },
   "outputs": [],
   "source": [
    "models = pd.DataFrame({\n",
    "    'Model': ['Support Vector Classifier', 'KNN', 'Logistic Regression', \n",
    "              'Random Forest', 'Linear SVC', 'Decision Tree', \"Ridge Regression\", \"Polynomial Regression\", \"Gradient Boosting Classifier\"],\n",
    "    'Train Score': [acc_svc, acc_knn, acc_logreg, acc_forest, acc_linearSVC, acc_tree, acc_ridge, acc_poly, acc_gradient],\n",
    "    'Test Score': [acc_test_svc, acc_test_knn, acc_test_logreg, acc_test_forest, acc_test_linearSVC, acc_test_tree, acc_test_ridge, np.nan, acc_test_gradient]\n",
    "                     })\n",
    "sorted_models = models.sort_values(by=[\"Train Score\", \"Test Score\"], ascending=False)"
   ]
  },
  {
   "cell_type": "code",
   "execution_count": 44,
   "metadata": {
    "ExecuteTime": {
     "end_time": "2021-01-09T15:55:24.513832Z",
     "start_time": "2021-01-09T15:55:24.326242Z"
    },
    "scrolled": true
   },
   "outputs": [
    {
     "data": {
      "text/html": [
       "<div>\n",
       "<style scoped>\n",
       "    .dataframe tbody tr th:only-of-type {\n",
       "        vertical-align: middle;\n",
       "    }\n",
       "\n",
       "    .dataframe tbody tr th {\n",
       "        vertical-align: top;\n",
       "    }\n",
       "\n",
       "    .dataframe thead th {\n",
       "        text-align: right;\n",
       "    }\n",
       "</style>\n",
       "<table border=\"1\" class=\"dataframe\">\n",
       "  <thead>\n",
       "    <tr style=\"text-align: right;\">\n",
       "      <th></th>\n",
       "      <th>Model</th>\n",
       "      <th>Train Score</th>\n",
       "      <th>Test Score</th>\n",
       "    </tr>\n",
       "  </thead>\n",
       "  <tbody>\n",
       "    <tr>\n",
       "      <th>5</th>\n",
       "      <td>Decision Tree</td>\n",
       "      <td>84.01</td>\n",
       "      <td>79.02</td>\n",
       "    </tr>\n",
       "    <tr>\n",
       "      <th>7</th>\n",
       "      <td>Polynomial Regression</td>\n",
       "      <td>83.89</td>\n",
       "      <td>NaN</td>\n",
       "    </tr>\n",
       "    <tr>\n",
       "      <th>3</th>\n",
       "      <td>Random Forest</td>\n",
       "      <td>80.91</td>\n",
       "      <td>81.46</td>\n",
       "    </tr>\n",
       "    <tr>\n",
       "      <th>6</th>\n",
       "      <td>Ridge Regression</td>\n",
       "      <td>80.42</td>\n",
       "      <td>79.02</td>\n",
       "    </tr>\n",
       "    <tr>\n",
       "      <th>2</th>\n",
       "      <td>Logistic Regression</td>\n",
       "      <td>80.26</td>\n",
       "      <td>77.56</td>\n",
       "    </tr>\n",
       "    <tr>\n",
       "      <th>8</th>\n",
       "      <td>Gradient Boosting Classifier</td>\n",
       "      <td>78.96</td>\n",
       "      <td>79.51</td>\n",
       "    </tr>\n",
       "    <tr>\n",
       "      <th>4</th>\n",
       "      <td>Linear SVC</td>\n",
       "      <td>77.00</td>\n",
       "      <td>78.54</td>\n",
       "    </tr>\n",
       "    <tr>\n",
       "      <th>1</th>\n",
       "      <td>KNN</td>\n",
       "      <td>72.59</td>\n",
       "      <td>60.98</td>\n",
       "    </tr>\n",
       "    <tr>\n",
       "      <th>0</th>\n",
       "      <td>Support Vector Classifier</td>\n",
       "      <td>61.83</td>\n",
       "      <td>59.02</td>\n",
       "    </tr>\n",
       "  </tbody>\n",
       "</table>\n",
       "</div>"
      ],
      "text/plain": [
       "                          Model  Train Score  Test Score\n",
       "5                 Decision Tree        84.01       79.02\n",
       "7         Polynomial Regression        83.89         NaN\n",
       "3                 Random Forest        80.91       81.46\n",
       "6              Ridge Regression        80.42       79.02\n",
       "2           Logistic Regression        80.26       77.56\n",
       "8  Gradient Boosting Classifier        78.96       79.51\n",
       "4                    Linear SVC        77.00       78.54\n",
       "1                           KNN        72.59       60.98\n",
       "0     Support Vector Classifier        61.83       59.02"
      ]
     },
     "execution_count": 44,
     "metadata": {},
     "output_type": "execute_result"
    }
   ],
   "source": [
    "sorted_models"
   ]
  },
  {
   "cell_type": "markdown",
   "metadata": {},
   "source": [
    "### Submission Predictions"
   ]
  },
  {
   "cell_type": "code",
   "execution_count": 45,
   "metadata": {
    "ExecuteTime": {
     "end_time": "2021-01-09T15:55:24.684443Z",
     "start_time": "2021-01-09T15:55:24.515631Z"
    }
   },
   "outputs": [],
   "source": [
    "predictions = random_search.predict(test_data)"
   ]
  },
  {
   "cell_type": "markdown",
   "metadata": {},
   "source": [
    "### GridSearchCV Prediction"
   ]
  },
  {
   "cell_type": "code",
   "execution_count": 46,
   "metadata": {
    "ExecuteTime": {
     "end_time": "2021-01-09T15:55:24.790278Z",
     "start_time": "2021-01-09T15:55:24.686028Z"
    }
   },
   "outputs": [],
   "source": [
    "# from sklearn.metrics import confusion_matrix\n",
    "# cm = confusion_matrix(ct.transform(y_test), predictions)"
   ]
  },
  {
   "cell_type": "code",
   "execution_count": 47,
   "metadata": {
    "ExecuteTime": {
     "end_time": "2021-01-09T15:55:24.868156Z",
     "start_time": "2021-01-09T15:55:24.792362Z"
    }
   },
   "outputs": [
    {
     "name": "stdout",
     "output_type": "stream",
     "text": [
      "Your submission was successfully saved!\n"
     ]
    }
   ],
   "source": [
    "output = pd.DataFrame({'PassengerId': test_data[5], 'Survived': predictions})\n",
    "output.to_csv('my_submission.csv', index=False)\n",
    "print(\"Your submission was successfully saved!\")"
   ]
  },
  {
   "cell_type": "markdown",
   "metadata": {},
   "source": [
    "## Visualizing Decision Tree"
   ]
  },
  {
   "cell_type": "code",
   "execution_count": 48,
   "metadata": {
    "ExecuteTime": {
     "end_time": "2021-01-09T15:55:25.024201Z",
     "start_time": "2021-01-09T15:55:24.869812Z"
    }
   },
   "outputs": [],
   "source": [
    "from sklearn.tree import export_graphviz\n",
    "feature_names=['Survived', 'Pclass', 'Sex', 'Age', 'SibSp','Parch', 'Fare', 'Embarked']\n",
    "export_graphviz(tree, out_file=\"tree.dot\", class_names=[\"Dead\", \"Alive\"], feature_names=X_train.columns, impurity=False, filled=True)"
   ]
  },
  {
   "cell_type": "code",
   "execution_count": 49,
   "metadata": {
    "ExecuteTime": {
     "end_time": "2021-01-09T15:55:25.159373Z",
     "start_time": "2021-01-09T15:55:25.026409Z"
    }
   },
   "outputs": [
    {
     "data": {
      "image/svg+xml": [
       "<?xml version=\"1.0\" encoding=\"UTF-8\" standalone=\"no\"?>\n",
       "<!DOCTYPE svg PUBLIC \"-//W3C//DTD SVG 1.1//EN\"\n",
       " \"http://www.w3.org/Graphics/SVG/1.1/DTD/svg11.dtd\">\n",
       "<!-- Generated by graphviz version 2.43.0 (0)\n",
       " -->\n",
       "<!-- Title: Tree Pages: 1 -->\n",
       "<svg width=\"1342pt\" height=\"477pt\"\n",
       " viewBox=\"0.00 0.00 1341.50 477.00\" xmlns=\"http://www.w3.org/2000/svg\" xmlns:xlink=\"http://www.w3.org/1999/xlink\">\n",
       "<g id=\"graph0\" class=\"graph\" transform=\"scale(1 1) rotate(0) translate(4 473)\">\n",
       "<title>Tree</title>\n",
       "<polygon fill=\"white\" stroke=\"transparent\" points=\"-4,4 -4,-473 1337.5,-473 1337.5,4 -4,4\"/>\n",
       "<!-- 0 -->\n",
       "<g id=\"node1\" class=\"node\">\n",
       "<title>0</title>\n",
       "<polygon fill=\"#f5cfb3\" stroke=\"black\" points=\"685.5,-469 536.5,-469 536.5,-401 685.5,-401 685.5,-469\"/>\n",
       "<text text-anchor=\"middle\" x=\"611\" y=\"-453.8\" font-family=\"Times,serif\" font-size=\"14.00\">1 &lt;= 0.5</text>\n",
       "<text text-anchor=\"middle\" x=\"611\" y=\"-438.8\" font-family=\"Times,serif\" font-size=\"14.00\">samples = 613</text>\n",
       "<text text-anchor=\"middle\" x=\"611\" y=\"-423.8\" font-family=\"Times,serif\" font-size=\"14.00\">value = [379, 234]</text>\n",
       "<text text-anchor=\"middle\" x=\"611\" y=\"-408.8\" font-family=\"Times,serif\" font-size=\"14.00\">class = Dead</text>\n",
       "</g>\n",
       "<!-- 1 -->\n",
       "<g id=\"node2\" class=\"node\">\n",
       "<title>1</title>\n",
       "<polygon fill=\"#78bced\" stroke=\"black\" points=\"545,-365 405,-365 405,-297 545,-297 545,-365\"/>\n",
       "<text text-anchor=\"middle\" x=\"475\" y=\"-349.8\" font-family=\"Times,serif\" font-size=\"14.00\">6 &lt;= 2.5</text>\n",
       "<text text-anchor=\"middle\" x=\"475\" y=\"-334.8\" font-family=\"Times,serif\" font-size=\"14.00\">samples = 203</text>\n",
       "<text text-anchor=\"middle\" x=\"475\" y=\"-319.8\" font-family=\"Times,serif\" font-size=\"14.00\">value = [49, 154]</text>\n",
       "<text text-anchor=\"middle\" x=\"475\" y=\"-304.8\" font-family=\"Times,serif\" font-size=\"14.00\">class = Alive</text>\n",
       "</g>\n",
       "<!-- 0&#45;&gt;1 -->\n",
       "<g id=\"edge1\" class=\"edge\">\n",
       "<title>0&#45;&gt;1</title>\n",
       "<path fill=\"none\" stroke=\"black\" d=\"M566.84,-400.88C554.37,-391.53 540.68,-381.26 527.76,-371.57\"/>\n",
       "<polygon fill=\"black\" stroke=\"black\" points=\"529.5,-368.5 519.4,-365.3 525.3,-374.1 529.5,-368.5\"/>\n",
       "<text text-anchor=\"middle\" x=\"522.93\" y=\"-386.35\" font-family=\"Times,serif\" font-size=\"14.00\">True</text>\n",
       "</g>\n",
       "<!-- 12 -->\n",
       "<g id=\"node13\" class=\"node\">\n",
       "<title>12</title>\n",
       "<polygon fill=\"#eba069\" stroke=\"black\" points=\"826,-365 686,-365 686,-297 826,-297 826,-365\"/>\n",
       "<text text-anchor=\"middle\" x=\"756\" y=\"-349.8\" font-family=\"Times,serif\" font-size=\"14.00\">7 &lt;= 14.0</text>\n",
       "<text text-anchor=\"middle\" x=\"756\" y=\"-334.8\" font-family=\"Times,serif\" font-size=\"14.00\">samples = 410</text>\n",
       "<text text-anchor=\"middle\" x=\"756\" y=\"-319.8\" font-family=\"Times,serif\" font-size=\"14.00\">value = [330, 80]</text>\n",
       "<text text-anchor=\"middle\" x=\"756\" y=\"-304.8\" font-family=\"Times,serif\" font-size=\"14.00\">class = Dead</text>\n",
       "</g>\n",
       "<!-- 0&#45;&gt;12 -->\n",
       "<g id=\"edge12\" class=\"edge\">\n",
       "<title>0&#45;&gt;12</title>\n",
       "<path fill=\"none\" stroke=\"black\" d=\"M658.08,-400.88C671.5,-391.44 686.25,-381.06 700.14,-371.29\"/>\n",
       "<polygon fill=\"black\" stroke=\"black\" points=\"702.5,-373.92 708.66,-365.3 698.47,-368.19 702.5,-373.92\"/>\n",
       "<text text-anchor=\"middle\" x=\"704.37\" y=\"-386.23\" font-family=\"Times,serif\" font-size=\"14.00\">False</text>\n",
       "</g>\n",
       "<!-- 2 -->\n",
       "<g id=\"node3\" class=\"node\">\n",
       "<title>2</title>\n",
       "<polygon fill=\"#45a3e7\" stroke=\"black\" points=\"334.5,-261 203.5,-261 203.5,-193 334.5,-193 334.5,-261\"/>\n",
       "<text text-anchor=\"middle\" x=\"269\" y=\"-245.8\" font-family=\"Times,serif\" font-size=\"14.00\">10 &lt;= 28.856</text>\n",
       "<text text-anchor=\"middle\" x=\"269\" y=\"-230.8\" font-family=\"Times,serif\" font-size=\"14.00\">samples = 109</text>\n",
       "<text text-anchor=\"middle\" x=\"269\" y=\"-215.8\" font-family=\"Times,serif\" font-size=\"14.00\">value = [6, 103]</text>\n",
       "<text text-anchor=\"middle\" x=\"269\" y=\"-200.8\" font-family=\"Times,serif\" font-size=\"14.00\">class = Alive</text>\n",
       "</g>\n",
       "<!-- 1&#45;&gt;2 -->\n",
       "<g id=\"edge2\" class=\"edge\">\n",
       "<title>1&#45;&gt;2</title>\n",
       "<path fill=\"none\" stroke=\"black\" d=\"M408.12,-296.88C387.65,-286.75 365,-275.54 344.03,-265.15\"/>\n",
       "<polygon fill=\"black\" stroke=\"black\" points=\"345.36,-261.9 334.84,-260.6 342.25,-268.18 345.36,-261.9\"/>\n",
       "</g>\n",
       "<!-- 7 -->\n",
       "<g id=\"node8\" class=\"node\">\n",
       "<title>7</title>\n",
       "<polygon fill=\"#e0f0fb\" stroke=\"black\" points=\"540.5,-261 409.5,-261 409.5,-193 540.5,-193 540.5,-261\"/>\n",
       "<text text-anchor=\"middle\" x=\"475\" y=\"-245.8\" font-family=\"Times,serif\" font-size=\"14.00\">10 &lt;= 23.35</text>\n",
       "<text text-anchor=\"middle\" x=\"475\" y=\"-230.8\" font-family=\"Times,serif\" font-size=\"14.00\">samples = 94</text>\n",
       "<text text-anchor=\"middle\" x=\"475\" y=\"-215.8\" font-family=\"Times,serif\" font-size=\"14.00\">value = [43, 51]</text>\n",
       "<text text-anchor=\"middle\" x=\"475\" y=\"-200.8\" font-family=\"Times,serif\" font-size=\"14.00\">class = Alive</text>\n",
       "</g>\n",
       "<!-- 1&#45;&gt;7 -->\n",
       "<g id=\"edge7\" class=\"edge\">\n",
       "<title>1&#45;&gt;7</title>\n",
       "<path fill=\"none\" stroke=\"black\" d=\"M475,-296.88C475,-288.78 475,-279.98 475,-271.47\"/>\n",
       "<polygon fill=\"black\" stroke=\"black\" points=\"478.5,-271.3 475,-261.3 471.5,-271.3 478.5,-271.3\"/>\n",
       "</g>\n",
       "<!-- 3 -->\n",
       "<g id=\"node4\" class=\"node\">\n",
       "<title>3</title>\n",
       "<polygon fill=\"#55abe9\" stroke=\"black\" points=\"190,-157 68,-157 68,-89 190,-89 190,-157\"/>\n",
       "<text text-anchor=\"middle\" x=\"129\" y=\"-141.8\" font-family=\"Times,serif\" font-size=\"14.00\">10 &lt;= 28.231</text>\n",
       "<text text-anchor=\"middle\" x=\"129\" y=\"-126.8\" font-family=\"Times,serif\" font-size=\"14.00\">samples = 48</text>\n",
       "<text text-anchor=\"middle\" x=\"129\" y=\"-111.8\" font-family=\"Times,serif\" font-size=\"14.00\">value = [6, 42]</text>\n",
       "<text text-anchor=\"middle\" x=\"129\" y=\"-96.8\" font-family=\"Times,serif\" font-size=\"14.00\">class = Alive</text>\n",
       "</g>\n",
       "<!-- 2&#45;&gt;3 -->\n",
       "<g id=\"edge3\" class=\"edge\">\n",
       "<title>2&#45;&gt;3</title>\n",
       "<path fill=\"none\" stroke=\"black\" d=\"M223.55,-192.88C210.59,-183.44 196.34,-173.06 182.93,-163.29\"/>\n",
       "<polygon fill=\"black\" stroke=\"black\" points=\"184.85,-160.36 174.71,-157.3 180.73,-166.02 184.85,-160.36\"/>\n",
       "</g>\n",
       "<!-- 6 -->\n",
       "<g id=\"node7\" class=\"node\">\n",
       "<title>6</title>\n",
       "<polygon fill=\"#399de5\" stroke=\"black\" points=\"330,-149.5 208,-149.5 208,-96.5 330,-96.5 330,-149.5\"/>\n",
       "<text text-anchor=\"middle\" x=\"269\" y=\"-134.3\" font-family=\"Times,serif\" font-size=\"14.00\">samples = 61</text>\n",
       "<text text-anchor=\"middle\" x=\"269\" y=\"-119.3\" font-family=\"Times,serif\" font-size=\"14.00\">value = [0, 61]</text>\n",
       "<text text-anchor=\"middle\" x=\"269\" y=\"-104.3\" font-family=\"Times,serif\" font-size=\"14.00\">class = Alive</text>\n",
       "</g>\n",
       "<!-- 2&#45;&gt;6 -->\n",
       "<g id=\"edge6\" class=\"edge\">\n",
       "<title>2&#45;&gt;6</title>\n",
       "<path fill=\"none\" stroke=\"black\" d=\"M269,-192.88C269,-182.33 269,-170.6 269,-159.85\"/>\n",
       "<polygon fill=\"black\" stroke=\"black\" points=\"272.5,-159.52 269,-149.52 265.5,-159.52 272.5,-159.52\"/>\n",
       "</g>\n",
       "<!-- 4 -->\n",
       "<g id=\"node5\" class=\"node\">\n",
       "<title>4</title>\n",
       "<polygon fill=\"#51a9e8\" stroke=\"black\" points=\"122,-53 0,-53 0,0 122,0 122,-53\"/>\n",
       "<text text-anchor=\"middle\" x=\"61\" y=\"-37.8\" font-family=\"Times,serif\" font-size=\"14.00\">samples = 47</text>\n",
       "<text text-anchor=\"middle\" x=\"61\" y=\"-22.8\" font-family=\"Times,serif\" font-size=\"14.00\">value = [5, 42]</text>\n",
       "<text text-anchor=\"middle\" x=\"61\" y=\"-7.8\" font-family=\"Times,serif\" font-size=\"14.00\">class = Alive</text>\n",
       "</g>\n",
       "<!-- 3&#45;&gt;4 -->\n",
       "<g id=\"edge4\" class=\"edge\">\n",
       "<title>3&#45;&gt;4</title>\n",
       "<path fill=\"none\" stroke=\"black\" d=\"M105.22,-88.95C98.83,-80.07 91.92,-70.46 85.49,-61.54\"/>\n",
       "<polygon fill=\"black\" stroke=\"black\" points=\"88.2,-59.31 79.52,-53.24 82.52,-63.4 88.2,-59.31\"/>\n",
       "</g>\n",
       "<!-- 5 -->\n",
       "<g id=\"node6\" class=\"node\">\n",
       "<title>5</title>\n",
       "<polygon fill=\"#e58139\" stroke=\"black\" points=\"253.5,-53 140.5,-53 140.5,0 253.5,0 253.5,-53\"/>\n",
       "<text text-anchor=\"middle\" x=\"197\" y=\"-37.8\" font-family=\"Times,serif\" font-size=\"14.00\">samples = 1</text>\n",
       "<text text-anchor=\"middle\" x=\"197\" y=\"-22.8\" font-family=\"Times,serif\" font-size=\"14.00\">value = [1, 0]</text>\n",
       "<text text-anchor=\"middle\" x=\"197\" y=\"-7.8\" font-family=\"Times,serif\" font-size=\"14.00\">class = Dead</text>\n",
       "</g>\n",
       "<!-- 3&#45;&gt;5 -->\n",
       "<g id=\"edge5\" class=\"edge\">\n",
       "<title>3&#45;&gt;5</title>\n",
       "<path fill=\"none\" stroke=\"black\" d=\"M152.78,-88.95C159.17,-80.07 166.08,-70.46 172.51,-61.54\"/>\n",
       "<polygon fill=\"black\" stroke=\"black\" points=\"175.48,-63.4 178.48,-53.24 169.8,-59.31 175.48,-63.4\"/>\n",
       "</g>\n",
       "<!-- 8 -->\n",
       "<g id=\"node9\" class=\"node\">\n",
       "<title>8</title>\n",
       "<polygon fill=\"#bddef6\" stroke=\"black\" points=\"479.5,-157 348.5,-157 348.5,-89 479.5,-89 479.5,-157\"/>\n",
       "<text text-anchor=\"middle\" x=\"414\" y=\"-141.8\" font-family=\"Times,serif\" font-size=\"14.00\">7 &lt;= 35.0</text>\n",
       "<text text-anchor=\"middle\" x=\"414\" y=\"-126.8\" font-family=\"Times,serif\" font-size=\"14.00\">samples = 85</text>\n",
       "<text text-anchor=\"middle\" x=\"414\" y=\"-111.8\" font-family=\"Times,serif\" font-size=\"14.00\">value = [34, 51]</text>\n",
       "<text text-anchor=\"middle\" x=\"414\" y=\"-96.8\" font-family=\"Times,serif\" font-size=\"14.00\">class = Alive</text>\n",
       "</g>\n",
       "<!-- 7&#45;&gt;8 -->\n",
       "<g id=\"edge8\" class=\"edge\">\n",
       "<title>7&#45;&gt;8</title>\n",
       "<path fill=\"none\" stroke=\"black\" d=\"M455.2,-192.88C450.08,-184.33 444.51,-175.01 439.16,-166.07\"/>\n",
       "<polygon fill=\"black\" stroke=\"black\" points=\"442.05,-164.09 433.91,-157.3 436.04,-167.68 442.05,-164.09\"/>\n",
       "</g>\n",
       "<!-- 11 -->\n",
       "<g id=\"node12\" class=\"node\">\n",
       "<title>11</title>\n",
       "<polygon fill=\"#e58139\" stroke=\"black\" points=\"610.5,-149.5 497.5,-149.5 497.5,-96.5 610.5,-96.5 610.5,-149.5\"/>\n",
       "<text text-anchor=\"middle\" x=\"554\" y=\"-134.3\" font-family=\"Times,serif\" font-size=\"14.00\">samples = 9</text>\n",
       "<text text-anchor=\"middle\" x=\"554\" y=\"-119.3\" font-family=\"Times,serif\" font-size=\"14.00\">value = [9, 0]</text>\n",
       "<text text-anchor=\"middle\" x=\"554\" y=\"-104.3\" font-family=\"Times,serif\" font-size=\"14.00\">class = Dead</text>\n",
       "</g>\n",
       "<!-- 7&#45;&gt;11 -->\n",
       "<g id=\"edge11\" class=\"edge\">\n",
       "<title>7&#45;&gt;11</title>\n",
       "<path fill=\"none\" stroke=\"black\" d=\"M500.65,-192.88C509.42,-181.56 519.24,-168.88 528.04,-157.52\"/>\n",
       "<polygon fill=\"black\" stroke=\"black\" points=\"530.88,-159.57 534.23,-149.52 525.34,-155.28 530.88,-159.57\"/>\n",
       "</g>\n",
       "<!-- 9 -->\n",
       "<g id=\"node10\" class=\"node\">\n",
       "<title>9</title>\n",
       "<polygon fill=\"#aad5f4\" stroke=\"black\" points=\"441.5,-53 310.5,-53 310.5,0 441.5,0 441.5,-53\"/>\n",
       "<text text-anchor=\"middle\" x=\"376\" y=\"-37.8\" font-family=\"Times,serif\" font-size=\"14.00\">samples = 80</text>\n",
       "<text text-anchor=\"middle\" x=\"376\" y=\"-22.8\" font-family=\"Times,serif\" font-size=\"14.00\">value = [29, 51]</text>\n",
       "<text text-anchor=\"middle\" x=\"376\" y=\"-7.8\" font-family=\"Times,serif\" font-size=\"14.00\">class = Alive</text>\n",
       "</g>\n",
       "<!-- 8&#45;&gt;9 -->\n",
       "<g id=\"edge9\" class=\"edge\">\n",
       "<title>8&#45;&gt;9</title>\n",
       "<path fill=\"none\" stroke=\"black\" d=\"M400.71,-88.95C397.29,-80.44 393.6,-71.26 390.13,-62.65\"/>\n",
       "<polygon fill=\"black\" stroke=\"black\" points=\"393.33,-61.21 386.35,-53.24 386.83,-63.82 393.33,-61.21\"/>\n",
       "</g>\n",
       "<!-- 10 -->\n",
       "<g id=\"node11\" class=\"node\">\n",
       "<title>10</title>\n",
       "<polygon fill=\"#e58139\" stroke=\"black\" points=\"572.5,-53 459.5,-53 459.5,0 572.5,0 572.5,-53\"/>\n",
       "<text text-anchor=\"middle\" x=\"516\" y=\"-37.8\" font-family=\"Times,serif\" font-size=\"14.00\">samples = 5</text>\n",
       "<text text-anchor=\"middle\" x=\"516\" y=\"-22.8\" font-family=\"Times,serif\" font-size=\"14.00\">value = [5, 0]</text>\n",
       "<text text-anchor=\"middle\" x=\"516\" y=\"-7.8\" font-family=\"Times,serif\" font-size=\"14.00\">class = Dead</text>\n",
       "</g>\n",
       "<!-- 8&#45;&gt;10 -->\n",
       "<g id=\"edge10\" class=\"edge\">\n",
       "<title>8&#45;&gt;10</title>\n",
       "<path fill=\"none\" stroke=\"black\" d=\"M449.67,-88.95C459.75,-79.62 470.7,-69.47 480.74,-60.16\"/>\n",
       "<polygon fill=\"black\" stroke=\"black\" points=\"483.26,-62.6 488.22,-53.24 478.51,-57.47 483.26,-62.6\"/>\n",
       "</g>\n",
       "<!-- 13 -->\n",
       "<g id=\"node14\" class=\"node\">\n",
       "<title>13</title>\n",
       "<polygon fill=\"#53aae8\" stroke=\"black\" points=\"817,-261 695,-261 695,-193 817,-193 817,-261\"/>\n",
       "<text text-anchor=\"middle\" x=\"756\" y=\"-245.8\" font-family=\"Times,serif\" font-size=\"14.00\">8 &lt;= 2.5</text>\n",
       "<text text-anchor=\"middle\" x=\"756\" y=\"-230.8\" font-family=\"Times,serif\" font-size=\"14.00\">samples = 17</text>\n",
       "<text text-anchor=\"middle\" x=\"756\" y=\"-215.8\" font-family=\"Times,serif\" font-size=\"14.00\">value = [2, 15]</text>\n",
       "<text text-anchor=\"middle\" x=\"756\" y=\"-200.8\" font-family=\"Times,serif\" font-size=\"14.00\">class = Alive</text>\n",
       "</g>\n",
       "<!-- 12&#45;&gt;13 -->\n",
       "<g id=\"edge13\" class=\"edge\">\n",
       "<title>12&#45;&gt;13</title>\n",
       "<path fill=\"none\" stroke=\"black\" d=\"M756,-296.88C756,-288.78 756,-279.98 756,-271.47\"/>\n",
       "<polygon fill=\"black\" stroke=\"black\" points=\"759.5,-271.3 756,-261.3 752.5,-271.3 759.5,-271.3\"/>\n",
       "</g>\n",
       "<!-- 16 -->\n",
       "<g id=\"node17\" class=\"node\">\n",
       "<title>16</title>\n",
       "<polygon fill=\"#ea9a60\" stroke=\"black\" points=\"1041,-261 901,-261 901,-193 1041,-193 1041,-261\"/>\n",
       "<text text-anchor=\"middle\" x=\"971\" y=\"-245.8\" font-family=\"Times,serif\" font-size=\"14.00\">10 &lt;= 26.269</text>\n",
       "<text text-anchor=\"middle\" x=\"971\" y=\"-230.8\" font-family=\"Times,serif\" font-size=\"14.00\">samples = 393</text>\n",
       "<text text-anchor=\"middle\" x=\"971\" y=\"-215.8\" font-family=\"Times,serif\" font-size=\"14.00\">value = [328, 65]</text>\n",
       "<text text-anchor=\"middle\" x=\"971\" y=\"-200.8\" font-family=\"Times,serif\" font-size=\"14.00\">class = Dead</text>\n",
       "</g>\n",
       "<!-- 12&#45;&gt;16 -->\n",
       "<g id=\"edge16\" class=\"edge\">\n",
       "<title>12&#45;&gt;16</title>\n",
       "<path fill=\"none\" stroke=\"black\" d=\"M825.8,-296.88C846.94,-286.86 870.3,-275.77 891.99,-265.48\"/>\n",
       "<polygon fill=\"black\" stroke=\"black\" points=\"893.64,-268.57 901.18,-261.12 890.64,-262.25 893.64,-268.57\"/>\n",
       "</g>\n",
       "<!-- 14 -->\n",
       "<g id=\"node15\" class=\"node\">\n",
       "<title>14</title>\n",
       "<polygon fill=\"#399de5\" stroke=\"black\" points=\"751,-149.5 629,-149.5 629,-96.5 751,-96.5 751,-149.5\"/>\n",
       "<text text-anchor=\"middle\" x=\"690\" y=\"-134.3\" font-family=\"Times,serif\" font-size=\"14.00\">samples = 15</text>\n",
       "<text text-anchor=\"middle\" x=\"690\" y=\"-119.3\" font-family=\"Times,serif\" font-size=\"14.00\">value = [0, 15]</text>\n",
       "<text text-anchor=\"middle\" x=\"690\" y=\"-104.3\" font-family=\"Times,serif\" font-size=\"14.00\">class = Alive</text>\n",
       "</g>\n",
       "<!-- 13&#45;&gt;14 -->\n",
       "<g id=\"edge14\" class=\"edge\">\n",
       "<title>13&#45;&gt;14</title>\n",
       "<path fill=\"none\" stroke=\"black\" d=\"M734.57,-192.88C727.38,-181.78 719.36,-169.37 712.12,-158.18\"/>\n",
       "<polygon fill=\"black\" stroke=\"black\" points=\"714.88,-156.01 706.51,-149.52 709.01,-159.82 714.88,-156.01\"/>\n",
       "</g>\n",
       "<!-- 15 -->\n",
       "<g id=\"node16\" class=\"node\">\n",
       "<title>15</title>\n",
       "<polygon fill=\"#e58139\" stroke=\"black\" points=\"882.5,-149.5 769.5,-149.5 769.5,-96.5 882.5,-96.5 882.5,-149.5\"/>\n",
       "<text text-anchor=\"middle\" x=\"826\" y=\"-134.3\" font-family=\"Times,serif\" font-size=\"14.00\">samples = 2</text>\n",
       "<text text-anchor=\"middle\" x=\"826\" y=\"-119.3\" font-family=\"Times,serif\" font-size=\"14.00\">value = [2, 0]</text>\n",
       "<text text-anchor=\"middle\" x=\"826\" y=\"-104.3\" font-family=\"Times,serif\" font-size=\"14.00\">class = Dead</text>\n",
       "</g>\n",
       "<!-- 13&#45;&gt;15 -->\n",
       "<g id=\"edge15\" class=\"edge\">\n",
       "<title>13&#45;&gt;15</title>\n",
       "<path fill=\"none\" stroke=\"black\" d=\"M778.73,-192.88C786.43,-181.67 795.03,-169.13 802.77,-157.85\"/>\n",
       "<polygon fill=\"black\" stroke=\"black\" points=\"805.71,-159.75 808.49,-149.52 799.94,-155.78 805.71,-159.75\"/>\n",
       "</g>\n",
       "<!-- 17 -->\n",
       "<g id=\"node18\" class=\"node\">\n",
       "<title>17</title>\n",
       "<polygon fill=\"#e88f50\" stroke=\"black\" points=\"1041,-157 901,-157 901,-89 1041,-89 1041,-157\"/>\n",
       "<text text-anchor=\"middle\" x=\"971\" y=\"-141.8\" font-family=\"Times,serif\" font-size=\"14.00\">5 &lt;= 24.5</text>\n",
       "<text text-anchor=\"middle\" x=\"971\" y=\"-126.8\" font-family=\"Times,serif\" font-size=\"14.00\">samples = 302</text>\n",
       "<text text-anchor=\"middle\" x=\"971\" y=\"-111.8\" font-family=\"Times,serif\" font-size=\"14.00\">value = [271, 31]</text>\n",
       "<text text-anchor=\"middle\" x=\"971\" y=\"-96.8\" font-family=\"Times,serif\" font-size=\"14.00\">class = Dead</text>\n",
       "</g>\n",
       "<!-- 16&#45;&gt;17 -->\n",
       "<g id=\"edge17\" class=\"edge\">\n",
       "<title>16&#45;&gt;17</title>\n",
       "<path fill=\"none\" stroke=\"black\" d=\"M971,-192.88C971,-184.78 971,-175.98 971,-167.47\"/>\n",
       "<polygon fill=\"black\" stroke=\"black\" points=\"974.5,-167.3 971,-157.3 967.5,-167.3 974.5,-167.3\"/>\n",
       "</g>\n",
       "<!-- 20 -->\n",
       "<g id=\"node21\" class=\"node\">\n",
       "<title>20</title>\n",
       "<polygon fill=\"#f5ccaf\" stroke=\"black\" points=\"1190.5,-157 1059.5,-157 1059.5,-89 1190.5,-89 1190.5,-157\"/>\n",
       "<text text-anchor=\"middle\" x=\"1125\" y=\"-141.8\" font-family=\"Times,serif\" font-size=\"14.00\">5 &lt;= 388.5</text>\n",
       "<text text-anchor=\"middle\" x=\"1125\" y=\"-126.8\" font-family=\"Times,serif\" font-size=\"14.00\">samples = 91</text>\n",
       "<text text-anchor=\"middle\" x=\"1125\" y=\"-111.8\" font-family=\"Times,serif\" font-size=\"14.00\">value = [57, 34]</text>\n",
       "<text text-anchor=\"middle\" x=\"1125\" y=\"-96.8\" font-family=\"Times,serif\" font-size=\"14.00\">class = Dead</text>\n",
       "</g>\n",
       "<!-- 16&#45;&gt;20 -->\n",
       "<g id=\"edge20\" class=\"edge\">\n",
       "<title>16&#45;&gt;20</title>\n",
       "<path fill=\"none\" stroke=\"black\" d=\"M1021,-192.88C1035.46,-183.3 1051.38,-172.76 1066.32,-162.86\"/>\n",
       "<polygon fill=\"black\" stroke=\"black\" points=\"1068.58,-165.56 1074.99,-157.12 1064.72,-159.73 1068.58,-165.56\"/>\n",
       "</g>\n",
       "<!-- 18 -->\n",
       "<g id=\"node19\" class=\"node\">\n",
       "<title>18</title>\n",
       "<polygon fill=\"#9ccef2\" stroke=\"black\" points=\"883.5,-53 770.5,-53 770.5,0 883.5,0 883.5,-53\"/>\n",
       "<text text-anchor=\"middle\" x=\"827\" y=\"-37.8\" font-family=\"Times,serif\" font-size=\"14.00\">samples = 3</text>\n",
       "<text text-anchor=\"middle\" x=\"827\" y=\"-22.8\" font-family=\"Times,serif\" font-size=\"14.00\">value = [1, 2]</text>\n",
       "<text text-anchor=\"middle\" x=\"827\" y=\"-7.8\" font-family=\"Times,serif\" font-size=\"14.00\">class = Alive</text>\n",
       "</g>\n",
       "<!-- 17&#45;&gt;18 -->\n",
       "<g id=\"edge18\" class=\"edge\">\n",
       "<title>17&#45;&gt;18</title>\n",
       "<path fill=\"none\" stroke=\"black\" d=\"M920.64,-88.95C905.72,-79.16 889.44,-68.48 874.7,-58.8\"/>\n",
       "<polygon fill=\"black\" stroke=\"black\" points=\"876.5,-55.8 866.22,-53.24 872.66,-61.65 876.5,-55.8\"/>\n",
       "</g>\n",
       "<!-- 19 -->\n",
       "<g id=\"node20\" class=\"node\">\n",
       "<title>19</title>\n",
       "<polygon fill=\"#e88f4e\" stroke=\"black\" points=\"1042,-53 902,-53 902,0 1042,0 1042,-53\"/>\n",
       "<text text-anchor=\"middle\" x=\"972\" y=\"-37.8\" font-family=\"Times,serif\" font-size=\"14.00\">samples = 299</text>\n",
       "<text text-anchor=\"middle\" x=\"972\" y=\"-22.8\" font-family=\"Times,serif\" font-size=\"14.00\">value = [270, 29]</text>\n",
       "<text text-anchor=\"middle\" x=\"972\" y=\"-7.8\" font-family=\"Times,serif\" font-size=\"14.00\">class = Dead</text>\n",
       "</g>\n",
       "<!-- 17&#45;&gt;19 -->\n",
       "<g id=\"edge19\" class=\"edge\">\n",
       "<title>17&#45;&gt;19</title>\n",
       "<path fill=\"none\" stroke=\"black\" d=\"M971.35,-88.95C971.44,-80.72 971.53,-71.85 971.62,-63.48\"/>\n",
       "<polygon fill=\"black\" stroke=\"black\" points=\"975.12,-63.27 971.73,-53.24 968.12,-63.2 975.12,-63.27\"/>\n",
       "</g>\n",
       "<!-- 21 -->\n",
       "<g id=\"node22\" class=\"node\">\n",
       "<title>21</title>\n",
       "<polygon fill=\"#eb9f69\" stroke=\"black\" points=\"1184,-53 1062,-53 1062,0 1184,0 1184,-53\"/>\n",
       "<text text-anchor=\"middle\" x=\"1123\" y=\"-37.8\" font-family=\"Times,serif\" font-size=\"14.00\">samples = 36</text>\n",
       "<text text-anchor=\"middle\" x=\"1123\" y=\"-22.8\" font-family=\"Times,serif\" font-size=\"14.00\">value = [29, 7]</text>\n",
       "<text text-anchor=\"middle\" x=\"1123\" y=\"-7.8\" font-family=\"Times,serif\" font-size=\"14.00\">class = Dead</text>\n",
       "</g>\n",
       "<!-- 20&#45;&gt;21 -->\n",
       "<g id=\"edge21\" class=\"edge\">\n",
       "<title>20&#45;&gt;21</title>\n",
       "<path fill=\"none\" stroke=\"black\" d=\"M1124.3,-88.95C1124.13,-80.72 1123.94,-71.85 1123.76,-63.48\"/>\n",
       "<polygon fill=\"black\" stroke=\"black\" points=\"1127.26,-63.16 1123.54,-53.24 1120.26,-63.31 1127.26,-63.16\"/>\n",
       "</g>\n",
       "<!-- 22 -->\n",
       "<g id=\"node23\" class=\"node\">\n",
       "<title>22</title>\n",
       "<polygon fill=\"#fefaf8\" stroke=\"black\" points=\"1333.5,-53 1202.5,-53 1202.5,0 1333.5,0 1333.5,-53\"/>\n",
       "<text text-anchor=\"middle\" x=\"1268\" y=\"-37.8\" font-family=\"Times,serif\" font-size=\"14.00\">samples = 55</text>\n",
       "<text text-anchor=\"middle\" x=\"1268\" y=\"-22.8\" font-family=\"Times,serif\" font-size=\"14.00\">value = [28, 27]</text>\n",
       "<text text-anchor=\"middle\" x=\"1268\" y=\"-7.8\" font-family=\"Times,serif\" font-size=\"14.00\">class = Dead</text>\n",
       "</g>\n",
       "<!-- 20&#45;&gt;22 -->\n",
       "<g id=\"edge22\" class=\"edge\">\n",
       "<title>20&#45;&gt;22</title>\n",
       "<path fill=\"none\" stroke=\"black\" d=\"M1175.01,-88.95C1189.83,-79.16 1205.99,-68.48 1220.63,-58.8\"/>\n",
       "<polygon fill=\"black\" stroke=\"black\" points=\"1222.64,-61.67 1229.05,-53.24 1218.78,-55.83 1222.64,-61.67\"/>\n",
       "</g>\n",
       "</g>\n",
       "</svg>\n"
      ],
      "text/plain": [
       "<graphviz.files.Source at 0x7efeb30b2460>"
      ]
     },
     "execution_count": 49,
     "metadata": {},
     "output_type": "execute_result"
    }
   ],
   "source": [
    "import graphviz\n",
    "with open(\"tree.dot\") as f:\n",
    "    dot_graph = f.read()\n",
    "graphviz.Source(dot_graph)"
   ]
  },
  {
   "cell_type": "code",
   "execution_count": 50,
   "metadata": {
    "ExecuteTime": {
     "end_time": "2021-01-09T15:55:25.215620Z",
     "start_time": "2021-01-09T15:55:25.160786Z"
    }
   },
   "outputs": [],
   "source": [
    "def plot_feature_importance(model):\n",
    "    n_features = X.shape[1]\n",
    "    plt.barh(np.arange(n_features), model.feature_importances_, align=\"center\")\n",
    "    plt.yticks(np.arange(n_features), feature_names)\n",
    "    plt.xlabel(\"Feature Importance\")\n",
    "    plt.ylabel(\"Feature Names\")"
   ]
  },
  {
   "cell_type": "code",
   "execution_count": 51,
   "metadata": {
    "ExecuteTime": {
     "end_time": "2021-01-09T15:55:25.289860Z",
     "start_time": "2021-01-09T15:55:25.217492Z"
    }
   },
   "outputs": [],
   "source": [
    "# plot_feature_importance(tree)"
   ]
  },
  {
   "cell_type": "markdown",
   "metadata": {},
   "source": [
    "## Visualizing Random Forest"
   ]
  },
  {
   "cell_type": "code",
   "execution_count": 52,
   "metadata": {
    "ExecuteTime": {
     "end_time": "2021-01-09T15:55:25.347984Z",
     "start_time": "2021-01-09T15:55:25.291595Z"
    }
   },
   "outputs": [],
   "source": [
    "# plot_feature_importance(forest)"
   ]
  },
  {
   "cell_type": "markdown",
   "metadata": {},
   "source": [
    "## Visualizing Gradient Boosting"
   ]
  },
  {
   "cell_type": "code",
   "execution_count": 53,
   "metadata": {
    "ExecuteTime": {
     "end_time": "2021-01-09T15:55:25.423567Z",
     "start_time": "2021-01-09T15:55:25.349062Z"
    }
   },
   "outputs": [],
   "source": [
    "# plot_feature_importance(gradient)"
   ]
  }
 ],
 "metadata": {
  "kernelspec": {
   "display_name": "Python 3",
   "language": "python",
   "name": "python3"
  },
  "language_info": {
   "codemirror_mode": {
    "name": "ipython",
    "version": 3
   },
   "file_extension": ".py",
   "mimetype": "text/x-python",
   "name": "python",
   "nbconvert_exporter": "python",
   "pygments_lexer": "ipython3",
   "version": "3.8.5"
  },
  "toc": {
   "base_numbering": 1,
   "nav_menu": {},
   "number_sections": true,
   "sideBar": true,
   "skip_h1_title": false,
   "title_cell": "Table of Contents",
   "title_sidebar": "Contents",
   "toc_cell": false,
   "toc_position": {
    "height": "calc(100% - 180px)",
    "left": "10px",
    "top": "150px",
    "width": "300.767px"
   },
   "toc_section_display": true,
   "toc_window_display": true
  }
 },
 "nbformat": 4,
 "nbformat_minor": 1
}