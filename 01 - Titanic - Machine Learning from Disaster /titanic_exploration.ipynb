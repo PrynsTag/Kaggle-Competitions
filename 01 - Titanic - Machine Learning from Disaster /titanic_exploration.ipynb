{
 "cells": [
  {
   "cell_type": "markdown",
   "metadata": {},
   "source": [
    "# Titanic - Machine Learning from Disaster\n",
    "This is my first submission in Kaggle so if you find any mistakes, corrections, or suggestions, feel free to mention them."
   ]
  },
  {
   "cell_type": "markdown",
   "metadata": {
    "heading_collapsed": true
   },
   "source": [
    "## Initial Setup"
   ]
  },
  {
   "cell_type": "markdown",
   "metadata": {
    "hidden": true
   },
   "source": [
    "### Import Statements"
   ]
  },
  {
   "cell_type": "code",
   "execution_count": 1,
   "metadata": {
    "ExecuteTime": {
     "end_time": "2021-01-02T12:26:02.957976Z",
     "start_time": "2021-01-02T12:26:02.600194Z"
    },
    "hidden": true
   },
   "outputs": [],
   "source": [
    "import numpy as np # linear algebra\n",
    "import pandas as pd # data processing, CSV file I/O (e.g. pd.read_csv)\n",
    "import matplotlib.pyplot as plt # Data Visualization "
   ]
  },
  {
   "cell_type": "markdown",
   "metadata": {
    "hidden": true
   },
   "source": [
    "### Import the Datasets"
   ]
  },
  {
   "cell_type": "code",
   "execution_count": 2,
   "metadata": {
    "ExecuteTime": {
     "end_time": "2021-01-02T12:26:02.966551Z",
     "start_time": "2021-01-02T12:26:02.959160Z"
    },
    "hidden": true
   },
   "outputs": [],
   "source": [
    "train_data = pd.read_csv(\"./datasets/train.csv\")\n",
    "test_data = pd.read_csv(\"./datasets/test.csv\")"
   ]
  },
  {
   "cell_type": "markdown",
   "metadata": {
    "hidden": true
   },
   "source": [
    "### Stylistics"
   ]
  },
  {
   "cell_type": "code",
   "execution_count": 3,
   "metadata": {
    "ExecuteTime": {
     "end_time": "2021-01-02T12:26:03.072791Z",
     "start_time": "2021-01-02T12:26:02.967889Z"
    },
    "hidden": true
   },
   "outputs": [],
   "source": [
    "%matplotlib inline\n",
    "plt.style.use(\"dark_background\")\n",
    "pd.set_option(\"display.max_rows\", 500)\n",
    "pd.set_option(\"display.max_columns\", 500)\n",
    "pd.set_option(\"display.width\", 1000)"
   ]
  },
  {
   "cell_type": "markdown",
   "metadata": {
    "heading_collapsed": true
   },
   "source": [
    "## Data Cleaning"
   ]
  },
  {
   "cell_type": "markdown",
   "metadata": {
    "heading_collapsed": true,
    "hidden": true
   },
   "source": [
    "### Files"
   ]
  },
  {
   "cell_type": "code",
   "execution_count": 4,
   "metadata": {
    "ExecuteTime": {
     "end_time": "2021-01-02T12:26:03.176402Z",
     "start_time": "2021-01-02T12:26:03.074650Z"
    },
    "hidden": true
   },
   "outputs": [
    {
     "name": "stdout",
     "output_type": "stream",
     "text": [
      "./datasets/test.csv\n",
      "./datasets/gender_submission.csv\n",
      "./datasets/train.csv\n"
     ]
    }
   ],
   "source": [
    "# This Python 3 environment comes with many helpful analytics libraries installed\n",
    "# It is defined by the kaggle/python docker image: https://github.com/kaggle/docker-python\n",
    "# For example, here's several helpful packages to load in \n",
    "\n",
    "# Input data files are available in the \"../input/\" directory.\n",
    "# For example, running this (by clicking run or pressing Shift+Enter) will list all files under the input directory\n",
    "\n",
    "import os\n",
    "for dirname, _, filenames in os.walk('./datasets/'):\n",
    "    for filename in filenames:\n",
    "        print(os.path.join(dirname, filename))\n",
    "\n",
    "# Any results you write to the current directory are saved as output."
   ]
  },
  {
   "cell_type": "markdown",
   "metadata": {
    "heading_collapsed": true,
    "hidden": true
   },
   "source": [
    "### Exploring the Dataset"
   ]
  },
  {
   "cell_type": "code",
   "execution_count": 5,
   "metadata": {
    "ExecuteTime": {
     "end_time": "2021-01-02T12:26:03.333954Z",
     "start_time": "2021-01-02T12:26:03.178098Z"
    },
    "hidden": true
   },
   "outputs": [
    {
     "data": {
      "text/html": [
       "<div>\n",
       "<style scoped>\n",
       "    .dataframe tbody tr th:only-of-type {\n",
       "        vertical-align: middle;\n",
       "    }\n",
       "\n",
       "    .dataframe tbody tr th {\n",
       "        vertical-align: top;\n",
       "    }\n",
       "\n",
       "    .dataframe thead th {\n",
       "        text-align: right;\n",
       "    }\n",
       "</style>\n",
       "<table border=\"1\" class=\"dataframe\">\n",
       "  <thead>\n",
       "    <tr style=\"text-align: right;\">\n",
       "      <th></th>\n",
       "      <th>PassengerId</th>\n",
       "      <th>Survived</th>\n",
       "      <th>Pclass</th>\n",
       "      <th>Name</th>\n",
       "      <th>Sex</th>\n",
       "      <th>Age</th>\n",
       "      <th>SibSp</th>\n",
       "      <th>Parch</th>\n",
       "      <th>Ticket</th>\n",
       "      <th>Fare</th>\n",
       "      <th>Cabin</th>\n",
       "      <th>Embarked</th>\n",
       "    </tr>\n",
       "  </thead>\n",
       "  <tbody>\n",
       "    <tr>\n",
       "      <th>0</th>\n",
       "      <td>1</td>\n",
       "      <td>0</td>\n",
       "      <td>3</td>\n",
       "      <td>Braund, Mr. Owen Harris</td>\n",
       "      <td>male</td>\n",
       "      <td>22.0</td>\n",
       "      <td>1</td>\n",
       "      <td>0</td>\n",
       "      <td>A/5 21171</td>\n",
       "      <td>7.2500</td>\n",
       "      <td>NaN</td>\n",
       "      <td>S</td>\n",
       "    </tr>\n",
       "    <tr>\n",
       "      <th>1</th>\n",
       "      <td>2</td>\n",
       "      <td>1</td>\n",
       "      <td>1</td>\n",
       "      <td>Cumings, Mrs. John Bradley (Florence Briggs Th...</td>\n",
       "      <td>female</td>\n",
       "      <td>38.0</td>\n",
       "      <td>1</td>\n",
       "      <td>0</td>\n",
       "      <td>PC 17599</td>\n",
       "      <td>71.2833</td>\n",
       "      <td>C85</td>\n",
       "      <td>C</td>\n",
       "    </tr>\n",
       "    <tr>\n",
       "      <th>2</th>\n",
       "      <td>3</td>\n",
       "      <td>1</td>\n",
       "      <td>3</td>\n",
       "      <td>Heikkinen, Miss. Laina</td>\n",
       "      <td>female</td>\n",
       "      <td>26.0</td>\n",
       "      <td>0</td>\n",
       "      <td>0</td>\n",
       "      <td>STON/O2. 3101282</td>\n",
       "      <td>7.9250</td>\n",
       "      <td>NaN</td>\n",
       "      <td>S</td>\n",
       "    </tr>\n",
       "    <tr>\n",
       "      <th>3</th>\n",
       "      <td>4</td>\n",
       "      <td>1</td>\n",
       "      <td>1</td>\n",
       "      <td>Futrelle, Mrs. Jacques Heath (Lily May Peel)</td>\n",
       "      <td>female</td>\n",
       "      <td>35.0</td>\n",
       "      <td>1</td>\n",
       "      <td>0</td>\n",
       "      <td>113803</td>\n",
       "      <td>53.1000</td>\n",
       "      <td>C123</td>\n",
       "      <td>S</td>\n",
       "    </tr>\n",
       "    <tr>\n",
       "      <th>4</th>\n",
       "      <td>5</td>\n",
       "      <td>0</td>\n",
       "      <td>3</td>\n",
       "      <td>Allen, Mr. William Henry</td>\n",
       "      <td>male</td>\n",
       "      <td>35.0</td>\n",
       "      <td>0</td>\n",
       "      <td>0</td>\n",
       "      <td>373450</td>\n",
       "      <td>8.0500</td>\n",
       "      <td>NaN</td>\n",
       "      <td>S</td>\n",
       "    </tr>\n",
       "    <tr>\n",
       "      <th>...</th>\n",
       "      <td>...</td>\n",
       "      <td>...</td>\n",
       "      <td>...</td>\n",
       "      <td>...</td>\n",
       "      <td>...</td>\n",
       "      <td>...</td>\n",
       "      <td>...</td>\n",
       "      <td>...</td>\n",
       "      <td>...</td>\n",
       "      <td>...</td>\n",
       "      <td>...</td>\n",
       "      <td>...</td>\n",
       "    </tr>\n",
       "    <tr>\n",
       "      <th>886</th>\n",
       "      <td>887</td>\n",
       "      <td>0</td>\n",
       "      <td>2</td>\n",
       "      <td>Montvila, Rev. Juozas</td>\n",
       "      <td>male</td>\n",
       "      <td>27.0</td>\n",
       "      <td>0</td>\n",
       "      <td>0</td>\n",
       "      <td>211536</td>\n",
       "      <td>13.0000</td>\n",
       "      <td>NaN</td>\n",
       "      <td>S</td>\n",
       "    </tr>\n",
       "    <tr>\n",
       "      <th>887</th>\n",
       "      <td>888</td>\n",
       "      <td>1</td>\n",
       "      <td>1</td>\n",
       "      <td>Graham, Miss. Margaret Edith</td>\n",
       "      <td>female</td>\n",
       "      <td>19.0</td>\n",
       "      <td>0</td>\n",
       "      <td>0</td>\n",
       "      <td>112053</td>\n",
       "      <td>30.0000</td>\n",
       "      <td>B42</td>\n",
       "      <td>S</td>\n",
       "    </tr>\n",
       "    <tr>\n",
       "      <th>888</th>\n",
       "      <td>889</td>\n",
       "      <td>0</td>\n",
       "      <td>3</td>\n",
       "      <td>Johnston, Miss. Catherine Helen \"Carrie\"</td>\n",
       "      <td>female</td>\n",
       "      <td>NaN</td>\n",
       "      <td>1</td>\n",
       "      <td>2</td>\n",
       "      <td>W./C. 6607</td>\n",
       "      <td>23.4500</td>\n",
       "      <td>NaN</td>\n",
       "      <td>S</td>\n",
       "    </tr>\n",
       "    <tr>\n",
       "      <th>889</th>\n",
       "      <td>890</td>\n",
       "      <td>1</td>\n",
       "      <td>1</td>\n",
       "      <td>Behr, Mr. Karl Howell</td>\n",
       "      <td>male</td>\n",
       "      <td>26.0</td>\n",
       "      <td>0</td>\n",
       "      <td>0</td>\n",
       "      <td>111369</td>\n",
       "      <td>30.0000</td>\n",
       "      <td>C148</td>\n",
       "      <td>C</td>\n",
       "    </tr>\n",
       "    <tr>\n",
       "      <th>890</th>\n",
       "      <td>891</td>\n",
       "      <td>0</td>\n",
       "      <td>3</td>\n",
       "      <td>Dooley, Mr. Patrick</td>\n",
       "      <td>male</td>\n",
       "      <td>32.0</td>\n",
       "      <td>0</td>\n",
       "      <td>0</td>\n",
       "      <td>370376</td>\n",
       "      <td>7.7500</td>\n",
       "      <td>NaN</td>\n",
       "      <td>Q</td>\n",
       "    </tr>\n",
       "  </tbody>\n",
       "</table>\n",
       "<p>891 rows × 12 columns</p>\n",
       "</div>"
      ],
      "text/plain": [
       "     PassengerId  Survived  Pclass                                               Name     Sex   Age  SibSp  Parch            Ticket     Fare Cabin Embarked\n",
       "0              1         0       3                            Braund, Mr. Owen Harris    male  22.0      1      0         A/5 21171   7.2500   NaN        S\n",
       "1              2         1       1  Cumings, Mrs. John Bradley (Florence Briggs Th...  female  38.0      1      0          PC 17599  71.2833   C85        C\n",
       "2              3         1       3                             Heikkinen, Miss. Laina  female  26.0      0      0  STON/O2. 3101282   7.9250   NaN        S\n",
       "3              4         1       1       Futrelle, Mrs. Jacques Heath (Lily May Peel)  female  35.0      1      0            113803  53.1000  C123        S\n",
       "4              5         0       3                           Allen, Mr. William Henry    male  35.0      0      0            373450   8.0500   NaN        S\n",
       "..           ...       ...     ...                                                ...     ...   ...    ...    ...               ...      ...   ...      ...\n",
       "886          887         0       2                              Montvila, Rev. Juozas    male  27.0      0      0            211536  13.0000   NaN        S\n",
       "887          888         1       1                       Graham, Miss. Margaret Edith  female  19.0      0      0            112053  30.0000   B42        S\n",
       "888          889         0       3           Johnston, Miss. Catherine Helen \"Carrie\"  female   NaN      1      2        W./C. 6607  23.4500   NaN        S\n",
       "889          890         1       1                              Behr, Mr. Karl Howell    male  26.0      0      0            111369  30.0000  C148        C\n",
       "890          891         0       3                                Dooley, Mr. Patrick    male  32.0      0      0            370376   7.7500   NaN        Q\n",
       "\n",
       "[891 rows x 12 columns]"
      ]
     },
     "execution_count": 5,
     "metadata": {},
     "output_type": "execute_result"
    }
   ],
   "source": [
    "train_data"
   ]
  },
  {
   "cell_type": "code",
   "execution_count": 6,
   "metadata": {
    "ExecuteTime": {
     "end_time": "2021-01-02T12:26:03.405632Z",
     "start_time": "2021-01-02T12:26:03.334926Z"
    },
    "hidden": true
   },
   "outputs": [
    {
     "name": "stdout",
     "output_type": "stream",
     "text": [
      "Number of Rows: 891\n",
      "Number of Colums: 12\n",
      "Column Names: ['PassengerId' 'Survived' 'Pclass' 'Name' 'Sex' 'Age' 'SibSp' 'Parch'\n",
      " 'Ticket' 'Fare' 'Cabin' 'Embarked']\n"
     ]
    }
   ],
   "source": [
    "print(\"Number of Rows: {}\".format(train_data.shape[0]))\n",
    "print(\"Number of Colums: {}\".format(train_data.shape[1]))\n",
    "print(\"Column Names: {}\".format(train_data.columns.values))"
   ]
  },
  {
   "cell_type": "code",
   "execution_count": 7,
   "metadata": {
    "ExecuteTime": {
     "end_time": "2021-01-02T12:26:03.480874Z",
     "start_time": "2021-01-02T12:26:03.407087Z"
    },
    "hidden": true
   },
   "outputs": [
    {
     "name": "stdout",
     "output_type": "stream",
     "text": [
      "<class 'pandas.core.frame.DataFrame'>\n",
      "RangeIndex: 891 entries, 0 to 890\n",
      "Data columns (total 12 columns):\n",
      " #   Column       Non-Null Count  Dtype  \n",
      "---  ------       --------------  -----  \n",
      " 0   PassengerId  891 non-null    int64  \n",
      " 1   Survived     891 non-null    int64  \n",
      " 2   Pclass       891 non-null    int64  \n",
      " 3   Name         891 non-null    object \n",
      " 4   Sex          891 non-null    object \n",
      " 5   Age          714 non-null    float64\n",
      " 6   SibSp        891 non-null    int64  \n",
      " 7   Parch        891 non-null    int64  \n",
      " 8   Ticket       891 non-null    object \n",
      " 9   Fare         891 non-null    float64\n",
      " 10  Cabin        204 non-null    object \n",
      " 11  Embarked     889 non-null    object \n",
      "dtypes: float64(2), int64(5), object(5)\n",
      "memory usage: 83.7+ KB\n"
     ]
    }
   ],
   "source": [
    "train_data.info()"
   ]
  },
  {
   "cell_type": "markdown",
   "metadata": {
    "hidden": true
   },
   "source": [
    "Some of the insights that we can get from these cells are:\n",
    "1. `PassengerId` gives a natural ordering to the dataset.\n",
    "2. We have 891 rows and 12 columns. `Name`, `Ticket` and `Cabin` are no important to us and should be dropped.\n",
    "3. The Columns have correct dtype except `Sex` that can be turned into a boolean number.\n",
    "4. We have 7 Numeric Columns and 5 Strings\n",
    "4. We have missing values."
   ]
  },
  {
   "cell_type": "markdown",
   "metadata": {
    "heading_collapsed": true,
    "hidden": true
   },
   "source": [
    "### Remove Unnecessary Columns "
   ]
  },
  {
   "cell_type": "markdown",
   "metadata": {
    "hidden": true
   },
   "source": [
    "#### Training Data"
   ]
  },
  {
   "cell_type": "code",
   "execution_count": 8,
   "metadata": {
    "ExecuteTime": {
     "end_time": "2021-01-02T12:26:03.540908Z",
     "start_time": "2021-01-02T12:26:03.483687Z"
    },
    "hidden": true
   },
   "outputs": [
    {
     "name": "stdout",
     "output_type": "stream",
     "text": [
      "Number of Colums (BEFORE): 12\n",
      "Number of Colums (AFTER): 9\n"
     ]
    }
   ],
   "source": [
    "print(\"Number of Colums (BEFORE): {}\".format(train_data.shape[1]))\n",
    "train_data = train_data.drop([\"Name\", \"Ticket\", \"Cabin\"], axis=1)\n",
    "print(\"Number of Colums (AFTER): {}\".format(train_data.shape[1]))"
   ]
  },
  {
   "cell_type": "markdown",
   "metadata": {
    "hidden": true
   },
   "source": [
    "We can confirm that we have removed the columns by printing how many columns we have."
   ]
  },
  {
   "cell_type": "markdown",
   "metadata": {
    "hidden": true
   },
   "source": [
    "#### Test Data"
   ]
  },
  {
   "cell_type": "code",
   "execution_count": 9,
   "metadata": {
    "ExecuteTime": {
     "end_time": "2021-01-02T12:26:03.666559Z",
     "start_time": "2021-01-02T12:26:03.543200Z"
    },
    "hidden": true
   },
   "outputs": [
    {
     "name": "stdout",
     "output_type": "stream",
     "text": [
      "Number of Colums (BEFORE): 11\n",
      "Number of Colums (AFTER): 8\n"
     ]
    }
   ],
   "source": [
    "print(\"Number of Colums (BEFORE): {}\".format(test_data.shape[1]))\n",
    "test_data = test_data.drop([\"Name\", \"Ticket\", \"Cabin\"], axis=1)\n",
    "print(\"Number of Colums (AFTER): {}\".format(test_data.shape[1]))"
   ]
  },
  {
   "cell_type": "markdown",
   "metadata": {
    "heading_collapsed": true,
    "hidden": true
   },
   "source": [
    "### Missing Values"
   ]
  },
  {
   "cell_type": "markdown",
   "metadata": {
    "heading_collapsed": true,
    "hidden": true
   },
   "source": [
    "#### Training Data"
   ]
  },
  {
   "cell_type": "code",
   "execution_count": 10,
   "metadata": {
    "ExecuteTime": {
     "end_time": "2021-01-02T12:26:03.751664Z",
     "start_time": "2021-01-02T12:26:03.667730Z"
    },
    "hidden": true
   },
   "outputs": [
    {
     "name": "stdout",
     "output_type": "stream",
     "text": [
      "PassengerId: 0\n",
      "Survived: 0\n",
      "Pclass: 0\n",
      "Sex: 0\n",
      "Age: 177\n",
      "SibSp: 0\n",
      "Parch: 0\n",
      "Fare: 0\n",
      "Embarked: 2\n"
     ]
    }
   ],
   "source": [
    "def missing_val(data=\"train_data\"):\n",
    "    if data == \"train_data\":\n",
    "        for col in train_data.columns:\n",
    "            print(\"{}: {}\".format(col, train_data[col].isnull().sum()))\n",
    "    else:\n",
    "        for col in test_data.columns:\n",
    "            print(\"{}: {}\".format(col, test_data[col].isnull().sum()))\n",
    "\n",
    "missing_val()"
   ]
  },
  {
   "cell_type": "markdown",
   "metadata": {
    "hidden": true
   },
   "source": [
    "We can see that `Age` and `Embarked` has the missing values. Let's deal first with `Age`."
   ]
  },
  {
   "cell_type": "markdown",
   "metadata": {
    "heading_collapsed": true,
    "hidden": true
   },
   "source": [
    "#### Test Data"
   ]
  },
  {
   "cell_type": "code",
   "execution_count": 11,
   "metadata": {
    "ExecuteTime": {
     "end_time": "2021-01-02T12:26:03.827095Z",
     "start_time": "2021-01-02T12:26:03.753140Z"
    },
    "hidden": true
   },
   "outputs": [
    {
     "name": "stdout",
     "output_type": "stream",
     "text": [
      "PassengerId: 0\n",
      "Pclass: 0\n",
      "Sex: 0\n",
      "Age: 86\n",
      "SibSp: 0\n",
      "Parch: 0\n",
      "Fare: 1\n",
      "Embarked: 0\n"
     ]
    }
   ],
   "source": [
    "missing_val(\"test_data\")"
   ]
  },
  {
   "cell_type": "markdown",
   "metadata": {
    "hidden": true
   },
   "source": [
    "Just like `train_data`, `test_data` also has some missing data on age."
   ]
  },
  {
   "cell_type": "markdown",
   "metadata": {
    "heading_collapsed": true,
    "hidden": true
   },
   "source": [
    "#### Filing `Age` Column with Mean Values"
   ]
  },
  {
   "cell_type": "markdown",
   "metadata": {
    "hidden": true
   },
   "source": [
    "Since `Age` has some significant values that are missing and we have no way to identify the  age of the passenger based on the columns presented, one solution that I can think of is fill this with the mean values of the `Age` column. Let's do just that."
   ]
  },
  {
   "cell_type": "markdown",
   "metadata": {
    "heading_collapsed": true,
    "hidden": true
   },
   "source": [
    "##### Training Data"
   ]
  },
  {
   "cell_type": "code",
   "execution_count": 12,
   "metadata": {
    "ExecuteTime": {
     "end_time": "2021-01-02T12:26:03.924441Z",
     "start_time": "2021-01-02T12:26:03.828649Z"
    },
    "hidden": true
   },
   "outputs": [],
   "source": [
    "mean_age = train_data[\"Age\"].mean()\n",
    "train_data[\"Age\"].fillna(mean_age, inplace=True)"
   ]
  },
  {
   "cell_type": "code",
   "execution_count": 13,
   "metadata": {
    "ExecuteTime": {
     "end_time": "2021-01-02T12:26:03.994000Z",
     "start_time": "2021-01-02T12:26:03.926005Z"
    },
    "hidden": true
   },
   "outputs": [
    {
     "name": "stdout",
     "output_type": "stream",
     "text": [
      "PassengerId: 0\n",
      "Survived: 0\n",
      "Pclass: 0\n",
      "Sex: 0\n",
      "Age: 0\n",
      "SibSp: 0\n",
      "Parch: 0\n",
      "Fare: 0\n",
      "Embarked: 2\n"
     ]
    }
   ],
   "source": [
    "missing_val()"
   ]
  },
  {
   "cell_type": "markdown",
   "metadata": {
    "hidden": true
   },
   "source": [
    "As we can see, the `Age` column does not have any more missing values. Now let's do the same with the `test_data`."
   ]
  },
  {
   "cell_type": "markdown",
   "metadata": {
    "hidden": true
   },
   "source": [
    "##### Test Data"
   ]
  },
  {
   "cell_type": "code",
   "execution_count": 14,
   "metadata": {
    "ExecuteTime": {
     "end_time": "2021-01-02T12:26:04.065825Z",
     "start_time": "2021-01-02T12:26:03.995509Z"
    },
    "hidden": true
   },
   "outputs": [],
   "source": [
    "mean_age = test_data[\"Age\"].mean()\n",
    "test_data[\"Age\"].fillna(mean_age, inplace=True)"
   ]
  },
  {
   "cell_type": "code",
   "execution_count": 15,
   "metadata": {
    "ExecuteTime": {
     "end_time": "2021-01-02T12:26:04.170073Z",
     "start_time": "2021-01-02T12:26:04.067452Z"
    },
    "hidden": true
   },
   "outputs": [
    {
     "name": "stdout",
     "output_type": "stream",
     "text": [
      "PassengerId: 0\n",
      "Pclass: 0\n",
      "Sex: 0\n",
      "Age: 0\n",
      "SibSp: 0\n",
      "Parch: 0\n",
      "Fare: 1\n",
      "Embarked: 0\n"
     ]
    }
   ],
   "source": [
    "missing_val(\"test_data\")"
   ]
  },
  {
   "cell_type": "markdown",
   "metadata": {
    "hidden": true
   },
   "source": [
    "As we can see, there are no mising values in the `Age` Column."
   ]
  },
  {
   "cell_type": "markdown",
   "metadata": {
    "heading_collapsed": true,
    "hidden": true
   },
   "source": [
    "#### Filing `Fare` Column with Mean Values"
   ]
  },
  {
   "cell_type": "code",
   "execution_count": 16,
   "metadata": {
    "ExecuteTime": {
     "end_time": "2021-01-02T12:26:04.265844Z",
     "start_time": "2021-01-02T12:26:04.171607Z"
    },
    "hidden": true
   },
   "outputs": [],
   "source": [
    "mean_fare = test_data[\"Fare\"].mean()\n",
    "test_data[\"Fare\"].fillna(mean_fare, inplace=True)"
   ]
  },
  {
   "cell_type": "markdown",
   "metadata": {
    "hidden": true
   },
   "source": [
    "#### Removing  Missing Values"
   ]
  },
  {
   "cell_type": "markdown",
   "metadata": {
    "heading_collapsed": true,
    "hidden": true
   },
   "source": [
    "##### Training Data"
   ]
  },
  {
   "cell_type": "markdown",
   "metadata": {
    "hidden": true
   },
   "source": [
    "Since `Embarked` is a column that tells from which port did the person come in to Titanic and there is no way we can tell that based on the information at hand, we will just removed it since we are only removing an insignificant amount of rows."
   ]
  },
  {
   "cell_type": "code",
   "execution_count": 17,
   "metadata": {
    "ExecuteTime": {
     "end_time": "2021-01-02T12:26:04.370929Z",
     "start_time": "2021-01-02T12:26:04.267376Z"
    },
    "hidden": true
   },
   "outputs": [
    {
     "name": "stdout",
     "output_type": "stream",
     "text": [
      "BEFORE Row Deletion: 891\n",
      "\n",
      "PassengerId: 0\n",
      "Survived: 0\n",
      "Pclass: 0\n",
      "Sex: 0\n",
      "Age: 0\n",
      "SibSp: 0\n",
      "Parch: 0\n",
      "Fare: 0\n",
      "Embarked: 0\n",
      "\n",
      "AFTER Row Deletion: 889\n"
     ]
    }
   ],
   "source": [
    "print(\"BEFORE Row Deletion: {}\\n\".format(train_data.shape[0]))\n",
    "train_data.dropna(inplace=True)\n",
    "missing_val()\n",
    "print(\"\\nAFTER Row Deletion: {}\".format(train_data.shape[0]))"
   ]
  },
  {
   "cell_type": "markdown",
   "metadata": {
    "heading_collapsed": true,
    "hidden": true
   },
   "source": [
    "### Removing  Outliers\n",
    "In order for our dataset to be prepared to be analyzed by our chosen model, we need to remove outliers that will draw our conclusion far away from the truth. To do this, we will consider a value an outlier if it falls over 3 standard deviation away from the mean."
   ]
  },
  {
   "cell_type": "markdown",
   "metadata": {
    "hidden": true
   },
   "source": [
    "#### Numeric Columns"
   ]
  },
  {
   "cell_type": "code",
   "execution_count": 18,
   "metadata": {
    "ExecuteTime": {
     "end_time": "2021-01-02T12:26:04.465936Z",
     "start_time": "2021-01-02T12:26:04.372158Z"
    },
    "hidden": true
   },
   "outputs": [
    {
     "name": "stdout",
     "output_type": "stream",
     "text": [
      "Number of Observations: Fare -> (869, 9)\n",
      "\n",
      "Number of Observations: Age -> (862, 9)\n",
      "\n",
      "Number of Observations: SibSp -> (832, 9)\n",
      "\n",
      "Number of Observations: Parch -> (818, 9)\n",
      "\n",
      "Number of Observation Removed: 71\n"
     ]
    }
   ],
   "source": [
    "features = [\"Fare\", \"Age\", \"SibSp\", \"Parch\"] # Columns we are interested in\n",
    "before_removal = train_data.shape[0]\n",
    "for feature in features:\n",
    "    min_ = train_data[feature].mean() - (3 * train_data[feature].std())\n",
    "    max_ = train_data[feature].mean() + (3 * train_data[feature].std())\n",
    "    \n",
    "    train_data = train_data[train_data[feature] >= min_]\n",
    "    train_data = train_data[train_data[feature] <= max_]\n",
    "    print(\"Number of Observations: {} -> {}\\n\".format(feature, train_data.shape))\n",
    "    \n",
    "print(\"Number of Observation Removed: {}\".format(before_removal - train_data.shape[0]))"
   ]
  },
  {
   "cell_type": "markdown",
   "metadata": {
    "heading_collapsed": true,
    "hidden": true
   },
   "source": [
    "#### Text Columns"
   ]
  },
  {
   "cell_type": "markdown",
   "metadata": {
    "heading_collapsed": true,
    "hidden": true
   },
   "source": [
    "##### Training Data"
   ]
  },
  {
   "cell_type": "code",
   "execution_count": 19,
   "metadata": {
    "ExecuteTime": {
     "end_time": "2021-01-02T12:26:04.534583Z",
     "start_time": "2021-01-02T12:26:04.467490Z"
    },
    "hidden": true
   },
   "outputs": [
    {
     "name": "stdout",
     "output_type": "stream",
     "text": [
      "Sex\n",
      "male      539\n",
      "female    279\n",
      "Name: Sex, dtype: int64 \n",
      "\n",
      "Embarked\n",
      "S    594\n",
      "C    153\n",
      "Q     71\n",
      "Name: Embarked, dtype: int64 \n",
      "\n"
     ]
    }
   ],
   "source": [
    "features = [\"Sex\", \"Embarked\"]\n",
    "\n",
    "for feature in features:\n",
    "    count_ = train_data[feature].value_counts()\n",
    "    \n",
    "    print(feature)\n",
    "    print(count_, \"\\n\")"
   ]
  },
  {
   "cell_type": "markdown",
   "metadata": {
    "heading_collapsed": true,
    "hidden": true
   },
   "source": [
    "##### Test Data"
   ]
  },
  {
   "cell_type": "code",
   "execution_count": 20,
   "metadata": {
    "ExecuteTime": {
     "end_time": "2021-01-02T12:26:04.608491Z",
     "start_time": "2021-01-02T12:26:04.535792Z"
    },
    "hidden": true
   },
   "outputs": [
    {
     "name": "stdout",
     "output_type": "stream",
     "text": [
      "Sex\n",
      "male      266\n",
      "female    152\n",
      "Name: Sex, dtype: int64 \n",
      "\n",
      "Embarked\n",
      "S    270\n",
      "C    102\n",
      "Q     46\n",
      "Name: Embarked, dtype: int64 \n",
      "\n"
     ]
    }
   ],
   "source": [
    "features = [\"Sex\", \"Embarked\"]\n",
    "\n",
    "for feature in features:\n",
    "    count_ = test_data[feature].value_counts()\n",
    "    \n",
    "    print(feature)\n",
    "    print(count_, \"\\n\")"
   ]
  },
  {
   "cell_type": "markdown",
   "metadata": {
    "hidden": true
   },
   "source": [
    "None of the classes for any of the features are considered to be outliers as they all represent over 5% of the entire dataset."
   ]
  },
  {
   "cell_type": "markdown",
   "metadata": {
    "heading_collapsed": true
   },
   "source": [
    "## Data Preprocessing\n",
    "Since we have String columns, our Machine Learning model won't be able to process data that are not numbers. A solution might be to use `LabelEncoder()` from scikit-learn to transform the text data into numeric data."
   ]
  },
  {
   "cell_type": "code",
   "execution_count": 21,
   "metadata": {
    "ExecuteTime": {
     "end_time": "2021-01-02T12:26:04.928024Z",
     "start_time": "2021-01-02T12:26:04.610005Z"
    },
    "hidden": true
   },
   "outputs": [],
   "source": [
    "from sklearn.preprocessing import LabelEncoder\n",
    "\n",
    "encode = LabelEncoder()\n",
    "features = [\"Sex\", \"Embarked\"]\n",
    "\n",
    "for feature in features:\n",
    "    train_data[feature] = encode.fit_transform(train_data[feature])\n",
    "    test_data[feature] = encode.fit_transform(test_data[feature])"
   ]
  },
  {
   "cell_type": "code",
   "execution_count": 22,
   "metadata": {
    "ExecuteTime": {
     "end_time": "2021-01-02T12:26:04.935681Z",
     "start_time": "2021-01-02T12:26:04.929488Z"
    },
    "hidden": true
   },
   "outputs": [
    {
     "data": {
      "text/plain": [
       "[1    539\n",
       " 0    279\n",
       " Name: Sex, dtype: int64,\n",
       " 2    594\n",
       " 0    153\n",
       " 1     71\n",
       " Name: Embarked, dtype: int64]"
      ]
     },
     "execution_count": 22,
     "metadata": {},
     "output_type": "execute_result"
    }
   ],
   "source": [
    "[train_data[feature].value_counts() for feature in features]"
   ]
  },
  {
   "cell_type": "code",
   "execution_count": 23,
   "metadata": {
    "ExecuteTime": {
     "end_time": "2021-01-02T12:26:05.023869Z",
     "start_time": "2021-01-02T12:26:04.938019Z"
    },
    "hidden": true
   },
   "outputs": [
    {
     "data": {
      "text/plain": [
       "[1    266\n",
       " 0    152\n",
       " Name: Sex, dtype: int64,\n",
       " 2    270\n",
       " 0    102\n",
       " 1     46\n",
       " Name: Embarked, dtype: int64]"
      ]
     },
     "execution_count": 23,
     "metadata": {},
     "output_type": "execute_result"
    }
   ],
   "source": [
    "[test_data[feature].value_counts() for feature in features]"
   ]
  },
  {
   "cell_type": "markdown",
   "metadata": {
    "hidden": true
   },
   "source": [
    "We can confirm that the labels are encoded in a numeric data."
   ]
  },
  {
   "cell_type": "markdown",
   "metadata": {
    "heading_collapsed": true
   },
   "source": [
    "## Machine Learning Model\n",
    "Now we are ready to feed our data to the model we choose to predict whether a person will survive or not depending on the labeled data that we fed in to our model."
   ]
  },
  {
   "cell_type": "markdown",
   "metadata": {
    "heading_collapsed": true,
    "hidden": true
   },
   "source": [
    "### Splitting the Training Dataset into Dependent and Independent Variable\n",
    "Since the answer that we want to address is whether the person is going to survive or not (`Survived`), this will be our dependent variable and the rest of te features will be the independent variable."
   ]
  },
  {
   "cell_type": "markdown",
   "metadata": {
    "heading_collapsed": true,
    "hidden": true
   },
   "source": [
    "#### Training Data"
   ]
  },
  {
   "cell_type": "code",
   "execution_count": 24,
   "metadata": {
    "ExecuteTime": {
     "end_time": "2021-01-02T12:26:05.089919Z",
     "start_time": "2021-01-02T12:26:05.025108Z"
    },
    "hidden": true
   },
   "outputs": [],
   "source": [
    "X = train_data.drop(\"Survived\", axis=1).values\n",
    "y = train_data[\"Survived\"].values"
   ]
  },
  {
   "cell_type": "code",
   "execution_count": 25,
   "metadata": {
    "ExecuteTime": {
     "end_time": "2021-01-02T12:26:05.171663Z",
     "start_time": "2021-01-02T12:26:05.091368Z"
    },
    "hidden": true
   },
   "outputs": [],
   "source": [
    "from sklearn.model_selection import train_test_split\n",
    "X_train, X_test, y_train, y_test = train_test_split(X, y) "
   ]
  },
  {
   "cell_type": "markdown",
   "metadata": {
    "heading_collapsed": true,
    "hidden": true
   },
   "source": [
    "### Fitting the Training Data to Model"
   ]
  },
  {
   "cell_type": "code",
   "execution_count": 26,
   "metadata": {
    "ExecuteTime": {
     "end_time": "2021-01-02T12:26:05.248334Z",
     "start_time": "2021-01-02T12:26:05.172832Z"
    },
    "hidden": true
   },
   "outputs": [],
   "source": [
    "from sklearn.tree import DecisionTreeClassifier\n",
    "\n",
    "tree = DecisionTreeClassifier(max_depth=4).fit(X_train, y_train)"
   ]
  },
  {
   "cell_type": "markdown",
   "metadata": {
    "hidden": true
   },
   "source": [
    "#### Predictions"
   ]
  },
  {
   "cell_type": "code",
   "execution_count": 27,
   "metadata": {
    "ExecuteTime": {
     "end_time": "2021-01-02T12:26:05.290893Z",
     "start_time": "2021-01-02T12:26:05.249398Z"
    },
    "hidden": true
   },
   "outputs": [],
   "source": [
    "predictions = tree.predict(test_data)"
   ]
  },
  {
   "cell_type": "code",
   "execution_count": 28,
   "metadata": {
    "ExecuteTime": {
     "end_time": "2021-01-02T12:26:05.359047Z",
     "start_time": "2021-01-02T12:26:05.292094Z"
    },
    "hidden": true
   },
   "outputs": [
    {
     "name": "stdout",
     "output_type": "stream",
     "text": [
      "Your submission was successfully saved!\n"
     ]
    }
   ],
   "source": [
    "output = pd.DataFrame({'PassengerId': test_data.PassengerId, 'Survived': predictions})\n",
    "output.to_csv('my_submission.csv', index=False)\n",
    "print(\"Your submission was successfully saved!\")"
   ]
  },
  {
   "cell_type": "markdown",
   "metadata": {
    "hidden": true
   },
   "source": [
    "#### Accuracy Test"
   ]
  },
  {
   "cell_type": "code",
   "execution_count": 29,
   "metadata": {
    "ExecuteTime": {
     "end_time": "2021-01-02T12:26:05.483763Z",
     "start_time": "2021-01-02T12:26:05.360538Z"
    },
    "hidden": true
   },
   "outputs": [
    {
     "name": "stdout",
     "output_type": "stream",
     "text": [
      "Accuracy on Training Set: 85.48\n",
      "Accuracy on Test Set: 76.59\n"
     ]
    }
   ],
   "source": [
    "print(\"Accuracy on Training Set: {:.2f}\".format(tree.score(X_train, y_train)*100))\n",
    "print(\"Accuracy on Test Set: {:.2f}\".format(tree.score(X_test, y_test)*100))"
   ]
  },
  {
   "cell_type": "markdown",
   "metadata": {},
   "source": [
    "## Visualizing the Machine Learning Algorithm"
   ]
  },
  {
   "cell_type": "code",
   "execution_count": 30,
   "metadata": {
    "ExecuteTime": {
     "end_time": "2021-01-02T12:26:05.570951Z",
     "start_time": "2021-01-02T12:26:05.485265Z"
    }
   },
   "outputs": [],
   "source": [
    "from sklearn.tree import export_graphviz\n",
    "export_graphviz(tree, out_file=\"tree.dot\", class_names=[\"Dead\", \"Alive\"], feature_names=['Survived', 'Pclass', 'Sex', 'Age', 'SibSp',\n",
    "       'Parch', 'Fare', 'Embarked'], impurity=False, filled=True)"
   ]
  },
  {
   "cell_type": "code",
   "execution_count": 31,
   "metadata": {
    "ExecuteTime": {
     "end_time": "2021-01-02T12:26:05.679116Z",
     "start_time": "2021-01-02T12:26:05.572121Z"
    }
   },
   "outputs": [
    {
     "data": {
      "image/svg+xml": [
       "<?xml version=\"1.0\" encoding=\"UTF-8\" standalone=\"no\"?>\n",
       "<!DOCTYPE svg PUBLIC \"-//W3C//DTD SVG 1.1//EN\"\n",
       " \"http://www.w3.org/Graphics/SVG/1.1/DTD/svg11.dtd\">\n",
       "<!-- Generated by graphviz version 2.43.0 (0)\n",
       " -->\n",
       "<!-- Title: Tree Pages: 1 -->\n",
       "<svg width=\"1672pt\" height=\"477pt\"\n",
       " viewBox=\"0.00 0.00 1671.50 477.00\" xmlns=\"http://www.w3.org/2000/svg\" xmlns:xlink=\"http://www.w3.org/1999/xlink\">\n",
       "<g id=\"graph0\" class=\"graph\" transform=\"scale(1 1) rotate(0) translate(4 473)\">\n",
       "<title>Tree</title>\n",
       "<polygon fill=\"white\" stroke=\"transparent\" points=\"-4,4 -4,-473 1667.5,-473 1667.5,4 -4,4\"/>\n",
       "<!-- 0 -->\n",
       "<g id=\"node1\" class=\"node\">\n",
       "<title>0</title>\n",
       "<polygon fill=\"#f5ceb2\" stroke=\"black\" points=\"920.5,-469 771.5,-469 771.5,-401 920.5,-401 920.5,-469\"/>\n",
       "<text text-anchor=\"middle\" x=\"846\" y=\"-453.8\" font-family=\"Times,serif\" font-size=\"14.00\">Sex &lt;= 0.5</text>\n",
       "<text text-anchor=\"middle\" x=\"846\" y=\"-438.8\" font-family=\"Times,serif\" font-size=\"14.00\">samples = 613</text>\n",
       "<text text-anchor=\"middle\" x=\"846\" y=\"-423.8\" font-family=\"Times,serif\" font-size=\"14.00\">value = [381, 232]</text>\n",
       "<text text-anchor=\"middle\" x=\"846\" y=\"-408.8\" font-family=\"Times,serif\" font-size=\"14.00\">class = Dead</text>\n",
       "</g>\n",
       "<!-- 1 -->\n",
       "<g id=\"node2\" class=\"node\">\n",
       "<title>1</title>\n",
       "<polygon fill=\"#74baed\" stroke=\"black\" points=\"724,-365 584,-365 584,-297 724,-297 724,-365\"/>\n",
       "<text text-anchor=\"middle\" x=\"654\" y=\"-349.8\" font-family=\"Times,serif\" font-size=\"14.00\">Pclass &lt;= 2.5</text>\n",
       "<text text-anchor=\"middle\" x=\"654\" y=\"-334.8\" font-family=\"Times,serif\" font-size=\"14.00\">samples = 210</text>\n",
       "<text text-anchor=\"middle\" x=\"654\" y=\"-319.8\" font-family=\"Times,serif\" font-size=\"14.00\">value = [48, 162]</text>\n",
       "<text text-anchor=\"middle\" x=\"654\" y=\"-304.8\" font-family=\"Times,serif\" font-size=\"14.00\">class = Alive</text>\n",
       "</g>\n",
       "<!-- 0&#45;&gt;1 -->\n",
       "<g id=\"edge1\" class=\"edge\">\n",
       "<title>0&#45;&gt;1</title>\n",
       "<path fill=\"none\" stroke=\"black\" d=\"M783.66,-400.88C765.04,-390.99 744.48,-380.07 725.33,-369.9\"/>\n",
       "<polygon fill=\"black\" stroke=\"black\" points=\"726.83,-366.73 716.35,-365.12 723.54,-372.91 726.83,-366.73\"/>\n",
       "<text text-anchor=\"middle\" x=\"723.67\" y=\"-385.33\" font-family=\"Times,serif\" font-size=\"14.00\">True</text>\n",
       "</g>\n",
       "<!-- 14 -->\n",
       "<g id=\"node15\" class=\"node\">\n",
       "<title>14</title>\n",
       "<polygon fill=\"#ea9b63\" stroke=\"black\" points=\"1053,-365 913,-365 913,-297 1053,-297 1053,-365\"/>\n",
       "<text text-anchor=\"middle\" x=\"983\" y=\"-349.8\" font-family=\"Times,serif\" font-size=\"14.00\">Age &lt;= 13.5</text>\n",
       "<text text-anchor=\"middle\" x=\"983\" y=\"-334.8\" font-family=\"Times,serif\" font-size=\"14.00\">samples = 403</text>\n",
       "<text text-anchor=\"middle\" x=\"983\" y=\"-319.8\" font-family=\"Times,serif\" font-size=\"14.00\">value = [333, 70]</text>\n",
       "<text text-anchor=\"middle\" x=\"983\" y=\"-304.8\" font-family=\"Times,serif\" font-size=\"14.00\">class = Dead</text>\n",
       "</g>\n",
       "<!-- 0&#45;&gt;14 -->\n",
       "<g id=\"edge14\" class=\"edge\">\n",
       "<title>0&#45;&gt;14</title>\n",
       "<path fill=\"none\" stroke=\"black\" d=\"M890.48,-400.88C903.16,-391.44 917.1,-381.06 930.23,-371.29\"/>\n",
       "<polygon fill=\"black\" stroke=\"black\" points=\"932.34,-374.08 938.27,-365.3 928.16,-368.46 932.34,-374.08\"/>\n",
       "<text text-anchor=\"middle\" x=\"934.65\" y=\"-386.34\" font-family=\"Times,serif\" font-size=\"14.00\">False</text>\n",
       "</g>\n",
       "<!-- 2 -->\n",
       "<g id=\"node3\" class=\"node\">\n",
       "<title>2</title>\n",
       "<polygon fill=\"#47a4e7\" stroke=\"black\" points=\"507,-261 367,-261 367,-193 507,-193 507,-261\"/>\n",
       "<text text-anchor=\"middle\" x=\"437\" y=\"-245.8\" font-family=\"Times,serif\" font-size=\"14.00\">Fare &lt;= 149.035</text>\n",
       "<text text-anchor=\"middle\" x=\"437\" y=\"-230.8\" font-family=\"Times,serif\" font-size=\"14.00\">samples = 119</text>\n",
       "<text text-anchor=\"middle\" x=\"437\" y=\"-215.8\" font-family=\"Times,serif\" font-size=\"14.00\">value = [8, 111]</text>\n",
       "<text text-anchor=\"middle\" x=\"437\" y=\"-200.8\" font-family=\"Times,serif\" font-size=\"14.00\">class = Alive</text>\n",
       "</g>\n",
       "<!-- 1&#45;&gt;2 -->\n",
       "<g id=\"edge2\" class=\"edge\">\n",
       "<title>1&#45;&gt;2</title>\n",
       "<path fill=\"none\" stroke=\"black\" d=\"M583.85,-297.02C562.39,-286.94 538.64,-275.78 516.61,-265.42\"/>\n",
       "<polygon fill=\"black\" stroke=\"black\" points=\"517.82,-262.12 507.28,-261.04 514.85,-268.46 517.82,-262.12\"/>\n",
       "</g>\n",
       "<!-- 9 -->\n",
       "<g id=\"node10\" class=\"node\">\n",
       "<title>9</title>\n",
       "<polygon fill=\"#d4eaf9\" stroke=\"black\" points=\"719.5,-261 588.5,-261 588.5,-193 719.5,-193 719.5,-261\"/>\n",
       "<text text-anchor=\"middle\" x=\"654\" y=\"-245.8\" font-family=\"Times,serif\" font-size=\"14.00\">Fare &lt;= 23.35</text>\n",
       "<text text-anchor=\"middle\" x=\"654\" y=\"-230.8\" font-family=\"Times,serif\" font-size=\"14.00\">samples = 91</text>\n",
       "<text text-anchor=\"middle\" x=\"654\" y=\"-215.8\" font-family=\"Times,serif\" font-size=\"14.00\">value = [40, 51]</text>\n",
       "<text text-anchor=\"middle\" x=\"654\" y=\"-200.8\" font-family=\"Times,serif\" font-size=\"14.00\">class = Alive</text>\n",
       "</g>\n",
       "<!-- 1&#45;&gt;9 -->\n",
       "<g id=\"edge9\" class=\"edge\">\n",
       "<title>1&#45;&gt;9</title>\n",
       "<path fill=\"none\" stroke=\"black\" d=\"M654,-296.88C654,-288.78 654,-279.98 654,-271.47\"/>\n",
       "<polygon fill=\"black\" stroke=\"black\" points=\"657.5,-271.3 654,-261.3 650.5,-271.3 657.5,-271.3\"/>\n",
       "</g>\n",
       "<!-- 3 -->\n",
       "<g id=\"node4\" class=\"node\">\n",
       "<title>3</title>\n",
       "<polygon fill=\"#44a2e6\" stroke=\"black\" points=\"266.5,-157 135.5,-157 135.5,-89 266.5,-89 266.5,-157\"/>\n",
       "<text text-anchor=\"middle\" x=\"201\" y=\"-141.8\" font-family=\"Times,serif\" font-size=\"14.00\">Fare &lt;= 29.356</text>\n",
       "<text text-anchor=\"middle\" x=\"201\" y=\"-126.8\" font-family=\"Times,serif\" font-size=\"14.00\">samples = 114</text>\n",
       "<text text-anchor=\"middle\" x=\"201\" y=\"-111.8\" font-family=\"Times,serif\" font-size=\"14.00\">value = [6, 108]</text>\n",
       "<text text-anchor=\"middle\" x=\"201\" y=\"-96.8\" font-family=\"Times,serif\" font-size=\"14.00\">class = Alive</text>\n",
       "</g>\n",
       "<!-- 2&#45;&gt;3 -->\n",
       "<g id=\"edge3\" class=\"edge\">\n",
       "<title>2&#45;&gt;3</title>\n",
       "<path fill=\"none\" stroke=\"black\" d=\"M366.83,-195.67C338.26,-183.33 305.2,-169.03 276.14,-156.48\"/>\n",
       "<polygon fill=\"black\" stroke=\"black\" points=\"277.43,-153.22 266.86,-152.46 274.65,-159.64 277.43,-153.22\"/>\n",
       "</g>\n",
       "<!-- 6 -->\n",
       "<g id=\"node7\" class=\"node\">\n",
       "<title>6</title>\n",
       "<polygon fill=\"#bddef6\" stroke=\"black\" points=\"493.5,-157 380.5,-157 380.5,-89 493.5,-89 493.5,-157\"/>\n",
       "<text text-anchor=\"middle\" x=\"437\" y=\"-141.8\" font-family=\"Times,serif\" font-size=\"14.00\">Parch &lt;= 1.5</text>\n",
       "<text text-anchor=\"middle\" x=\"437\" y=\"-126.8\" font-family=\"Times,serif\" font-size=\"14.00\">samples = 5</text>\n",
       "<text text-anchor=\"middle\" x=\"437\" y=\"-111.8\" font-family=\"Times,serif\" font-size=\"14.00\">value = [2, 3]</text>\n",
       "<text text-anchor=\"middle\" x=\"437\" y=\"-96.8\" font-family=\"Times,serif\" font-size=\"14.00\">class = Alive</text>\n",
       "</g>\n",
       "<!-- 2&#45;&gt;6 -->\n",
       "<g id=\"edge6\" class=\"edge\">\n",
       "<title>2&#45;&gt;6</title>\n",
       "<path fill=\"none\" stroke=\"black\" d=\"M437,-192.88C437,-184.78 437,-175.98 437,-167.47\"/>\n",
       "<polygon fill=\"black\" stroke=\"black\" points=\"440.5,-167.3 437,-157.3 433.5,-167.3 440.5,-167.3\"/>\n",
       "</g>\n",
       "<!-- 4 -->\n",
       "<g id=\"node5\" class=\"node\">\n",
       "<title>4</title>\n",
       "<polygon fill=\"#52aae8\" stroke=\"black\" points=\"122,-53 0,-53 0,0 122,0 122,-53\"/>\n",
       "<text text-anchor=\"middle\" x=\"61\" y=\"-37.8\" font-family=\"Times,serif\" font-size=\"14.00\">samples = 53</text>\n",
       "<text text-anchor=\"middle\" x=\"61\" y=\"-22.8\" font-family=\"Times,serif\" font-size=\"14.00\">value = [6, 47]</text>\n",
       "<text text-anchor=\"middle\" x=\"61\" y=\"-7.8\" font-family=\"Times,serif\" font-size=\"14.00\">class = Alive</text>\n",
       "</g>\n",
       "<!-- 3&#45;&gt;4 -->\n",
       "<g id=\"edge4\" class=\"edge\">\n",
       "<title>3&#45;&gt;4</title>\n",
       "<path fill=\"none\" stroke=\"black\" d=\"M152.03,-88.95C137.67,-79.25 122,-68.68 107.77,-59.07\"/>\n",
       "<polygon fill=\"black\" stroke=\"black\" points=\"109.38,-55.93 99.13,-53.24 105.46,-61.73 109.38,-55.93\"/>\n",
       "</g>\n",
       "<!-- 5 -->\n",
       "<g id=\"node6\" class=\"node\">\n",
       "<title>5</title>\n",
       "<polygon fill=\"#399de5\" stroke=\"black\" points=\"262,-53 140,-53 140,0 262,0 262,-53\"/>\n",
       "<text text-anchor=\"middle\" x=\"201\" y=\"-37.8\" font-family=\"Times,serif\" font-size=\"14.00\">samples = 61</text>\n",
       "<text text-anchor=\"middle\" x=\"201\" y=\"-22.8\" font-family=\"Times,serif\" font-size=\"14.00\">value = [0, 61]</text>\n",
       "<text text-anchor=\"middle\" x=\"201\" y=\"-7.8\" font-family=\"Times,serif\" font-size=\"14.00\">class = Alive</text>\n",
       "</g>\n",
       "<!-- 3&#45;&gt;5 -->\n",
       "<g id=\"edge5\" class=\"edge\">\n",
       "<title>3&#45;&gt;5</title>\n",
       "<path fill=\"none\" stroke=\"black\" d=\"M201,-88.95C201,-80.72 201,-71.85 201,-63.48\"/>\n",
       "<polygon fill=\"black\" stroke=\"black\" points=\"204.5,-63.24 201,-53.24 197.5,-63.24 204.5,-63.24\"/>\n",
       "</g>\n",
       "<!-- 7 -->\n",
       "<g id=\"node8\" class=\"node\">\n",
       "<title>7</title>\n",
       "<polygon fill=\"#399de5\" stroke=\"black\" points=\"393.5,-53 280.5,-53 280.5,0 393.5,0 393.5,-53\"/>\n",
       "<text text-anchor=\"middle\" x=\"337\" y=\"-37.8\" font-family=\"Times,serif\" font-size=\"14.00\">samples = 3</text>\n",
       "<text text-anchor=\"middle\" x=\"337\" y=\"-22.8\" font-family=\"Times,serif\" font-size=\"14.00\">value = [0, 3]</text>\n",
       "<text text-anchor=\"middle\" x=\"337\" y=\"-7.8\" font-family=\"Times,serif\" font-size=\"14.00\">class = Alive</text>\n",
       "</g>\n",
       "<!-- 6&#45;&gt;7 -->\n",
       "<g id=\"edge7\" class=\"edge\">\n",
       "<title>6&#45;&gt;7</title>\n",
       "<path fill=\"none\" stroke=\"black\" d=\"M402.02,-88.95C392.15,-79.62 381.41,-69.47 371.57,-60.16\"/>\n",
       "<polygon fill=\"black\" stroke=\"black\" points=\"373.91,-57.56 364.23,-53.24 369.1,-62.65 373.91,-57.56\"/>\n",
       "</g>\n",
       "<!-- 8 -->\n",
       "<g id=\"node9\" class=\"node\">\n",
       "<title>8</title>\n",
       "<polygon fill=\"#e58139\" stroke=\"black\" points=\"524.5,-53 411.5,-53 411.5,0 524.5,0 524.5,-53\"/>\n",
       "<text text-anchor=\"middle\" x=\"468\" y=\"-37.8\" font-family=\"Times,serif\" font-size=\"14.00\">samples = 2</text>\n",
       "<text text-anchor=\"middle\" x=\"468\" y=\"-22.8\" font-family=\"Times,serif\" font-size=\"14.00\">value = [2, 0]</text>\n",
       "<text text-anchor=\"middle\" x=\"468\" y=\"-7.8\" font-family=\"Times,serif\" font-size=\"14.00\">class = Dead</text>\n",
       "</g>\n",
       "<!-- 6&#45;&gt;8 -->\n",
       "<g id=\"edge8\" class=\"edge\">\n",
       "<title>6&#45;&gt;8</title>\n",
       "<path fill=\"none\" stroke=\"black\" d=\"M447.84,-88.95C450.6,-80.53 453.58,-71.45 456.38,-62.92\"/>\n",
       "<polygon fill=\"black\" stroke=\"black\" points=\"459.77,-63.83 459.56,-53.24 453.11,-61.65 459.77,-63.83\"/>\n",
       "</g>\n",
       "<!-- 10 -->\n",
       "<g id=\"node11\" class=\"node\">\n",
       "<title>10</title>\n",
       "<polygon fill=\"#b9dcf6\" stroke=\"black\" points=\"688.5,-157 557.5,-157 557.5,-89 688.5,-89 688.5,-157\"/>\n",
       "<text text-anchor=\"middle\" x=\"623\" y=\"-141.8\" font-family=\"Times,serif\" font-size=\"14.00\">Age &lt;= 36.5</text>\n",
       "<text text-anchor=\"middle\" x=\"623\" y=\"-126.8\" font-family=\"Times,serif\" font-size=\"14.00\">samples = 84</text>\n",
       "<text text-anchor=\"middle\" x=\"623\" y=\"-111.8\" font-family=\"Times,serif\" font-size=\"14.00\">value = [33, 51]</text>\n",
       "<text text-anchor=\"middle\" x=\"623\" y=\"-96.8\" font-family=\"Times,serif\" font-size=\"14.00\">class = Alive</text>\n",
       "</g>\n",
       "<!-- 9&#45;&gt;10 -->\n",
       "<g id=\"edge10\" class=\"edge\">\n",
       "<title>9&#45;&gt;10</title>\n",
       "<path fill=\"none\" stroke=\"black\" d=\"M643.94,-192.88C641.42,-184.6 638.68,-175.6 636.04,-166.91\"/>\n",
       "<polygon fill=\"black\" stroke=\"black\" points=\"639.38,-165.85 633.12,-157.3 632.68,-167.89 639.38,-165.85\"/>\n",
       "</g>\n",
       "<!-- 13 -->\n",
       "<g id=\"node14\" class=\"node\">\n",
       "<title>13</title>\n",
       "<polygon fill=\"#e58139\" stroke=\"black\" points=\"819.5,-149.5 706.5,-149.5 706.5,-96.5 819.5,-96.5 819.5,-149.5\"/>\n",
       "<text text-anchor=\"middle\" x=\"763\" y=\"-134.3\" font-family=\"Times,serif\" font-size=\"14.00\">samples = 7</text>\n",
       "<text text-anchor=\"middle\" x=\"763\" y=\"-119.3\" font-family=\"Times,serif\" font-size=\"14.00\">value = [7, 0]</text>\n",
       "<text text-anchor=\"middle\" x=\"763\" y=\"-104.3\" font-family=\"Times,serif\" font-size=\"14.00\">class = Dead</text>\n",
       "</g>\n",
       "<!-- 9&#45;&gt;13 -->\n",
       "<g id=\"edge13\" class=\"edge\">\n",
       "<title>9&#45;&gt;13</title>\n",
       "<path fill=\"none\" stroke=\"black\" d=\"M689.39,-192.88C701.85,-181.23 715.83,-168.14 728.24,-156.53\"/>\n",
       "<polygon fill=\"black\" stroke=\"black\" points=\"730.82,-158.91 735.73,-149.52 726.04,-153.8 730.82,-158.91\"/>\n",
       "</g>\n",
       "<!-- 11 -->\n",
       "<g id=\"node12\" class=\"node\">\n",
       "<title>11</title>\n",
       "<polygon fill=\"#aad5f4\" stroke=\"black\" points=\"673.5,-53 542.5,-53 542.5,0 673.5,0 673.5,-53\"/>\n",
       "<text text-anchor=\"middle\" x=\"608\" y=\"-37.8\" font-family=\"Times,serif\" font-size=\"14.00\">samples = 80</text>\n",
       "<text text-anchor=\"middle\" x=\"608\" y=\"-22.8\" font-family=\"Times,serif\" font-size=\"14.00\">value = [29, 51]</text>\n",
       "<text text-anchor=\"middle\" x=\"608\" y=\"-7.8\" font-family=\"Times,serif\" font-size=\"14.00\">class = Alive</text>\n",
       "</g>\n",
       "<!-- 10&#45;&gt;11 -->\n",
       "<g id=\"edge11\" class=\"edge\">\n",
       "<title>10&#45;&gt;11</title>\n",
       "<path fill=\"none\" stroke=\"black\" d=\"M617.75,-88.95C616.43,-80.62 615.01,-71.65 613.67,-63.2\"/>\n",
       "<polygon fill=\"black\" stroke=\"black\" points=\"617.11,-62.56 612.09,-53.24 610.2,-63.66 617.11,-62.56\"/>\n",
       "</g>\n",
       "<!-- 12 -->\n",
       "<g id=\"node13\" class=\"node\">\n",
       "<title>12</title>\n",
       "<polygon fill=\"#e58139\" stroke=\"black\" points=\"804.5,-53 691.5,-53 691.5,0 804.5,0 804.5,-53\"/>\n",
       "<text text-anchor=\"middle\" x=\"748\" y=\"-37.8\" font-family=\"Times,serif\" font-size=\"14.00\">samples = 4</text>\n",
       "<text text-anchor=\"middle\" x=\"748\" y=\"-22.8\" font-family=\"Times,serif\" font-size=\"14.00\">value = [4, 0]</text>\n",
       "<text text-anchor=\"middle\" x=\"748\" y=\"-7.8\" font-family=\"Times,serif\" font-size=\"14.00\">class = Dead</text>\n",
       "</g>\n",
       "<!-- 10&#45;&gt;12 -->\n",
       "<g id=\"edge12\" class=\"edge\">\n",
       "<title>10&#45;&gt;12</title>\n",
       "<path fill=\"none\" stroke=\"black\" d=\"M666.72,-88.95C679.42,-79.34 693.27,-68.87 705.88,-59.34\"/>\n",
       "<polygon fill=\"black\" stroke=\"black\" points=\"708.09,-62.06 713.96,-53.24 703.87,-56.48 708.09,-62.06\"/>\n",
       "</g>\n",
       "<!-- 15 -->\n",
       "<g id=\"node16\" class=\"node\">\n",
       "<title>15</title>\n",
       "<polygon fill=\"#68b4eb\" stroke=\"black\" points=\"1044,-261 922,-261 922,-193 1044,-193 1044,-261\"/>\n",
       "<text text-anchor=\"middle\" x=\"983\" y=\"-245.8\" font-family=\"Times,serif\" font-size=\"14.00\">SibSp &lt;= 2.5</text>\n",
       "<text text-anchor=\"middle\" x=\"983\" y=\"-230.8\" font-family=\"Times,serif\" font-size=\"14.00\">samples = 21</text>\n",
       "<text text-anchor=\"middle\" x=\"983\" y=\"-215.8\" font-family=\"Times,serif\" font-size=\"14.00\">value = [4, 17]</text>\n",
       "<text text-anchor=\"middle\" x=\"983\" y=\"-200.8\" font-family=\"Times,serif\" font-size=\"14.00\">class = Alive</text>\n",
       "</g>\n",
       "<!-- 14&#45;&gt;15 -->\n",
       "<g id=\"edge15\" class=\"edge\">\n",
       "<title>14&#45;&gt;15</title>\n",
       "<path fill=\"none\" stroke=\"black\" d=\"M983,-296.88C983,-288.78 983,-279.98 983,-271.47\"/>\n",
       "<polygon fill=\"black\" stroke=\"black\" points=\"986.5,-271.3 983,-261.3 979.5,-271.3 986.5,-271.3\"/>\n",
       "</g>\n",
       "<!-- 20 -->\n",
       "<g id=\"node21\" class=\"node\">\n",
       "<title>20</title>\n",
       "<polygon fill=\"#e99559\" stroke=\"black\" points=\"1327,-261 1187,-261 1187,-193 1327,-193 1327,-261\"/>\n",
       "<text text-anchor=\"middle\" x=\"1257\" y=\"-245.8\" font-family=\"Times,serif\" font-size=\"14.00\">Fare &lt;= 26.269</text>\n",
       "<text text-anchor=\"middle\" x=\"1257\" y=\"-230.8\" font-family=\"Times,serif\" font-size=\"14.00\">samples = 382</text>\n",
       "<text text-anchor=\"middle\" x=\"1257\" y=\"-215.8\" font-family=\"Times,serif\" font-size=\"14.00\">value = [329, 53]</text>\n",
       "<text text-anchor=\"middle\" x=\"1257\" y=\"-200.8\" font-family=\"Times,serif\" font-size=\"14.00\">class = Dead</text>\n",
       "</g>\n",
       "<!-- 14&#45;&gt;20 -->\n",
       "<g id=\"edge20\" class=\"edge\">\n",
       "<title>14&#45;&gt;20</title>\n",
       "<path fill=\"none\" stroke=\"black\" d=\"M1053.21,-303.86C1091.06,-289.77 1137.93,-272.32 1177.17,-257.72\"/>\n",
       "<polygon fill=\"black\" stroke=\"black\" points=\"1178.83,-260.84 1186.98,-254.07 1176.38,-254.28 1178.83,-260.84\"/>\n",
       "</g>\n",
       "<!-- 16 -->\n",
       "<g id=\"node17\" class=\"node\">\n",
       "<title>16</title>\n",
       "<polygon fill=\"#45a3e7\" stroke=\"black\" points=\"976,-157 854,-157 854,-89 976,-89 976,-157\"/>\n",
       "<text text-anchor=\"middle\" x=\"915\" y=\"-141.8\" font-family=\"Times,serif\" font-size=\"14.00\">Parch &lt;= 0.5</text>\n",
       "<text text-anchor=\"middle\" x=\"915\" y=\"-126.8\" font-family=\"Times,serif\" font-size=\"14.00\">samples = 18</text>\n",
       "<text text-anchor=\"middle\" x=\"915\" y=\"-111.8\" font-family=\"Times,serif\" font-size=\"14.00\">value = [1, 17]</text>\n",
       "<text text-anchor=\"middle\" x=\"915\" y=\"-96.8\" font-family=\"Times,serif\" font-size=\"14.00\">class = Alive</text>\n",
       "</g>\n",
       "<!-- 15&#45;&gt;16 -->\n",
       "<g id=\"edge16\" class=\"edge\">\n",
       "<title>15&#45;&gt;16</title>\n",
       "<path fill=\"none\" stroke=\"black\" d=\"M960.92,-192.88C955.16,-184.24 948.88,-174.82 942.86,-165.79\"/>\n",
       "<polygon fill=\"black\" stroke=\"black\" points=\"945.66,-163.68 937.2,-157.3 939.83,-167.56 945.66,-163.68\"/>\n",
       "</g>\n",
       "<!-- 19 -->\n",
       "<g id=\"node20\" class=\"node\">\n",
       "<title>19</title>\n",
       "<polygon fill=\"#e58139\" stroke=\"black\" points=\"1107.5,-149.5 994.5,-149.5 994.5,-96.5 1107.5,-96.5 1107.5,-149.5\"/>\n",
       "<text text-anchor=\"middle\" x=\"1051\" y=\"-134.3\" font-family=\"Times,serif\" font-size=\"14.00\">samples = 3</text>\n",
       "<text text-anchor=\"middle\" x=\"1051\" y=\"-119.3\" font-family=\"Times,serif\" font-size=\"14.00\">value = [3, 0]</text>\n",
       "<text text-anchor=\"middle\" x=\"1051\" y=\"-104.3\" font-family=\"Times,serif\" font-size=\"14.00\">class = Dead</text>\n",
       "</g>\n",
       "<!-- 15&#45;&gt;19 -->\n",
       "<g id=\"edge19\" class=\"edge\">\n",
       "<title>15&#45;&gt;19</title>\n",
       "<path fill=\"none\" stroke=\"black\" d=\"M1005.08,-192.88C1012.56,-181.67 1020.92,-169.13 1028.43,-157.85\"/>\n",
       "<polygon fill=\"black\" stroke=\"black\" points=\"1031.35,-159.78 1033.99,-149.52 1025.53,-155.9 1031.35,-159.78\"/>\n",
       "</g>\n",
       "<!-- 17 -->\n",
       "<g id=\"node18\" class=\"node\">\n",
       "<title>17</title>\n",
       "<polygon fill=\"#ffffff\" stroke=\"black\" points=\"935.5,-53 822.5,-53 822.5,0 935.5,0 935.5,-53\"/>\n",
       "<text text-anchor=\"middle\" x=\"879\" y=\"-37.8\" font-family=\"Times,serif\" font-size=\"14.00\">samples = 2</text>\n",
       "<text text-anchor=\"middle\" x=\"879\" y=\"-22.8\" font-family=\"Times,serif\" font-size=\"14.00\">value = [1, 1]</text>\n",
       "<text text-anchor=\"middle\" x=\"879\" y=\"-7.8\" font-family=\"Times,serif\" font-size=\"14.00\">class = Dead</text>\n",
       "</g>\n",
       "<!-- 16&#45;&gt;17 -->\n",
       "<g id=\"edge17\" class=\"edge\">\n",
       "<title>16&#45;&gt;17</title>\n",
       "<path fill=\"none\" stroke=\"black\" d=\"M902.41,-88.95C899.17,-80.44 895.67,-71.26 892.39,-62.65\"/>\n",
       "<polygon fill=\"black\" stroke=\"black\" points=\"895.64,-61.34 888.8,-53.24 889.09,-63.83 895.64,-61.34\"/>\n",
       "</g>\n",
       "<!-- 18 -->\n",
       "<g id=\"node19\" class=\"node\">\n",
       "<title>18</title>\n",
       "<polygon fill=\"#399de5\" stroke=\"black\" points=\"1076,-53 954,-53 954,0 1076,0 1076,-53\"/>\n",
       "<text text-anchor=\"middle\" x=\"1015\" y=\"-37.8\" font-family=\"Times,serif\" font-size=\"14.00\">samples = 16</text>\n",
       "<text text-anchor=\"middle\" x=\"1015\" y=\"-22.8\" font-family=\"Times,serif\" font-size=\"14.00\">value = [0, 16]</text>\n",
       "<text text-anchor=\"middle\" x=\"1015\" y=\"-7.8\" font-family=\"Times,serif\" font-size=\"14.00\">class = Alive</text>\n",
       "</g>\n",
       "<!-- 16&#45;&gt;18 -->\n",
       "<g id=\"edge18\" class=\"edge\">\n",
       "<title>16&#45;&gt;18</title>\n",
       "<path fill=\"none\" stroke=\"black\" d=\"M949.98,-88.95C959.85,-79.62 970.59,-69.47 980.43,-60.16\"/>\n",
       "<polygon fill=\"black\" stroke=\"black\" points=\"982.9,-62.65 987.77,-53.24 978.09,-57.56 982.9,-62.65\"/>\n",
       "</g>\n",
       "<!-- 21 -->\n",
       "<g id=\"node22\" class=\"node\">\n",
       "<title>21</title>\n",
       "<polygon fill=\"#e78c4a\" stroke=\"black\" points=\"1327,-157 1187,-157 1187,-89 1327,-89 1327,-157\"/>\n",
       "<text text-anchor=\"middle\" x=\"1257\" y=\"-141.8\" font-family=\"Times,serif\" font-size=\"14.00\">Fare &lt;= 7.746</text>\n",
       "<text text-anchor=\"middle\" x=\"1257\" y=\"-126.8\" font-family=\"Times,serif\" font-size=\"14.00\">samples = 299</text>\n",
       "<text text-anchor=\"middle\" x=\"1257\" y=\"-111.8\" font-family=\"Times,serif\" font-size=\"14.00\">value = [275, 24]</text>\n",
       "<text text-anchor=\"middle\" x=\"1257\" y=\"-96.8\" font-family=\"Times,serif\" font-size=\"14.00\">class = Dead</text>\n",
       "</g>\n",
       "<!-- 20&#45;&gt;21 -->\n",
       "<g id=\"edge21\" class=\"edge\">\n",
       "<title>20&#45;&gt;21</title>\n",
       "<path fill=\"none\" stroke=\"black\" d=\"M1257,-192.88C1257,-184.78 1257,-175.98 1257,-167.47\"/>\n",
       "<polygon fill=\"black\" stroke=\"black\" points=\"1260.5,-167.3 1257,-157.3 1253.5,-167.3 1260.5,-167.3\"/>\n",
       "</g>\n",
       "<!-- 24 -->\n",
       "<g id=\"node25\" class=\"node\">\n",
       "<title>24</title>\n",
       "<polygon fill=\"#f3c5a3\" stroke=\"black\" points=\"1530,-157 1376,-157 1376,-89 1530,-89 1530,-157\"/>\n",
       "<text text-anchor=\"middle\" x=\"1453\" y=\"-141.8\" font-family=\"Times,serif\" font-size=\"14.00\">Survived &lt;= 366.5</text>\n",
       "<text text-anchor=\"middle\" x=\"1453\" y=\"-126.8\" font-family=\"Times,serif\" font-size=\"14.00\">samples = 83</text>\n",
       "<text text-anchor=\"middle\" x=\"1453\" y=\"-111.8\" font-family=\"Times,serif\" font-size=\"14.00\">value = [54, 29]</text>\n",
       "<text text-anchor=\"middle\" x=\"1453\" y=\"-96.8\" font-family=\"Times,serif\" font-size=\"14.00\">class = Dead</text>\n",
       "</g>\n",
       "<!-- 20&#45;&gt;24 -->\n",
       "<g id=\"edge24\" class=\"edge\">\n",
       "<title>20&#45;&gt;24</title>\n",
       "<path fill=\"none\" stroke=\"black\" d=\"M1320.64,-192.88C1339.73,-182.95 1360.82,-171.97 1380.45,-161.76\"/>\n",
       "<polygon fill=\"black\" stroke=\"black\" points=\"1382.09,-164.85 1389.35,-157.12 1378.86,-158.64 1382.09,-164.85\"/>\n",
       "</g>\n",
       "<!-- 22 -->\n",
       "<g id=\"node23\" class=\"node\">\n",
       "<title>22</title>\n",
       "<polygon fill=\"#e6853f\" stroke=\"black\" points=\"1216,-53 1094,-53 1094,0 1216,0 1216,-53\"/>\n",
       "<text text-anchor=\"middle\" x=\"1155\" y=\"-37.8\" font-family=\"Times,serif\" font-size=\"14.00\">samples = 68</text>\n",
       "<text text-anchor=\"middle\" x=\"1155\" y=\"-22.8\" font-family=\"Times,serif\" font-size=\"14.00\">value = [66, 2]</text>\n",
       "<text text-anchor=\"middle\" x=\"1155\" y=\"-7.8\" font-family=\"Times,serif\" font-size=\"14.00\">class = Dead</text>\n",
       "</g>\n",
       "<!-- 21&#45;&gt;22 -->\n",
       "<g id=\"edge22\" class=\"edge\">\n",
       "<title>21&#45;&gt;22</title>\n",
       "<path fill=\"none\" stroke=\"black\" d=\"M1221.33,-88.95C1211.25,-79.62 1200.3,-69.47 1190.26,-60.16\"/>\n",
       "<polygon fill=\"black\" stroke=\"black\" points=\"1192.49,-57.47 1182.78,-53.24 1187.74,-62.6 1192.49,-57.47\"/>\n",
       "</g>\n",
       "<!-- 23 -->\n",
       "<g id=\"node24\" class=\"node\">\n",
       "<title>23</title>\n",
       "<polygon fill=\"#e88e4e\" stroke=\"black\" points=\"1374,-53 1234,-53 1234,0 1374,0 1374,-53\"/>\n",
       "<text text-anchor=\"middle\" x=\"1304\" y=\"-37.8\" font-family=\"Times,serif\" font-size=\"14.00\">samples = 231</text>\n",
       "<text text-anchor=\"middle\" x=\"1304\" y=\"-22.8\" font-family=\"Times,serif\" font-size=\"14.00\">value = [209, 22]</text>\n",
       "<text text-anchor=\"middle\" x=\"1304\" y=\"-7.8\" font-family=\"Times,serif\" font-size=\"14.00\">class = Dead</text>\n",
       "</g>\n",
       "<!-- 21&#45;&gt;23 -->\n",
       "<g id=\"edge23\" class=\"edge\">\n",
       "<title>21&#45;&gt;23</title>\n",
       "<path fill=\"none\" stroke=\"black\" d=\"M1273.44,-88.95C1277.72,-80.35 1282.34,-71.06 1286.66,-62.37\"/>\n",
       "<polygon fill=\"black\" stroke=\"black\" points=\"1289.88,-63.75 1291.2,-53.24 1283.61,-60.63 1289.88,-63.75\"/>\n",
       "</g>\n",
       "<!-- 25 -->\n",
       "<g id=\"node26\" class=\"node\">\n",
       "<title>25</title>\n",
       "<polygon fill=\"#eb9c63\" stroke=\"black\" points=\"1514,-53 1392,-53 1392,0 1514,0 1514,-53\"/>\n",
       "<text text-anchor=\"middle\" x=\"1453\" y=\"-37.8\" font-family=\"Times,serif\" font-size=\"14.00\">samples = 34</text>\n",
       "<text text-anchor=\"middle\" x=\"1453\" y=\"-22.8\" font-family=\"Times,serif\" font-size=\"14.00\">value = [28, 6]</text>\n",
       "<text text-anchor=\"middle\" x=\"1453\" y=\"-7.8\" font-family=\"Times,serif\" font-size=\"14.00\">class = Dead</text>\n",
       "</g>\n",
       "<!-- 24&#45;&gt;25 -->\n",
       "<g id=\"edge25\" class=\"edge\">\n",
       "<title>24&#45;&gt;25</title>\n",
       "<path fill=\"none\" stroke=\"black\" d=\"M1453,-88.95C1453,-80.72 1453,-71.85 1453,-63.48\"/>\n",
       "<polygon fill=\"black\" stroke=\"black\" points=\"1456.5,-63.24 1453,-53.24 1449.5,-63.24 1456.5,-63.24\"/>\n",
       "</g>\n",
       "<!-- 26 -->\n",
       "<g id=\"node27\" class=\"node\">\n",
       "<title>26</title>\n",
       "<polygon fill=\"#fcf0e8\" stroke=\"black\" points=\"1663.5,-53 1532.5,-53 1532.5,0 1663.5,0 1663.5,-53\"/>\n",
       "<text text-anchor=\"middle\" x=\"1598\" y=\"-37.8\" font-family=\"Times,serif\" font-size=\"14.00\">samples = 49</text>\n",
       "<text text-anchor=\"middle\" x=\"1598\" y=\"-22.8\" font-family=\"Times,serif\" font-size=\"14.00\">value = [26, 23]</text>\n",
       "<text text-anchor=\"middle\" x=\"1598\" y=\"-7.8\" font-family=\"Times,serif\" font-size=\"14.00\">class = Dead</text>\n",
       "</g>\n",
       "<!-- 24&#45;&gt;26 -->\n",
       "<g id=\"edge26\" class=\"edge\">\n",
       "<title>24&#45;&gt;26</title>\n",
       "<path fill=\"none\" stroke=\"black\" d=\"M1503.71,-88.95C1518.73,-79.16 1535.13,-68.48 1549.97,-58.8\"/>\n",
       "<polygon fill=\"black\" stroke=\"black\" points=\"1552.04,-61.63 1558.51,-53.24 1548.22,-55.76 1552.04,-61.63\"/>\n",
       "</g>\n",
       "</g>\n",
       "</svg>\n"
      ],
      "text/plain": [
       "<graphviz.files.Source at 0x7f4e836a8040>"
      ]
     },
     "execution_count": 31,
     "metadata": {},
     "output_type": "execute_result"
    }
   ],
   "source": [
    "import graphviz\n",
    "with open(\"tree.dot\") as f:\n",
    "    dot_graph = f.read()\n",
    "graphviz.Source(dot_graph)"
   ]
  }
 ],
 "metadata": {
  "kernelspec": {
   "display_name": "Python 3",
   "language": "python",
   "name": "python3"
  },
  "language_info": {
   "codemirror_mode": {
    "name": "ipython",
    "version": 3
   },
   "file_extension": ".py",
   "mimetype": "text/x-python",
   "name": "python",
   "nbconvert_exporter": "python",
   "pygments_lexer": "ipython3",
   "version": "3.8.5"
  },
  "toc": {
   "base_numbering": 1,
   "nav_menu": {},
   "number_sections": true,
   "sideBar": true,
   "skip_h1_title": false,
   "title_cell": "Table of Contents",
   "title_sidebar": "Contents",
   "toc_cell": false,
   "toc_position": {},
   "toc_section_display": true,
   "toc_window_display": false
  }
 },
 "nbformat": 4,
 "nbformat_minor": 1
}