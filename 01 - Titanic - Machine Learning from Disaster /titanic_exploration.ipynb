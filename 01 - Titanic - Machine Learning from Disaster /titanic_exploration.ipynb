{
 "cells": [
  {
   "cell_type": "markdown",
   "metadata": {},
   "source": [
    "# Titanic - Machine Learning from Disaster\n",
    "This is my first submission in Kaggle so if you find any mistakes, corrections, or suggestions, feel free to mention them."
   ]
  },
  {
   "cell_type": "markdown",
   "metadata": {
    "heading_collapsed": true
   },
   "source": [
    "## Initial Setup"
   ]
  },
  {
   "cell_type": "markdown",
   "metadata": {
    "heading_collapsed": true,
    "hidden": true
   },
   "source": [
    "### Import Statements"
   ]
  },
  {
   "cell_type": "code",
   "execution_count": 1,
   "metadata": {
    "ExecuteTime": {
     "end_time": "2021-01-04T16:11:27.488719Z",
     "start_time": "2021-01-04T16:11:27.126209Z"
    },
    "hidden": true
   },
   "outputs": [],
   "source": [
    "import numpy as np # linear algebra\n",
    "import pandas as pd # data processing, CSV file I/O (e.g. pd.read_csv)\n",
    "import matplotlib.pyplot as plt # Data Visualization "
   ]
  },
  {
   "cell_type": "markdown",
   "metadata": {
    "heading_collapsed": true,
    "hidden": true
   },
   "source": [
    "### Import the Datasets"
   ]
  },
  {
   "cell_type": "code",
   "execution_count": 2,
   "metadata": {
    "ExecuteTime": {
     "end_time": "2021-01-04T16:11:27.497748Z",
     "start_time": "2021-01-04T16:11:27.490007Z"
    },
    "hidden": true
   },
   "outputs": [],
   "source": [
    "train_data = pd.read_csv(\"./datasets/train.csv\")\n",
    "test_data = pd.read_csv(\"./datasets/test.csv\")"
   ]
  },
  {
   "cell_type": "markdown",
   "metadata": {
    "heading_collapsed": true,
    "hidden": true
   },
   "source": [
    "### Stylistics"
   ]
  },
  {
   "cell_type": "code",
   "execution_count": 3,
   "metadata": {
    "ExecuteTime": {
     "end_time": "2021-01-04T16:11:27.570024Z",
     "start_time": "2021-01-04T16:11:27.499295Z"
    },
    "hidden": true
   },
   "outputs": [],
   "source": [
    "%matplotlib inline\n",
    "plt.style.use(\"dark_background\")\n",
    "pd.set_option(\"display.max_rows\", 500)\n",
    "pd.set_option(\"display.max_columns\", 500)\n",
    "pd.set_option(\"display.width\", 1000)"
   ]
  },
  {
   "cell_type": "markdown",
   "metadata": {},
   "source": [
    "## Data Cleaning"
   ]
  },
  {
   "cell_type": "markdown",
   "metadata": {
    "heading_collapsed": true
   },
   "source": [
    "### Files"
   ]
  },
  {
   "cell_type": "code",
   "execution_count": 4,
   "metadata": {
    "ExecuteTime": {
     "end_time": "2021-01-04T16:11:27.661478Z",
     "start_time": "2021-01-04T16:11:27.571795Z"
    },
    "hidden": true
   },
   "outputs": [
    {
     "name": "stdout",
     "output_type": "stream",
     "text": [
      "./datasets/test.csv\n",
      "./datasets/gender_submission.csv\n",
      "./datasets/train.csv\n"
     ]
    }
   ],
   "source": [
    "# This Python 3 environment comes with many helpful analytics libraries installed\n",
    "# It is defined by the kaggle/python docker image: https://github.com/kaggle/docker-python\n",
    "# For example, here's several helpful packages to load in \n",
    "\n",
    "# Input data files are available in the \"../input/\" directory.\n",
    "# For example, running this (by clicking run or pressing Shift+Enter) will list all files under the input directory\n",
    "\n",
    "import os\n",
    "for dirname, _, filenames in os.walk('./datasets/'):\n",
    "    for filename in filenames:\n",
    "        print(os.path.join(dirname, filename))\n",
    "\n",
    "# Any results you write to the current directory are saved as output."
   ]
  },
  {
   "cell_type": "markdown",
   "metadata": {},
   "source": [
    "### Exploring the Dataset"
   ]
  },
  {
   "cell_type": "code",
   "execution_count": 5,
   "metadata": {
    "ExecuteTime": {
     "end_time": "2021-01-04T16:11:27.772701Z",
     "start_time": "2021-01-04T16:11:27.663048Z"
    }
   },
   "outputs": [
    {
     "data": {
      "text/html": [
       "<div>\n",
       "<style scoped>\n",
       "    .dataframe tbody tr th:only-of-type {\n",
       "        vertical-align: middle;\n",
       "    }\n",
       "\n",
       "    .dataframe tbody tr th {\n",
       "        vertical-align: top;\n",
       "    }\n",
       "\n",
       "    .dataframe thead th {\n",
       "        text-align: right;\n",
       "    }\n",
       "</style>\n",
       "<table border=\"1\" class=\"dataframe\">\n",
       "  <thead>\n",
       "    <tr style=\"text-align: right;\">\n",
       "      <th></th>\n",
       "      <th>PassengerId</th>\n",
       "      <th>Survived</th>\n",
       "      <th>Pclass</th>\n",
       "      <th>Name</th>\n",
       "      <th>Sex</th>\n",
       "      <th>Age</th>\n",
       "      <th>SibSp</th>\n",
       "      <th>Parch</th>\n",
       "      <th>Ticket</th>\n",
       "      <th>Fare</th>\n",
       "      <th>Cabin</th>\n",
       "      <th>Embarked</th>\n",
       "    </tr>\n",
       "  </thead>\n",
       "  <tbody>\n",
       "    <tr>\n",
       "      <th>0</th>\n",
       "      <td>1</td>\n",
       "      <td>0</td>\n",
       "      <td>3</td>\n",
       "      <td>Braund, Mr. Owen Harris</td>\n",
       "      <td>male</td>\n",
       "      <td>22.0</td>\n",
       "      <td>1</td>\n",
       "      <td>0</td>\n",
       "      <td>A/5 21171</td>\n",
       "      <td>7.2500</td>\n",
       "      <td>NaN</td>\n",
       "      <td>S</td>\n",
       "    </tr>\n",
       "    <tr>\n",
       "      <th>1</th>\n",
       "      <td>2</td>\n",
       "      <td>1</td>\n",
       "      <td>1</td>\n",
       "      <td>Cumings, Mrs. John Bradley (Florence Briggs Th...</td>\n",
       "      <td>female</td>\n",
       "      <td>38.0</td>\n",
       "      <td>1</td>\n",
       "      <td>0</td>\n",
       "      <td>PC 17599</td>\n",
       "      <td>71.2833</td>\n",
       "      <td>C85</td>\n",
       "      <td>C</td>\n",
       "    </tr>\n",
       "    <tr>\n",
       "      <th>2</th>\n",
       "      <td>3</td>\n",
       "      <td>1</td>\n",
       "      <td>3</td>\n",
       "      <td>Heikkinen, Miss. Laina</td>\n",
       "      <td>female</td>\n",
       "      <td>26.0</td>\n",
       "      <td>0</td>\n",
       "      <td>0</td>\n",
       "      <td>STON/O2. 3101282</td>\n",
       "      <td>7.9250</td>\n",
       "      <td>NaN</td>\n",
       "      <td>S</td>\n",
       "    </tr>\n",
       "    <tr>\n",
       "      <th>3</th>\n",
       "      <td>4</td>\n",
       "      <td>1</td>\n",
       "      <td>1</td>\n",
       "      <td>Futrelle, Mrs. Jacques Heath (Lily May Peel)</td>\n",
       "      <td>female</td>\n",
       "      <td>35.0</td>\n",
       "      <td>1</td>\n",
       "      <td>0</td>\n",
       "      <td>113803</td>\n",
       "      <td>53.1000</td>\n",
       "      <td>C123</td>\n",
       "      <td>S</td>\n",
       "    </tr>\n",
       "    <tr>\n",
       "      <th>4</th>\n",
       "      <td>5</td>\n",
       "      <td>0</td>\n",
       "      <td>3</td>\n",
       "      <td>Allen, Mr. William Henry</td>\n",
       "      <td>male</td>\n",
       "      <td>35.0</td>\n",
       "      <td>0</td>\n",
       "      <td>0</td>\n",
       "      <td>373450</td>\n",
       "      <td>8.0500</td>\n",
       "      <td>NaN</td>\n",
       "      <td>S</td>\n",
       "    </tr>\n",
       "  </tbody>\n",
       "</table>\n",
       "</div>"
      ],
      "text/plain": [
       "   PassengerId  Survived  Pclass                                               Name     Sex   Age  SibSp  Parch            Ticket     Fare Cabin Embarked\n",
       "0            1         0       3                            Braund, Mr. Owen Harris    male  22.0      1      0         A/5 21171   7.2500   NaN        S\n",
       "1            2         1       1  Cumings, Mrs. John Bradley (Florence Briggs Th...  female  38.0      1      0          PC 17599  71.2833   C85        C\n",
       "2            3         1       3                             Heikkinen, Miss. Laina  female  26.0      0      0  STON/O2. 3101282   7.9250   NaN        S\n",
       "3            4         1       1       Futrelle, Mrs. Jacques Heath (Lily May Peel)  female  35.0      1      0            113803  53.1000  C123        S\n",
       "4            5         0       3                           Allen, Mr. William Henry    male  35.0      0      0            373450   8.0500   NaN        S"
      ]
     },
     "execution_count": 5,
     "metadata": {},
     "output_type": "execute_result"
    }
   ],
   "source": [
    "train_data.head()"
   ]
  },
  {
   "cell_type": "code",
   "execution_count": 6,
   "metadata": {
    "ExecuteTime": {
     "end_time": "2021-01-04T16:11:27.847866Z",
     "start_time": "2021-01-04T16:11:27.773878Z"
    }
   },
   "outputs": [
    {
     "data": {
      "text/html": [
       "<div>\n",
       "<style scoped>\n",
       "    .dataframe tbody tr th:only-of-type {\n",
       "        vertical-align: middle;\n",
       "    }\n",
       "\n",
       "    .dataframe tbody tr th {\n",
       "        vertical-align: top;\n",
       "    }\n",
       "\n",
       "    .dataframe thead th {\n",
       "        text-align: right;\n",
       "    }\n",
       "</style>\n",
       "<table border=\"1\" class=\"dataframe\">\n",
       "  <thead>\n",
       "    <tr style=\"text-align: right;\">\n",
       "      <th></th>\n",
       "      <th>PassengerId</th>\n",
       "      <th>Pclass</th>\n",
       "      <th>Name</th>\n",
       "      <th>Sex</th>\n",
       "      <th>Age</th>\n",
       "      <th>SibSp</th>\n",
       "      <th>Parch</th>\n",
       "      <th>Ticket</th>\n",
       "      <th>Fare</th>\n",
       "      <th>Cabin</th>\n",
       "      <th>Embarked</th>\n",
       "    </tr>\n",
       "  </thead>\n",
       "  <tbody>\n",
       "    <tr>\n",
       "      <th>0</th>\n",
       "      <td>892</td>\n",
       "      <td>3</td>\n",
       "      <td>Kelly, Mr. James</td>\n",
       "      <td>male</td>\n",
       "      <td>34.5</td>\n",
       "      <td>0</td>\n",
       "      <td>0</td>\n",
       "      <td>330911</td>\n",
       "      <td>7.8292</td>\n",
       "      <td>NaN</td>\n",
       "      <td>Q</td>\n",
       "    </tr>\n",
       "    <tr>\n",
       "      <th>1</th>\n",
       "      <td>893</td>\n",
       "      <td>3</td>\n",
       "      <td>Wilkes, Mrs. James (Ellen Needs)</td>\n",
       "      <td>female</td>\n",
       "      <td>47.0</td>\n",
       "      <td>1</td>\n",
       "      <td>0</td>\n",
       "      <td>363272</td>\n",
       "      <td>7.0000</td>\n",
       "      <td>NaN</td>\n",
       "      <td>S</td>\n",
       "    </tr>\n",
       "    <tr>\n",
       "      <th>2</th>\n",
       "      <td>894</td>\n",
       "      <td>2</td>\n",
       "      <td>Myles, Mr. Thomas Francis</td>\n",
       "      <td>male</td>\n",
       "      <td>62.0</td>\n",
       "      <td>0</td>\n",
       "      <td>0</td>\n",
       "      <td>240276</td>\n",
       "      <td>9.6875</td>\n",
       "      <td>NaN</td>\n",
       "      <td>Q</td>\n",
       "    </tr>\n",
       "    <tr>\n",
       "      <th>3</th>\n",
       "      <td>895</td>\n",
       "      <td>3</td>\n",
       "      <td>Wirz, Mr. Albert</td>\n",
       "      <td>male</td>\n",
       "      <td>27.0</td>\n",
       "      <td>0</td>\n",
       "      <td>0</td>\n",
       "      <td>315154</td>\n",
       "      <td>8.6625</td>\n",
       "      <td>NaN</td>\n",
       "      <td>S</td>\n",
       "    </tr>\n",
       "    <tr>\n",
       "      <th>4</th>\n",
       "      <td>896</td>\n",
       "      <td>3</td>\n",
       "      <td>Hirvonen, Mrs. Alexander (Helga E Lindqvist)</td>\n",
       "      <td>female</td>\n",
       "      <td>22.0</td>\n",
       "      <td>1</td>\n",
       "      <td>1</td>\n",
       "      <td>3101298</td>\n",
       "      <td>12.2875</td>\n",
       "      <td>NaN</td>\n",
       "      <td>S</td>\n",
       "    </tr>\n",
       "  </tbody>\n",
       "</table>\n",
       "</div>"
      ],
      "text/plain": [
       "   PassengerId  Pclass                                          Name     Sex   Age  SibSp  Parch   Ticket     Fare Cabin Embarked\n",
       "0          892       3                              Kelly, Mr. James    male  34.5      0      0   330911   7.8292   NaN        Q\n",
       "1          893       3              Wilkes, Mrs. James (Ellen Needs)  female  47.0      1      0   363272   7.0000   NaN        S\n",
       "2          894       2                     Myles, Mr. Thomas Francis    male  62.0      0      0   240276   9.6875   NaN        Q\n",
       "3          895       3                              Wirz, Mr. Albert    male  27.0      0      0   315154   8.6625   NaN        S\n",
       "4          896       3  Hirvonen, Mrs. Alexander (Helga E Lindqvist)  female  22.0      1      1  3101298  12.2875   NaN        S"
      ]
     },
     "execution_count": 6,
     "metadata": {},
     "output_type": "execute_result"
    }
   ],
   "source": [
    "test_data.head()"
   ]
  },
  {
   "cell_type": "code",
   "execution_count": 7,
   "metadata": {
    "ExecuteTime": {
     "end_time": "2021-01-04T16:11:27.919615Z",
     "start_time": "2021-01-04T16:11:27.849566Z"
    }
   },
   "outputs": [
    {
     "name": "stdout",
     "output_type": "stream",
     "text": [
      "Number of Rows: 891\n",
      "Number of Colums: 12\n",
      "Column Names: ['PassengerId' 'Survived' 'Pclass' 'Name' 'Sex' 'Age' 'SibSp' 'Parch'\n",
      " 'Ticket' 'Fare' 'Cabin' 'Embarked']\n"
     ]
    }
   ],
   "source": [
    "print(\"Number of Rows: {}\".format(train_data.shape[0]))\n",
    "print(\"Number of Colums: {}\".format(train_data.shape[1]))\n",
    "print(\"Column Names: {}\".format(train_data.columns.values))"
   ]
  },
  {
   "cell_type": "code",
   "execution_count": 8,
   "metadata": {
    "ExecuteTime": {
     "end_time": "2021-01-04T16:11:27.995252Z",
     "start_time": "2021-01-04T16:11:27.922177Z"
    }
   },
   "outputs": [
    {
     "name": "stdout",
     "output_type": "stream",
     "text": [
      "<class 'pandas.core.frame.DataFrame'>\n",
      "RangeIndex: 891 entries, 0 to 890\n",
      "Data columns (total 12 columns):\n",
      " #   Column       Non-Null Count  Dtype  \n",
      "---  ------       --------------  -----  \n",
      " 0   PassengerId  891 non-null    int64  \n",
      " 1   Survived     891 non-null    int64  \n",
      " 2   Pclass       891 non-null    int64  \n",
      " 3   Name         891 non-null    object \n",
      " 4   Sex          891 non-null    object \n",
      " 5   Age          714 non-null    float64\n",
      " 6   SibSp        891 non-null    int64  \n",
      " 7   Parch        891 non-null    int64  \n",
      " 8   Ticket       891 non-null    object \n",
      " 9   Fare         891 non-null    float64\n",
      " 10  Cabin        204 non-null    object \n",
      " 11  Embarked     889 non-null    object \n",
      "dtypes: float64(2), int64(5), object(5)\n",
      "memory usage: 83.7+ KB\n"
     ]
    }
   ],
   "source": [
    "train_data.info()"
   ]
  },
  {
   "cell_type": "markdown",
   "metadata": {},
   "source": [
    "Some of the insights that we can get from these cells are:\n",
    "1. `PassengerId` gives a natural ordering to the dataset.\n",
    "2. We have 891 rows and 12 columns. `Name`, `Ticket` and `Cabin` are no important to us and should be dropped.\n",
    "3. The Columns have correct dtype except `Sex` that can be turned into a boolean number.\n",
    "4. We have 7 Numeric Columns and 5 Strings\n",
    "4. We have missing values."
   ]
  },
  {
   "cell_type": "markdown",
   "metadata": {
    "heading_collapsed": true
   },
   "source": [
    "### Remove Unnecessary Columns "
   ]
  },
  {
   "cell_type": "markdown",
   "metadata": {
    "hidden": true
   },
   "source": [
    "#### Training Data"
   ]
  },
  {
   "cell_type": "code",
   "execution_count": 9,
   "metadata": {
    "ExecuteTime": {
     "end_time": "2021-01-04T16:11:28.070390Z",
     "start_time": "2021-01-04T16:11:27.996524Z"
    },
    "hidden": true
   },
   "outputs": [
    {
     "name": "stdout",
     "output_type": "stream",
     "text": [
      "Number of Colums (BEFORE): 12\n",
      "Number of Colums (AFTER): 9\n"
     ]
    }
   ],
   "source": [
    "print(\"Number of Colums (BEFORE): {}\".format(train_data.shape[1]))\n",
    "train_data = train_data.drop([\"Name\", \"Ticket\", \"Cabin\"], axis=1)\n",
    "print(\"Number of Colums (AFTER): {}\".format(train_data.shape[1]))"
   ]
  },
  {
   "cell_type": "markdown",
   "metadata": {
    "hidden": true
   },
   "source": [
    "We can confirm that we have removed the columns by printing how many columns we have."
   ]
  },
  {
   "cell_type": "markdown",
   "metadata": {
    "hidden": true
   },
   "source": [
    "#### Test Data"
   ]
  },
  {
   "cell_type": "code",
   "execution_count": 10,
   "metadata": {
    "ExecuteTime": {
     "end_time": "2021-01-04T16:11:28.143083Z",
     "start_time": "2021-01-04T16:11:28.071988Z"
    },
    "hidden": true
   },
   "outputs": [
    {
     "name": "stdout",
     "output_type": "stream",
     "text": [
      "Number of Colums (BEFORE): 11\n",
      "Number of Colums (AFTER): 8\n"
     ]
    }
   ],
   "source": [
    "print(\"Number of Colums (BEFORE): {}\".format(test_data.shape[1]))\n",
    "test_data = test_data.drop([\"Name\", \"Ticket\", \"Cabin\"], axis=1)\n",
    "print(\"Number of Colums (AFTER): {}\".format(test_data.shape[1]))"
   ]
  },
  {
   "cell_type": "markdown",
   "metadata": {
    "heading_collapsed": true
   },
   "source": [
    "### Missing Values"
   ]
  },
  {
   "cell_type": "markdown",
   "metadata": {
    "heading_collapsed": true,
    "hidden": true
   },
   "source": [
    "#### Training Data"
   ]
  },
  {
   "cell_type": "code",
   "execution_count": 11,
   "metadata": {
    "ExecuteTime": {
     "end_time": "2021-01-04T16:11:28.214682Z",
     "start_time": "2021-01-04T16:11:28.144530Z"
    },
    "hidden": true
   },
   "outputs": [
    {
     "name": "stdout",
     "output_type": "stream",
     "text": [
      "PassengerId: 0\n",
      "Survived: 0\n",
      "Pclass: 0\n",
      "Sex: 0\n",
      "Age: 177\n",
      "SibSp: 0\n",
      "Parch: 0\n",
      "Fare: 0\n",
      "Embarked: 2\n"
     ]
    }
   ],
   "source": [
    "def missing_val(data=\"train_data\"):\n",
    "    if data == \"train_data\":\n",
    "        for col in train_data.columns:\n",
    "            print(\"{}: {}\".format(col, train_data[col].isnull().sum()))\n",
    "    else:\n",
    "        for col in test_data.columns:\n",
    "            print(\"{}: {}\".format(col, test_data[col].isnull().sum()))\n",
    "\n",
    "missing_val()"
   ]
  },
  {
   "cell_type": "markdown",
   "metadata": {
    "hidden": true
   },
   "source": [
    "We can see that `Age` and `Embarked` has the missing values. Let's deal first with `Age`."
   ]
  },
  {
   "cell_type": "markdown",
   "metadata": {
    "heading_collapsed": true,
    "hidden": true
   },
   "source": [
    "#### Test Data"
   ]
  },
  {
   "cell_type": "code",
   "execution_count": 12,
   "metadata": {
    "ExecuteTime": {
     "end_time": "2021-01-04T16:11:28.328247Z",
     "start_time": "2021-01-04T16:11:28.216590Z"
    },
    "hidden": true
   },
   "outputs": [
    {
     "name": "stdout",
     "output_type": "stream",
     "text": [
      "PassengerId: 0\n",
      "Pclass: 0\n",
      "Sex: 0\n",
      "Age: 86\n",
      "SibSp: 0\n",
      "Parch: 0\n",
      "Fare: 1\n",
      "Embarked: 0\n"
     ]
    }
   ],
   "source": [
    "missing_val(\"test_data\")"
   ]
  },
  {
   "cell_type": "markdown",
   "metadata": {
    "hidden": true
   },
   "source": [
    "Just like `train_data`, `test_data` also has some missing data on age."
   ]
  },
  {
   "cell_type": "markdown",
   "metadata": {
    "heading_collapsed": true,
    "hidden": true
   },
   "source": [
    "#### Filing `Age` Column with Mean Values"
   ]
  },
  {
   "cell_type": "markdown",
   "metadata": {
    "hidden": true
   },
   "source": [
    "Since `Age` has some significant values that are missing and we have no way to identify the  age of the passenger based on the columns presented, one solution that I can think of is fill this with the mean values of the `Age` column. Let's do just that."
   ]
  },
  {
   "cell_type": "markdown",
   "metadata": {
    "heading_collapsed": true,
    "hidden": true
   },
   "source": [
    "##### Training Data"
   ]
  },
  {
   "cell_type": "code",
   "execution_count": 13,
   "metadata": {
    "ExecuteTime": {
     "end_time": "2021-01-04T16:11:28.391821Z",
     "start_time": "2021-01-04T16:11:28.329764Z"
    },
    "hidden": true
   },
   "outputs": [],
   "source": [
    "mean_age = train_data[\"Age\"].mean()\n",
    "train_data[\"Age\"].fillna(mean_age, inplace=True)"
   ]
  },
  {
   "cell_type": "code",
   "execution_count": 14,
   "metadata": {
    "ExecuteTime": {
     "end_time": "2021-01-04T16:11:28.469953Z",
     "start_time": "2021-01-04T16:11:28.393456Z"
    },
    "hidden": true
   },
   "outputs": [
    {
     "name": "stdout",
     "output_type": "stream",
     "text": [
      "PassengerId: 0\n",
      "Survived: 0\n",
      "Pclass: 0\n",
      "Sex: 0\n",
      "Age: 0\n",
      "SibSp: 0\n",
      "Parch: 0\n",
      "Fare: 0\n",
      "Embarked: 2\n"
     ]
    }
   ],
   "source": [
    "missing_val()"
   ]
  },
  {
   "cell_type": "markdown",
   "metadata": {
    "hidden": true
   },
   "source": [
    "As we can see, the `Age` column does not have any more missing values. Now let's do the same with the `test_data`."
   ]
  },
  {
   "cell_type": "markdown",
   "metadata": {
    "hidden": true
   },
   "source": [
    "##### Test Data"
   ]
  },
  {
   "cell_type": "code",
   "execution_count": 15,
   "metadata": {
    "ExecuteTime": {
     "end_time": "2021-01-04T16:11:28.541783Z",
     "start_time": "2021-01-04T16:11:28.471563Z"
    },
    "hidden": true
   },
   "outputs": [],
   "source": [
    "mean_age = test_data[\"Age\"].mean()\n",
    "test_data[\"Age\"].fillna(mean_age, inplace=True)"
   ]
  },
  {
   "cell_type": "code",
   "execution_count": 16,
   "metadata": {
    "ExecuteTime": {
     "end_time": "2021-01-04T16:11:28.627869Z",
     "start_time": "2021-01-04T16:11:28.543424Z"
    },
    "hidden": true
   },
   "outputs": [
    {
     "name": "stdout",
     "output_type": "stream",
     "text": [
      "PassengerId: 0\n",
      "Pclass: 0\n",
      "Sex: 0\n",
      "Age: 0\n",
      "SibSp: 0\n",
      "Parch: 0\n",
      "Fare: 1\n",
      "Embarked: 0\n"
     ]
    }
   ],
   "source": [
    "missing_val(\"test_data\")"
   ]
  },
  {
   "cell_type": "markdown",
   "metadata": {
    "hidden": true
   },
   "source": [
    "As we can see, there are no mising values in the `Age` Column."
   ]
  },
  {
   "cell_type": "markdown",
   "metadata": {
    "heading_collapsed": true,
    "hidden": true
   },
   "source": [
    "#### Filing `Fare` Column with Mean Values"
   ]
  },
  {
   "cell_type": "code",
   "execution_count": 17,
   "metadata": {
    "ExecuteTime": {
     "end_time": "2021-01-04T16:11:28.699828Z",
     "start_time": "2021-01-04T16:11:28.629523Z"
    },
    "hidden": true
   },
   "outputs": [],
   "source": [
    "mean_fare = test_data[\"Fare\"].mean()\n",
    "test_data[\"Fare\"].fillna(mean_fare, inplace=True)"
   ]
  },
  {
   "cell_type": "markdown",
   "metadata": {
    "hidden": true
   },
   "source": [
    "#### Removing  Missing Values"
   ]
  },
  {
   "cell_type": "markdown",
   "metadata": {
    "heading_collapsed": true,
    "hidden": true
   },
   "source": [
    "##### Training Data"
   ]
  },
  {
   "cell_type": "markdown",
   "metadata": {
    "hidden": true
   },
   "source": [
    "Since `Embarked` is a column that tells from which port did the person come in to Titanic and there is no way we can tell that based on the information at hand, we will just removed it since we are only removing an insignificant amount of rows."
   ]
  },
  {
   "cell_type": "code",
   "execution_count": 18,
   "metadata": {
    "ExecuteTime": {
     "end_time": "2021-01-04T16:11:28.775239Z",
     "start_time": "2021-01-04T16:11:28.700967Z"
    },
    "hidden": true
   },
   "outputs": [
    {
     "name": "stdout",
     "output_type": "stream",
     "text": [
      "BEFORE Row Deletion: 891\n",
      "\n",
      "PassengerId: 0\n",
      "Survived: 0\n",
      "Pclass: 0\n",
      "Sex: 0\n",
      "Age: 0\n",
      "SibSp: 0\n",
      "Parch: 0\n",
      "Fare: 0\n",
      "Embarked: 0\n",
      "\n",
      "AFTER Row Deletion: 889\n"
     ]
    }
   ],
   "source": [
    "print(\"BEFORE Row Deletion: {}\\n\".format(train_data.shape[0]))\n",
    "train_data.dropna(inplace=True)\n",
    "missing_val()\n",
    "print(\"\\nAFTER Row Deletion: {}\".format(train_data.shape[0]))"
   ]
  },
  {
   "cell_type": "markdown",
   "metadata": {
    "heading_collapsed": true
   },
   "source": [
    "### Removing  Outliers\n",
    "In order for our dataset to be prepared to be analyzed by our chosen model, we need to remove outliers that will draw our conclusion far away from the truth. To do this, we will consider a value an outlier if it falls over 3 standard deviation away from the mean."
   ]
  },
  {
   "cell_type": "markdown",
   "metadata": {
    "heading_collapsed": true,
    "hidden": true
   },
   "source": [
    "#### Numeric Columns"
   ]
  },
  {
   "cell_type": "code",
   "execution_count": 19,
   "metadata": {
    "ExecuteTime": {
     "end_time": "2021-01-04T16:11:28.880252Z",
     "start_time": "2021-01-04T16:11:28.776869Z"
    },
    "hidden": true
   },
   "outputs": [
    {
     "name": "stdout",
     "output_type": "stream",
     "text": [
      "Number of Observations: Fare -> (869,)\n",
      "\n",
      "Number of Observations: Age -> (862,)\n",
      "\n",
      "Number of Observations: SibSp -> (832,)\n",
      "\n",
      "Number of Observations: Parch -> (818,)\n",
      "\n",
      "Number of Observation Removed: 71\n"
     ]
    }
   ],
   "source": [
    "features = [\"Fare\", \"Age\", \"SibSp\", \"Parch\"] # Columns we are interested in\n",
    "before_removal = train_data.shape[0]\n",
    "for feature in features:\n",
    "    min_ = train_data[feature].mean() - (3 * train_data[feature].std())\n",
    "    max_ = train_data[feature].mean() + (3 * train_data[feature].std())\n",
    "    \n",
    "    train_data = train_data[train_data[feature] >= min_]\n",
    "    train_data = train_data[train_data[feature] <= max_]\n",
    "    print(\"Number of Observations: {} -> {}\\n\".format(feature, train_data[feature].shape))\n",
    "    \n",
    "print(\"Number of Observation Removed: {}\".format(before_removal - train_data.shape[0]))"
   ]
  },
  {
   "cell_type": "markdown",
   "metadata": {
    "heading_collapsed": true,
    "hidden": true
   },
   "source": [
    "#### Text Columns"
   ]
  },
  {
   "cell_type": "markdown",
   "metadata": {
    "heading_collapsed": true,
    "hidden": true
   },
   "source": [
    "##### Training Data"
   ]
  },
  {
   "cell_type": "code",
   "execution_count": 20,
   "metadata": {
    "ExecuteTime": {
     "end_time": "2021-01-04T16:11:28.960604Z",
     "start_time": "2021-01-04T16:11:28.881338Z"
    },
    "hidden": true
   },
   "outputs": [
    {
     "name": "stdout",
     "output_type": "stream",
     "text": [
      "Sex\n",
      "male      539\n",
      "female    279\n",
      "Name: Sex, dtype: int64 \n",
      "\n",
      "Embarked\n",
      "S    594\n",
      "C    153\n",
      "Q     71\n",
      "Name: Embarked, dtype: int64 \n",
      "\n"
     ]
    }
   ],
   "source": [
    "features = [\"Sex\", \"Embarked\"]\n",
    "\n",
    "for feature in features:\n",
    "    count_ = train_data[feature].value_counts()\n",
    "    \n",
    "    print(feature)\n",
    "    print(count_, \"\\n\")"
   ]
  },
  {
   "cell_type": "markdown",
   "metadata": {
    "heading_collapsed": true,
    "hidden": true
   },
   "source": [
    "##### Test Data"
   ]
  },
  {
   "cell_type": "code",
   "execution_count": 21,
   "metadata": {
    "ExecuteTime": {
     "end_time": "2021-01-04T16:11:29.029680Z",
     "start_time": "2021-01-04T16:11:28.961811Z"
    },
    "hidden": true
   },
   "outputs": [
    {
     "name": "stdout",
     "output_type": "stream",
     "text": [
      "Sex\n",
      "male      266\n",
      "female    152\n",
      "Name: Sex, dtype: int64 \n",
      "\n",
      "Embarked\n",
      "S    270\n",
      "C    102\n",
      "Q     46\n",
      "Name: Embarked, dtype: int64 \n",
      "\n"
     ]
    }
   ],
   "source": [
    "features = [\"Sex\", \"Embarked\"]\n",
    "\n",
    "for feature in features:\n",
    "    count_ = test_data[feature].value_counts()\n",
    "    \n",
    "    print(feature)\n",
    "    print(count_, \"\\n\")"
   ]
  },
  {
   "cell_type": "markdown",
   "metadata": {
    "hidden": true
   },
   "source": [
    "None of the classes for any of the features are considered to be outliers as they all represent over 5% of the entire dataset."
   ]
  },
  {
   "cell_type": "markdown",
   "metadata": {},
   "source": [
    "## Data Preprocessing\n",
    "Since we have String columns, our Machine Learning model won't be able to process data that are not numbers. A solution might be to use `LabelEncoder()` from scikit-learn to transform the text data into numeric data."
   ]
  },
  {
   "cell_type": "markdown",
   "metadata": {},
   "source": [
    "### Train Data"
   ]
  },
  {
   "cell_type": "code",
   "execution_count": 22,
   "metadata": {
    "ExecuteTime": {
     "end_time": "2021-01-04T16:11:29.119790Z",
     "start_time": "2021-01-04T16:11:29.031160Z"
    }
   },
   "outputs": [],
   "source": [
    "X = train_data.drop(\"Survived\", axis=1)\n",
    "y = train_data[\"Survived\"].values"
   ]
  },
  {
   "cell_type": "markdown",
   "metadata": {},
   "source": [
    "#### OneHotEncoding()"
   ]
  },
  {
   "cell_type": "code",
   "execution_count": 23,
   "metadata": {
    "ExecuteTime": {
     "end_time": "2021-01-04T16:11:29.457790Z",
     "start_time": "2021-01-04T16:11:29.123787Z"
    }
   },
   "outputs": [],
   "source": [
    "from sklearn.compose import ColumnTransformer\n",
    "from sklearn.preprocessing import OneHotEncoder\n",
    "\n",
    "ct = ColumnTransformer(transformers=[('encoder', OneHotEncoder(), [\"Sex\", \"Embarked\"])], remainder='passthrough')\n",
    "X = np.array(ct.fit_transform(X))"
   ]
  },
  {
   "cell_type": "code",
   "execution_count": 24,
   "metadata": {
    "ExecuteTime": {
     "end_time": "2021-01-04T16:11:29.462031Z",
     "start_time": "2021-01-04T16:11:29.459552Z"
    }
   },
   "outputs": [],
   "source": [
    "X = pd.DataFrame(X)"
   ]
  },
  {
   "cell_type": "code",
   "execution_count": 25,
   "metadata": {
    "ExecuteTime": {
     "end_time": "2021-01-04T16:11:29.553323Z",
     "start_time": "2021-01-04T16:11:29.463876Z"
    }
   },
   "outputs": [],
   "source": [
    "X[5] = X[5].astype(int)"
   ]
  },
  {
   "cell_type": "markdown",
   "metadata": {
    "heading_collapsed": true
   },
   "source": [
    "#### LabelEncoder()"
   ]
  },
  {
   "cell_type": "code",
   "execution_count": 26,
   "metadata": {
    "ExecuteTime": {
     "end_time": "2021-01-04T16:11:29.661941Z",
     "start_time": "2021-01-04T16:11:29.554929Z"
    },
    "hidden": true
   },
   "outputs": [],
   "source": [
    "# from sklearn.preprocessing import LabelEncoder\n",
    "# enc = LabelEncoder()\n",
    "\n",
    "# features = [\"Sex\", \"Embarked\"]\n",
    "\n",
    "# for feature in features:\n",
    "#     X[feature] = enc.fit_transform(X[feature])\n",
    "# X"
   ]
  },
  {
   "cell_type": "markdown",
   "metadata": {
    "heading_collapsed": true
   },
   "source": [
    "#### Dummy Variables"
   ]
  },
  {
   "cell_type": "code",
   "execution_count": 27,
   "metadata": {
    "ExecuteTime": {
     "end_time": "2021-01-04T16:11:29.788486Z",
     "start_time": "2021-01-04T16:11:29.663534Z"
    },
    "hidden": true
   },
   "outputs": [],
   "source": [
    "# X = pd.get_dummies(X, columns=[\"Sex\", \"Embarked\"])\n",
    "# X = X.values"
   ]
  },
  {
   "cell_type": "markdown",
   "metadata": {},
   "source": [
    "### Test Data"
   ]
  },
  {
   "cell_type": "markdown",
   "metadata": {},
   "source": [
    "#### OneHotEncoder()"
   ]
  },
  {
   "cell_type": "code",
   "execution_count": 28,
   "metadata": {
    "ExecuteTime": {
     "end_time": "2021-01-04T16:11:29.923898Z",
     "start_time": "2021-01-04T16:11:29.790184Z"
    }
   },
   "outputs": [],
   "source": [
    "test_data = np.array(ct.fit_transform(test_data))"
   ]
  },
  {
   "cell_type": "code",
   "execution_count": 29,
   "metadata": {
    "ExecuteTime": {
     "end_time": "2021-01-04T16:11:29.992059Z",
     "start_time": "2021-01-04T16:11:29.925511Z"
    }
   },
   "outputs": [],
   "source": [
    "test_data = pd.DataFrame(test_data)\n",
    "test_data = test_data.astype(int)"
   ]
  },
  {
   "cell_type": "markdown",
   "metadata": {
    "heading_collapsed": true
   },
   "source": [
    "#### LabelEncoder()"
   ]
  },
  {
   "cell_type": "code",
   "execution_count": 30,
   "metadata": {
    "ExecuteTime": {
     "end_time": "2021-01-04T16:11:30.058218Z",
     "start_time": "2021-01-04T16:11:29.994117Z"
    },
    "hidden": true
   },
   "outputs": [],
   "source": [
    "# from sklearn.preprocessing import LabelEncoder\n",
    "# enc = LabelEncoder()\n",
    "# for feature in features:\n",
    "#     test_data[feature] = enc.fit_transform(test_data[feature])"
   ]
  },
  {
   "cell_type": "markdown",
   "metadata": {
    "heading_collapsed": true
   },
   "source": [
    "#### Dummy Variable"
   ]
  },
  {
   "cell_type": "code",
   "execution_count": 31,
   "metadata": {
    "ExecuteTime": {
     "end_time": "2021-01-04T16:11:30.164504Z",
     "start_time": "2021-01-04T16:11:30.059753Z"
    },
    "hidden": true
   },
   "outputs": [],
   "source": [
    "# test_data = pd.get_dummies(test_data, columns=[\"Sex\", \"Embarked\"])"
   ]
  },
  {
   "cell_type": "markdown",
   "metadata": {},
   "source": [
    "## Machine Learning Model\n",
    "Now we are ready to feed our data to the model we choose to predict whether a person will survive or not depending on the labeled data that we fed in to our model."
   ]
  },
  {
   "cell_type": "markdown",
   "metadata": {
    "heading_collapsed": true
   },
   "source": [
    "### Splitting the Training Dataset into Dependent and Independent Variable\n",
    "Since the answer that we want to address is whether the person is going to survive or not (`Survived`), this will be our dependent variable and the rest of te features will be the independent variable."
   ]
  },
  {
   "cell_type": "code",
   "execution_count": 32,
   "metadata": {
    "ExecuteTime": {
     "end_time": "2021-01-04T16:11:30.248525Z",
     "start_time": "2021-01-04T16:11:30.166157Z"
    },
    "hidden": true
   },
   "outputs": [],
   "source": [
    "from sklearn.model_selection import train_test_split\n",
    "X_train, X_test, y_train, y_test = train_test_split(X, y) "
   ]
  },
  {
   "cell_type": "markdown",
   "metadata": {},
   "source": [
    "### Fitting the Training Data to Model"
   ]
  },
  {
   "cell_type": "markdown",
   "metadata": {},
   "source": [
    "#### Logistic Regression"
   ]
  },
  {
   "cell_type": "code",
   "execution_count": 33,
   "metadata": {
    "ExecuteTime": {
     "end_time": "2021-01-04T16:11:30.342931Z",
     "start_time": "2021-01-04T16:11:30.250007Z"
    }
   },
   "outputs": [
    {
     "name": "stdout",
     "output_type": "stream",
     "text": [
      "Accuracy on Training Set: 79.45\n",
      "Accuracy on Test Set: 79.51\n"
     ]
    },
    {
     "name": "stderr",
     "output_type": "stream",
     "text": [
      "/home/prince/Github/Kaggle Competitions/venv/lib/python3.8/site-packages/sklearn/linear_model/_logistic.py:763: ConvergenceWarning: lbfgs failed to converge (status=1):\n",
      "STOP: TOTAL NO. of ITERATIONS REACHED LIMIT.\n",
      "\n",
      "Increase the number of iterations (max_iter) or scale the data as shown in:\n",
      "    https://scikit-learn.org/stable/modules/preprocessing.html\n",
      "Please also refer to the documentation for alternative solver options:\n",
      "    https://scikit-learn.org/stable/modules/linear_model.html#logistic-regression\n",
      "  n_iter_i = _check_optimize_result(\n"
     ]
    }
   ],
   "source": [
    "from sklearn.linear_model import LogisticRegression\n",
    "\n",
    "logreg = LogisticRegression().fit(X_train, y_train)\n",
    "acc_logreg = logreg.score(X_train, y_train)*100\n",
    "acc_test_logreg = logreg.score(X_test, y_test)*100\n",
    "print(\"Accuracy on Training Set: {:.2f}\".format(acc_logreg))\n",
    "print(\"Accuracy on Test Set: {:.2f}\".format(acc_test_logreg))"
   ]
  },
  {
   "cell_type": "markdown",
   "metadata": {},
   "source": [
    "#### Decision Tree"
   ]
  },
  {
   "cell_type": "code",
   "execution_count": 34,
   "metadata": {
    "ExecuteTime": {
     "end_time": "2021-01-04T16:11:30.458990Z",
     "start_time": "2021-01-04T16:11:30.344068Z"
    }
   },
   "outputs": [
    {
     "name": "stdout",
     "output_type": "stream",
     "text": [
      "Accuracy on Training Set: 84.83\n",
      "Accuracy on Test Set: 78.05\n"
     ]
    }
   ],
   "source": [
    "from sklearn.tree import DecisionTreeClassifier\n",
    "\n",
    "tree = DecisionTreeClassifier(max_depth=4).fit(X_train, y_train)\n",
    "acc_tree = tree.score(X_train, y_train)*100\n",
    "acc_test_tree = tree.score(X_test, y_test)*100\n",
    "\n",
    "\n",
    "print(\"Accuracy on Training Set: {:.2f}\".format(acc_tree))\n",
    "print(\"Accuracy on Test Set: {:.2f}\".format(acc_test_tree))"
   ]
  },
  {
   "cell_type": "markdown",
   "metadata": {},
   "source": [
    "#### Polynomial Regression"
   ]
  },
  {
   "cell_type": "code",
   "execution_count": 35,
   "metadata": {
    "ExecuteTime": {
     "end_time": "2021-01-04T16:11:30.685610Z",
     "start_time": "2021-01-04T16:11:30.461098Z"
    }
   },
   "outputs": [
    {
     "name": "stdout",
     "output_type": "stream",
     "text": [
      "Accuracy on Training Set: 81.43\n"
     ]
    }
   ],
   "source": [
    "from sklearn.preprocessing import PolynomialFeatures\n",
    "from sklearn.linear_model import LinearRegression\n",
    "\n",
    "poly_reg = PolynomialFeatures(degree=4)\n",
    "X_poly = poly_reg.fit_transform(X_train)\n",
    "reg = LinearRegression()\n",
    "_ = reg.fit(X_poly, y_train)\n",
    "\n",
    "acc_poly = reg.score(X_poly, y_train)*100\n",
    "# acc_test_poly = reg.score(X_train, poly_reg.transform(X_test))*100\n",
    "\n",
    "print(\"Accuracy on Training Set: {:.2f}\".format(acc_poly))\n",
    "# print(\"Accuracy on Training Set: {:.2f}\".format(acc_test_poly))"
   ]
  },
  {
   "cell_type": "markdown",
   "metadata": {},
   "source": [
    "#### Random Forest"
   ]
  },
  {
   "cell_type": "code",
   "execution_count": 36,
   "metadata": {
    "ExecuteTime": {
     "end_time": "2021-01-04T16:11:31.183282Z",
     "start_time": "2021-01-04T16:11:30.687855Z"
    }
   },
   "outputs": [
    {
     "name": "stdout",
     "output_type": "stream",
     "text": [
      "Accuracy on Training Set: 81.40\n",
      "Accuracy on Test Set: 81.95\n"
     ]
    }
   ],
   "source": [
    "from sklearn.ensemble import RandomForestClassifier\n",
    "\n",
    "forest = RandomForestClassifier(n_estimators=200, max_depth=4, max_features=6, n_jobs=-1, max_leaf_nodes=5).fit(X_train, y_train)\n",
    "\n",
    "acc_forest = forest.score(X_train, y_train)*100\n",
    "acc_test_forest = forest.score(X_test, y_test)*100\n",
    "\n",
    "print(\"Accuracy on Training Set: {:.2f}\".format(acc_forest))\n",
    "print(\"Accuracy on Test Set: {:.2f}\".format(acc_test_forest))"
   ]
  },
  {
   "cell_type": "markdown",
   "metadata": {},
   "source": [
    "#### Gradient Boosting Classifier"
   ]
  },
  {
   "cell_type": "code",
   "execution_count": 37,
   "metadata": {
    "ExecuteTime": {
     "end_time": "2021-01-04T16:11:31.293661Z",
     "start_time": "2021-01-04T16:11:31.185314Z"
    }
   },
   "outputs": [
    {
     "name": "stdout",
     "output_type": "stream",
     "text": [
      "Accuracy on Training Set: 84.18\n",
      "Accuracy on Test Set: 77.56\n"
     ]
    }
   ],
   "source": [
    "from sklearn.ensemble import GradientBoostingClassifier\n",
    "\n",
    "gradient = GradientBoostingClassifier(learning_rate=0.01).fit(X_train, y_train)\n",
    "\n",
    "acc_gradient = gradient.score(X_train, y_train)*100\n",
    "acc_test_gradient = gradient.score(X_test, y_test)*100\n",
    "\n",
    "print(\"Accuracy on Training Set: {:.2f}\".format(acc_gradient))\n",
    "print(\"Accuracy on Test Set: {:.2f}\".format(acc_test_gradient))"
   ]
  },
  {
   "cell_type": "markdown",
   "metadata": {},
   "source": [
    "#### K-Nearest Neighbors"
   ]
  },
  {
   "cell_type": "code",
   "execution_count": 38,
   "metadata": {
    "ExecuteTime": {
     "end_time": "2021-01-04T16:11:31.346495Z",
     "start_time": "2021-01-04T16:11:31.295135Z"
    }
   },
   "outputs": [
    {
     "name": "stdout",
     "output_type": "stream",
     "text": [
      "Accuracy on Training Set: 71.94\n",
      "Accuracy on Test Set: 63.90\n"
     ]
    }
   ],
   "source": [
    "from sklearn.neighbors import KNeighborsClassifier\n",
    "knn = KNeighborsClassifier(n_neighbors=6).fit(X_train, y_train)\n",
    "\n",
    "acc_knn = knn.score(X_train, y_train)*100\n",
    "acc_test_knn = knn.score(X_test, y_test)*100\n",
    "\n",
    "print(\"Accuracy on Training Set: {:.2f}\".format(acc_knn))\n",
    "print(\"Accuracy on Test Set: {:.2f}\".format(acc_test_knn))"
   ]
  },
  {
   "cell_type": "markdown",
   "metadata": {},
   "source": [
    "#### Linear SVC"
   ]
  },
  {
   "cell_type": "code",
   "execution_count": 39,
   "metadata": {
    "ExecuteTime": {
     "end_time": "2021-01-04T16:11:31.421177Z",
     "start_time": "2021-01-04T16:11:31.347839Z"
    }
   },
   "outputs": [
    {
     "name": "stdout",
     "output_type": "stream",
     "text": [
      "Accuracy on Training Set: 79.12\n",
      "Accuracy on Test Set: 80.49\n"
     ]
    },
    {
     "name": "stderr",
     "output_type": "stream",
     "text": [
      "/home/prince/Github/Kaggle Competitions/venv/lib/python3.8/site-packages/sklearn/svm/_base.py:985: ConvergenceWarning: Liblinear failed to converge, increase the number of iterations.\n",
      "  warnings.warn(\"Liblinear failed to converge, increase \"\n"
     ]
    }
   ],
   "source": [
    "from sklearn.svm import LinearSVC\n",
    "linear_svc = LinearSVC(C=4).fit(X_train, y_train)\n",
    "\n",
    "acc_linearSVC = linear_svc.score(X_train, y_train)*100\n",
    "acc_test_linearSVC = linear_svc.score(X_test, y_test)*100\n",
    "\n",
    "print(\"Accuracy on Training Set: {:.2f}\".format(acc_linearSVC))\n",
    "print(\"Accuracy on Test Set: {:.2f}\".format(acc_test_linearSVC))"
   ]
  },
  {
   "cell_type": "markdown",
   "metadata": {},
   "source": [
    "#### Ridge Classifier"
   ]
  },
  {
   "cell_type": "code",
   "execution_count": 40,
   "metadata": {
    "ExecuteTime": {
     "end_time": "2021-01-04T16:11:31.475902Z",
     "start_time": "2021-01-04T16:11:31.422444Z"
    }
   },
   "outputs": [
    {
     "name": "stdout",
     "output_type": "stream",
     "text": [
      "Accuracy on Training Set: 79.45\n",
      "Accuracy on Test Set: 80.98\n"
     ]
    }
   ],
   "source": [
    "from sklearn.linear_model import RidgeClassifier\n",
    "ridge = RidgeClassifier().fit(X_train, y_train)\n",
    "\n",
    "acc_ridge = ridge.score(X_train, y_train)*100\n",
    "acc_test_ridge = ridge.score(X_test, y_test)*100\n",
    "\n",
    "print(\"Accuracy on Training Set: {:.2f}\".format(acc_ridge))\n",
    "print(\"Accuracy on Test Set: {:.2f}\".format(acc_test_ridge))"
   ]
  },
  {
   "cell_type": "markdown",
   "metadata": {},
   "source": [
    "#### Support Vector Classifier"
   ]
  },
  {
   "cell_type": "code",
   "execution_count": 41,
   "metadata": {
    "ExecuteTime": {
     "end_time": "2021-01-04T16:11:31.582520Z",
     "start_time": "2021-01-04T16:11:31.477225Z"
    }
   },
   "outputs": [
    {
     "name": "stdout",
     "output_type": "stream",
     "text": [
      "Accuracy on Training Set: 67.37\n",
      "Accuracy on Test Set: 63.41\n"
     ]
    }
   ],
   "source": [
    "from sklearn.svm import SVC\n",
    "svc = SVC().fit(X_train, y_train)\n",
    "acc_svc = svc.score(X_train, y_train)*100\n",
    "acc_test_svc = svc.score(X_test, y_test)*100\n",
    "\n",
    "print(\"Accuracy on Training Set: {:.2f}\".format(acc_svc))\n",
    "print(\"Accuracy on Test Set: {:.2f}\".format(acc_test_svc))"
   ]
  },
  {
   "cell_type": "markdown",
   "metadata": {},
   "source": [
    "Since Random Forest has the highest score, we will use this to predict our resulting test_data"
   ]
  },
  {
   "cell_type": "markdown",
   "metadata": {
    "heading_collapsed": true
   },
   "source": [
    "### Predictions"
   ]
  },
  {
   "cell_type": "markdown",
   "metadata": {
    "heading_collapsed": true,
    "hidden": true
   },
   "source": [
    "#### X_test Predictions"
   ]
  },
  {
   "cell_type": "code",
   "execution_count": 42,
   "metadata": {
    "ExecuteTime": {
     "end_time": "2021-01-04T16:11:31.622966Z",
     "start_time": "2021-01-04T16:11:31.583666Z"
    },
    "hidden": true
   },
   "outputs": [],
   "source": [
    "models = pd.DataFrame({\n",
    "    'Model': ['Support Vector Classifier', 'KNN', 'Logistic Regression', \n",
    "              'Random Forest', 'Linear SVC', 'Decision Tree', \"Ridge Regression\", \"Polynomial Regression\", \"Gradient Boosting Classifier\"],\n",
    "    'Train Score': [acc_svc, acc_knn, acc_logreg, acc_forest, acc_linearSVC, acc_tree, acc_ridge, acc_poly, acc_gradient],\n",
    "    'Test Score': [acc_test_svc, acc_test_knn, acc_test_logreg, acc_test_forest, acc_test_linearSVC, acc_test_tree, acc_test_ridge, np.nan, acc_test_gradient]\n",
    "                     })\n",
    "sorted_models = models.sort_values(by=[\"Train Score\", \"Test Score\"], ascending=False)"
   ]
  },
  {
   "cell_type": "code",
   "execution_count": 43,
   "metadata": {
    "ExecuteTime": {
     "end_time": "2021-01-04T16:11:31.766958Z",
     "start_time": "2021-01-04T16:11:31.625288Z"
    },
    "hidden": true,
    "scrolled": true
   },
   "outputs": [
    {
     "data": {
      "text/html": [
       "<div>\n",
       "<style scoped>\n",
       "    .dataframe tbody tr th:only-of-type {\n",
       "        vertical-align: middle;\n",
       "    }\n",
       "\n",
       "    .dataframe tbody tr th {\n",
       "        vertical-align: top;\n",
       "    }\n",
       "\n",
       "    .dataframe thead th {\n",
       "        text-align: right;\n",
       "    }\n",
       "</style>\n",
       "<table border=\"1\" class=\"dataframe\">\n",
       "  <thead>\n",
       "    <tr style=\"text-align: right;\">\n",
       "      <th></th>\n",
       "      <th>Model</th>\n",
       "      <th>Train Score</th>\n",
       "      <th>Test Score</th>\n",
       "    </tr>\n",
       "  </thead>\n",
       "  <tbody>\n",
       "    <tr>\n",
       "      <th>5</th>\n",
       "      <td>Decision Tree</td>\n",
       "      <td>84.828711</td>\n",
       "      <td>78.048780</td>\n",
       "    </tr>\n",
       "    <tr>\n",
       "      <th>8</th>\n",
       "      <td>Gradient Boosting Classifier</td>\n",
       "      <td>84.176183</td>\n",
       "      <td>77.560976</td>\n",
       "    </tr>\n",
       "    <tr>\n",
       "      <th>7</th>\n",
       "      <td>Polynomial Regression</td>\n",
       "      <td>81.432491</td>\n",
       "      <td>NaN</td>\n",
       "    </tr>\n",
       "    <tr>\n",
       "      <th>3</th>\n",
       "      <td>Random Forest</td>\n",
       "      <td>81.402936</td>\n",
       "      <td>81.951220</td>\n",
       "    </tr>\n",
       "    <tr>\n",
       "      <th>6</th>\n",
       "      <td>Ridge Regression</td>\n",
       "      <td>79.445351</td>\n",
       "      <td>80.975610</td>\n",
       "    </tr>\n",
       "    <tr>\n",
       "      <th>2</th>\n",
       "      <td>Logistic Regression</td>\n",
       "      <td>79.445351</td>\n",
       "      <td>79.512195</td>\n",
       "    </tr>\n",
       "    <tr>\n",
       "      <th>4</th>\n",
       "      <td>Linear SVC</td>\n",
       "      <td>79.119086</td>\n",
       "      <td>80.487805</td>\n",
       "    </tr>\n",
       "    <tr>\n",
       "      <th>1</th>\n",
       "      <td>KNN</td>\n",
       "      <td>71.941272</td>\n",
       "      <td>63.902439</td>\n",
       "    </tr>\n",
       "    <tr>\n",
       "      <th>0</th>\n",
       "      <td>Support Vector Classifier</td>\n",
       "      <td>67.373573</td>\n",
       "      <td>63.414634</td>\n",
       "    </tr>\n",
       "  </tbody>\n",
       "</table>\n",
       "</div>"
      ],
      "text/plain": [
       "                          Model  Train Score  Test Score\n",
       "5                 Decision Tree    84.828711   78.048780\n",
       "8  Gradient Boosting Classifier    84.176183   77.560976\n",
       "7         Polynomial Regression    81.432491         NaN\n",
       "3                 Random Forest    81.402936   81.951220\n",
       "6              Ridge Regression    79.445351   80.975610\n",
       "2           Logistic Regression    79.445351   79.512195\n",
       "4                    Linear SVC    79.119086   80.487805\n",
       "1                           KNN    71.941272   63.902439\n",
       "0     Support Vector Classifier    67.373573   63.414634"
      ]
     },
     "execution_count": 43,
     "metadata": {},
     "output_type": "execute_result"
    }
   ],
   "source": [
    "sorted_models"
   ]
  },
  {
   "cell_type": "markdown",
   "metadata": {
    "hidden": true
   },
   "source": [
    "#### Submission Prediction"
   ]
  },
  {
   "cell_type": "code",
   "execution_count": 44,
   "metadata": {
    "ExecuteTime": {
     "end_time": "2021-01-04T16:11:31.869471Z",
     "start_time": "2021-01-04T16:11:31.768471Z"
    },
    "hidden": true
   },
   "outputs": [],
   "source": [
    "predictions = gradient.predict(test_data)"
   ]
  },
  {
   "cell_type": "code",
   "execution_count": 45,
   "metadata": {
    "ExecuteTime": {
     "end_time": "2021-01-04T16:11:31.957572Z",
     "start_time": "2021-01-04T16:11:31.871097Z"
    },
    "hidden": true
   },
   "outputs": [
    {
     "name": "stdout",
     "output_type": "stream",
     "text": [
      "Your submission was successfully saved!\n"
     ]
    }
   ],
   "source": [
    "output = pd.DataFrame({'PassengerId': test_data[5], 'Survived': predictions})\n",
    "output.to_csv('my_submission.csv', index=False)\n",
    "print(\"Your submission was successfully saved!\")"
   ]
  },
  {
   "cell_type": "markdown",
   "metadata": {},
   "source": [
    "## Visualizing Decision Tree"
   ]
  },
  {
   "cell_type": "code",
   "execution_count": 46,
   "metadata": {
    "ExecuteTime": {
     "end_time": "2021-01-04T16:11:32.060240Z",
     "start_time": "2021-01-04T16:11:31.959949Z"
    }
   },
   "outputs": [],
   "source": [
    "from sklearn.tree import export_graphviz\n",
    "feature_names=['Survived', 'Pclass', 'Sex', 'Age', 'SibSp','Parch', 'Fare', 'Embarked']\n",
    "export_graphviz(tree, out_file=\"tree.dot\", class_names=[\"Dead\", \"Alive\"], feature_names=X_train.columns, impurity=False, filled=True)"
   ]
  },
  {
   "cell_type": "code",
   "execution_count": 47,
   "metadata": {
    "ExecuteTime": {
     "end_time": "2021-01-04T16:11:32.193237Z",
     "start_time": "2021-01-04T16:11:32.061566Z"
    }
   },
   "outputs": [
    {
     "data": {
      "image/svg+xml": [
       "<?xml version=\"1.0\" encoding=\"UTF-8\" standalone=\"no\"?>\n",
       "<!DOCTYPE svg PUBLIC \"-//W3C//DTD SVG 1.1//EN\"\n",
       " \"http://www.w3.org/Graphics/SVG/1.1/DTD/svg11.dtd\">\n",
       "<!-- Generated by graphviz version 2.43.0 (0)\n",
       " -->\n",
       "<!-- Title: Tree Pages: 1 -->\n",
       "<svg width=\"1674pt\" height=\"477pt\"\n",
       " viewBox=\"0.00 0.00 1674.00 477.00\" xmlns=\"http://www.w3.org/2000/svg\" xmlns:xlink=\"http://www.w3.org/1999/xlink\">\n",
       "<g id=\"graph0\" class=\"graph\" transform=\"scale(1 1) rotate(0) translate(4 473)\">\n",
       "<title>Tree</title>\n",
       "<polygon fill=\"white\" stroke=\"transparent\" points=\"-4,4 -4,-473 1670,-473 1670,4 -4,4\"/>\n",
       "<!-- 0 -->\n",
       "<g id=\"node1\" class=\"node\">\n",
       "<title>0</title>\n",
       "<polygon fill=\"#f5cfb4\" stroke=\"black\" points=\"1021.5,-469 872.5,-469 872.5,-401 1021.5,-401 1021.5,-469\"/>\n",
       "<text text-anchor=\"middle\" x=\"947\" y=\"-453.8\" font-family=\"Times,serif\" font-size=\"14.00\">1 &lt;= 0.5</text>\n",
       "<text text-anchor=\"middle\" x=\"947\" y=\"-438.8\" font-family=\"Times,serif\" font-size=\"14.00\">samples = 613</text>\n",
       "<text text-anchor=\"middle\" x=\"947\" y=\"-423.8\" font-family=\"Times,serif\" font-size=\"14.00\">value = [378, 235]</text>\n",
       "<text text-anchor=\"middle\" x=\"947\" y=\"-408.8\" font-family=\"Times,serif\" font-size=\"14.00\">class = Dead</text>\n",
       "</g>\n",
       "<!-- 1 -->\n",
       "<g id=\"node2\" class=\"node\">\n",
       "<title>1</title>\n",
       "<polygon fill=\"#7dbfee\" stroke=\"black\" points=\"870,-365 730,-365 730,-297 870,-297 870,-365\"/>\n",
       "<text text-anchor=\"middle\" x=\"800\" y=\"-349.8\" font-family=\"Times,serif\" font-size=\"14.00\">6 &lt;= 2.5</text>\n",
       "<text text-anchor=\"middle\" x=\"800\" y=\"-334.8\" font-family=\"Times,serif\" font-size=\"14.00\">samples = 215</text>\n",
       "<text text-anchor=\"middle\" x=\"800\" y=\"-319.8\" font-family=\"Times,serif\" font-size=\"14.00\">value = [55, 160]</text>\n",
       "<text text-anchor=\"middle\" x=\"800\" y=\"-304.8\" font-family=\"Times,serif\" font-size=\"14.00\">class = Alive</text>\n",
       "</g>\n",
       "<!-- 0&#45;&gt;1 -->\n",
       "<g id=\"edge1\" class=\"edge\">\n",
       "<title>0&#45;&gt;1</title>\n",
       "<path fill=\"none\" stroke=\"black\" d=\"M899.27,-400.88C885.47,-391.3 870.27,-380.76 856.01,-370.86\"/>\n",
       "<polygon fill=\"black\" stroke=\"black\" points=\"857.95,-367.95 847.74,-365.12 853.96,-373.7 857.95,-367.95\"/>\n",
       "<text text-anchor=\"middle\" x=\"852.18\" y=\"-386.03\" font-family=\"Times,serif\" font-size=\"14.00\">True</text>\n",
       "</g>\n",
       "<!-- 16 -->\n",
       "<g id=\"node17\" class=\"node\">\n",
       "<title>16</title>\n",
       "<polygon fill=\"#eb9e67\" stroke=\"black\" points=\"1159,-365 1019,-365 1019,-297 1159,-297 1159,-365\"/>\n",
       "<text text-anchor=\"middle\" x=\"1089\" y=\"-349.8\" font-family=\"Times,serif\" font-size=\"14.00\">7 &lt;= 14.0</text>\n",
       "<text text-anchor=\"middle\" x=\"1089\" y=\"-334.8\" font-family=\"Times,serif\" font-size=\"14.00\">samples = 398</text>\n",
       "<text text-anchor=\"middle\" x=\"1089\" y=\"-319.8\" font-family=\"Times,serif\" font-size=\"14.00\">value = [323, 75]</text>\n",
       "<text text-anchor=\"middle\" x=\"1089\" y=\"-304.8\" font-family=\"Times,serif\" font-size=\"14.00\">class = Dead</text>\n",
       "</g>\n",
       "<!-- 0&#45;&gt;16 -->\n",
       "<g id=\"edge16\" class=\"edge\">\n",
       "<title>0&#45;&gt;16</title>\n",
       "<path fill=\"none\" stroke=\"black\" d=\"M993.1,-400.88C1006.25,-391.44 1020.7,-381.06 1034.3,-371.29\"/>\n",
       "<polygon fill=\"black\" stroke=\"black\" points=\"1036.56,-373.98 1042.64,-365.3 1032.48,-368.29 1036.56,-373.98\"/>\n",
       "<text text-anchor=\"middle\" x=\"1038.6\" y=\"-386.27\" font-family=\"Times,serif\" font-size=\"14.00\">False</text>\n",
       "</g>\n",
       "<!-- 2 -->\n",
       "<g id=\"node3\" class=\"node\">\n",
       "<title>2</title>\n",
       "<polygon fill=\"#47a4e7\" stroke=\"black\" points=\"469.5,-261 338.5,-261 338.5,-193 469.5,-193 469.5,-261\"/>\n",
       "<text text-anchor=\"middle\" x=\"404\" y=\"-245.8\" font-family=\"Times,serif\" font-size=\"14.00\">10 &lt;= 29.356</text>\n",
       "<text text-anchor=\"middle\" x=\"404\" y=\"-230.8\" font-family=\"Times,serif\" font-size=\"14.00\">samples = 119</text>\n",
       "<text text-anchor=\"middle\" x=\"404\" y=\"-215.8\" font-family=\"Times,serif\" font-size=\"14.00\">value = [8, 111]</text>\n",
       "<text text-anchor=\"middle\" x=\"404\" y=\"-200.8\" font-family=\"Times,serif\" font-size=\"14.00\">class = Alive</text>\n",
       "</g>\n",
       "<!-- 1&#45;&gt;2 -->\n",
       "<g id=\"edge2\" class=\"edge\">\n",
       "<title>1&#45;&gt;2</title>\n",
       "<path fill=\"none\" stroke=\"black\" d=\"M729.66,-311.88C659.4,-293.78 551.75,-266.06 479.67,-247.49\"/>\n",
       "<polygon fill=\"black\" stroke=\"black\" points=\"480.3,-244.04 469.74,-244.93 478.55,-250.82 480.3,-244.04\"/>\n",
       "</g>\n",
       "<!-- 9 -->\n",
       "<g id=\"node10\" class=\"node\">\n",
       "<title>9</title>\n",
       "<polygon fill=\"#f7fbfe\" stroke=\"black\" points=\"865.5,-261 734.5,-261 734.5,-193 865.5,-193 865.5,-261\"/>\n",
       "<text text-anchor=\"middle\" x=\"800\" y=\"-245.8\" font-family=\"Times,serif\" font-size=\"14.00\">4 &lt;= 0.5</text>\n",
       "<text text-anchor=\"middle\" x=\"800\" y=\"-230.8\" font-family=\"Times,serif\" font-size=\"14.00\">samples = 96</text>\n",
       "<text text-anchor=\"middle\" x=\"800\" y=\"-215.8\" font-family=\"Times,serif\" font-size=\"14.00\">value = [47, 49]</text>\n",
       "<text text-anchor=\"middle\" x=\"800\" y=\"-200.8\" font-family=\"Times,serif\" font-size=\"14.00\">class = Alive</text>\n",
       "</g>\n",
       "<!-- 1&#45;&gt;9 -->\n",
       "<g id=\"edge9\" class=\"edge\">\n",
       "<title>1&#45;&gt;9</title>\n",
       "<path fill=\"none\" stroke=\"black\" d=\"M800,-296.88C800,-288.78 800,-279.98 800,-271.47\"/>\n",
       "<polygon fill=\"black\" stroke=\"black\" points=\"803.5,-271.3 800,-261.3 796.5,-271.3 803.5,-271.3\"/>\n",
       "</g>\n",
       "<!-- 3 -->\n",
       "<g id=\"node4\" class=\"node\">\n",
       "<title>3</title>\n",
       "<polygon fill=\"#58ace9\" stroke=\"black\" points=\"258,-157 136,-157 136,-89 258,-89 258,-157\"/>\n",
       "<text text-anchor=\"middle\" x=\"197\" y=\"-141.8\" font-family=\"Times,serif\" font-size=\"14.00\">10 &lt;= 28.231</text>\n",
       "<text text-anchor=\"middle\" x=\"197\" y=\"-126.8\" font-family=\"Times,serif\" font-size=\"14.00\">samples = 52</text>\n",
       "<text text-anchor=\"middle\" x=\"197\" y=\"-111.8\" font-family=\"Times,serif\" font-size=\"14.00\">value = [7, 45]</text>\n",
       "<text text-anchor=\"middle\" x=\"197\" y=\"-96.8\" font-family=\"Times,serif\" font-size=\"14.00\">class = Alive</text>\n",
       "</g>\n",
       "<!-- 2&#45;&gt;3 -->\n",
       "<g id=\"edge3\" class=\"edge\">\n",
       "<title>2&#45;&gt;3</title>\n",
       "<path fill=\"none\" stroke=\"black\" d=\"M338.22,-193.59C315.54,-182.41 290.06,-169.86 267.06,-158.52\"/>\n",
       "<polygon fill=\"black\" stroke=\"black\" points=\"268.55,-155.36 258.04,-154.08 265.46,-161.64 268.55,-155.36\"/>\n",
       "</g>\n",
       "<!-- 6 -->\n",
       "<g id=\"node7\" class=\"node\">\n",
       "<title>6</title>\n",
       "<polygon fill=\"#3c9ee5\" stroke=\"black\" points=\"467,-157 341,-157 341,-89 467,-89 467,-157\"/>\n",
       "<text text-anchor=\"middle\" x=\"404\" y=\"-141.8\" font-family=\"Times,serif\" font-size=\"14.00\">10 &lt;= 149.035</text>\n",
       "<text text-anchor=\"middle\" x=\"404\" y=\"-126.8\" font-family=\"Times,serif\" font-size=\"14.00\">samples = 67</text>\n",
       "<text text-anchor=\"middle\" x=\"404\" y=\"-111.8\" font-family=\"Times,serif\" font-size=\"14.00\">value = [1, 66]</text>\n",
       "<text text-anchor=\"middle\" x=\"404\" y=\"-96.8\" font-family=\"Times,serif\" font-size=\"14.00\">class = Alive</text>\n",
       "</g>\n",
       "<!-- 2&#45;&gt;6 -->\n",
       "<g id=\"edge6\" class=\"edge\">\n",
       "<title>2&#45;&gt;6</title>\n",
       "<path fill=\"none\" stroke=\"black\" d=\"M404,-192.88C404,-184.78 404,-175.98 404,-167.47\"/>\n",
       "<polygon fill=\"black\" stroke=\"black\" points=\"407.5,-167.3 404,-157.3 400.5,-167.3 407.5,-167.3\"/>\n",
       "</g>\n",
       "<!-- 4 -->\n",
       "<g id=\"node5\" class=\"node\">\n",
       "<title>4</title>\n",
       "<polygon fill=\"#53aae8\" stroke=\"black\" points=\"122,-53 0,-53 0,0 122,0 122,-53\"/>\n",
       "<text text-anchor=\"middle\" x=\"61\" y=\"-37.8\" font-family=\"Times,serif\" font-size=\"14.00\">samples = 51</text>\n",
       "<text text-anchor=\"middle\" x=\"61\" y=\"-22.8\" font-family=\"Times,serif\" font-size=\"14.00\">value = [6, 45]</text>\n",
       "<text text-anchor=\"middle\" x=\"61\" y=\"-7.8\" font-family=\"Times,serif\" font-size=\"14.00\">class = Alive</text>\n",
       "</g>\n",
       "<!-- 3&#45;&gt;4 -->\n",
       "<g id=\"edge4\" class=\"edge\">\n",
       "<title>3&#45;&gt;4</title>\n",
       "<path fill=\"none\" stroke=\"black\" d=\"M149.43,-88.95C135.48,-79.25 120.26,-68.68 106.44,-59.07\"/>\n",
       "<polygon fill=\"black\" stroke=\"black\" points=\"108.25,-56.07 98.04,-53.24 104.25,-61.82 108.25,-56.07\"/>\n",
       "</g>\n",
       "<!-- 5 -->\n",
       "<g id=\"node6\" class=\"node\">\n",
       "<title>5</title>\n",
       "<polygon fill=\"#e58139\" stroke=\"black\" points=\"253.5,-53 140.5,-53 140.5,0 253.5,0 253.5,-53\"/>\n",
       "<text text-anchor=\"middle\" x=\"197\" y=\"-37.8\" font-family=\"Times,serif\" font-size=\"14.00\">samples = 1</text>\n",
       "<text text-anchor=\"middle\" x=\"197\" y=\"-22.8\" font-family=\"Times,serif\" font-size=\"14.00\">value = [1, 0]</text>\n",
       "<text text-anchor=\"middle\" x=\"197\" y=\"-7.8\" font-family=\"Times,serif\" font-size=\"14.00\">class = Dead</text>\n",
       "</g>\n",
       "<!-- 3&#45;&gt;5 -->\n",
       "<g id=\"edge5\" class=\"edge\">\n",
       "<title>3&#45;&gt;5</title>\n",
       "<path fill=\"none\" stroke=\"black\" d=\"M197,-88.95C197,-80.72 197,-71.85 197,-63.48\"/>\n",
       "<polygon fill=\"black\" stroke=\"black\" points=\"200.5,-63.24 197,-53.24 193.5,-63.24 200.5,-63.24\"/>\n",
       "</g>\n",
       "<!-- 7 -->\n",
       "<g id=\"node8\" class=\"node\">\n",
       "<title>7</title>\n",
       "<polygon fill=\"#399de5\" stroke=\"black\" points=\"394,-53 272,-53 272,0 394,0 394,-53\"/>\n",
       "<text text-anchor=\"middle\" x=\"333\" y=\"-37.8\" font-family=\"Times,serif\" font-size=\"14.00\">samples = 63</text>\n",
       "<text text-anchor=\"middle\" x=\"333\" y=\"-22.8\" font-family=\"Times,serif\" font-size=\"14.00\">value = [0, 63]</text>\n",
       "<text text-anchor=\"middle\" x=\"333\" y=\"-7.8\" font-family=\"Times,serif\" font-size=\"14.00\">class = Alive</text>\n",
       "</g>\n",
       "<!-- 6&#45;&gt;7 -->\n",
       "<g id=\"edge7\" class=\"edge\">\n",
       "<title>6&#45;&gt;7</title>\n",
       "<path fill=\"none\" stroke=\"black\" d=\"M379.17,-88.95C372.43,-79.98 365.13,-70.27 358.37,-61.26\"/>\n",
       "<polygon fill=\"black\" stroke=\"black\" points=\"361.14,-59.13 352.34,-53.24 355.55,-63.33 361.14,-59.13\"/>\n",
       "</g>\n",
       "<!-- 8 -->\n",
       "<g id=\"node9\" class=\"node\">\n",
       "<title>8</title>\n",
       "<polygon fill=\"#7bbeee\" stroke=\"black\" points=\"525.5,-53 412.5,-53 412.5,0 525.5,0 525.5,-53\"/>\n",
       "<text text-anchor=\"middle\" x=\"469\" y=\"-37.8\" font-family=\"Times,serif\" font-size=\"14.00\">samples = 4</text>\n",
       "<text text-anchor=\"middle\" x=\"469\" y=\"-22.8\" font-family=\"Times,serif\" font-size=\"14.00\">value = [1, 3]</text>\n",
       "<text text-anchor=\"middle\" x=\"469\" y=\"-7.8\" font-family=\"Times,serif\" font-size=\"14.00\">class = Alive</text>\n",
       "</g>\n",
       "<!-- 6&#45;&gt;8 -->\n",
       "<g id=\"edge8\" class=\"edge\">\n",
       "<title>6&#45;&gt;8</title>\n",
       "<path fill=\"none\" stroke=\"black\" d=\"M426.73,-88.95C432.84,-80.07 439.45,-70.46 445.59,-61.54\"/>\n",
       "<polygon fill=\"black\" stroke=\"black\" points=\"448.51,-63.46 451.3,-53.24 442.75,-59.49 448.51,-63.46\"/>\n",
       "</g>\n",
       "<!-- 10 -->\n",
       "<g id=\"node11\" class=\"node\">\n",
       "<title>10</title>\n",
       "<polygon fill=\"#86c3ef\" stroke=\"black\" points=\"797.5,-157 666.5,-157 666.5,-89 797.5,-89 797.5,-157\"/>\n",
       "<text text-anchor=\"middle\" x=\"732\" y=\"-141.8\" font-family=\"Times,serif\" font-size=\"14.00\">7 &lt;= 30.1</text>\n",
       "<text text-anchor=\"middle\" x=\"732\" y=\"-126.8\" font-family=\"Times,serif\" font-size=\"14.00\">samples = 43</text>\n",
       "<text text-anchor=\"middle\" x=\"732\" y=\"-111.8\" font-family=\"Times,serif\" font-size=\"14.00\">value = [12, 31]</text>\n",
       "<text text-anchor=\"middle\" x=\"732\" y=\"-96.8\" font-family=\"Times,serif\" font-size=\"14.00\">class = Alive</text>\n",
       "</g>\n",
       "<!-- 9&#45;&gt;10 -->\n",
       "<g id=\"edge10\" class=\"edge\">\n",
       "<title>9&#45;&gt;10</title>\n",
       "<path fill=\"none\" stroke=\"black\" d=\"M777.92,-192.88C772.16,-184.24 765.88,-174.82 759.86,-165.79\"/>\n",
       "<polygon fill=\"black\" stroke=\"black\" points=\"762.66,-163.68 754.2,-157.3 756.83,-167.56 762.66,-163.68\"/>\n",
       "</g>\n",
       "<!-- 13 -->\n",
       "<g id=\"node14\" class=\"node\">\n",
       "<title>13</title>\n",
       "<polygon fill=\"#f2c29f\" stroke=\"black\" points=\"946.5,-157 815.5,-157 815.5,-89 946.5,-89 946.5,-157\"/>\n",
       "<text text-anchor=\"middle\" x=\"881\" y=\"-141.8\" font-family=\"Times,serif\" font-size=\"14.00\">10 &lt;= 22.738</text>\n",
       "<text text-anchor=\"middle\" x=\"881\" y=\"-126.8\" font-family=\"Times,serif\" font-size=\"14.00\">samples = 53</text>\n",
       "<text text-anchor=\"middle\" x=\"881\" y=\"-111.8\" font-family=\"Times,serif\" font-size=\"14.00\">value = [35, 18]</text>\n",
       "<text text-anchor=\"middle\" x=\"881\" y=\"-96.8\" font-family=\"Times,serif\" font-size=\"14.00\">class = Dead</text>\n",
       "</g>\n",
       "<!-- 9&#45;&gt;13 -->\n",
       "<g id=\"edge13\" class=\"edge\">\n",
       "<title>9&#45;&gt;13</title>\n",
       "<path fill=\"none\" stroke=\"black\" d=\"M826.3,-192.88C833.3,-184.07 840.95,-174.43 848.25,-165.24\"/>\n",
       "<polygon fill=\"black\" stroke=\"black\" points=\"851.08,-167.31 854.56,-157.3 845.6,-162.95 851.08,-167.31\"/>\n",
       "</g>\n",
       "<!-- 11 -->\n",
       "<g id=\"node12\" class=\"node\">\n",
       "<title>11</title>\n",
       "<polygon fill=\"#72b9ed\" stroke=\"black\" points=\"666,-53 544,-53 544,0 666,0 666,-53\"/>\n",
       "<text text-anchor=\"middle\" x=\"605\" y=\"-37.8\" font-family=\"Times,serif\" font-size=\"14.00\">samples = 40</text>\n",
       "<text text-anchor=\"middle\" x=\"605\" y=\"-22.8\" font-family=\"Times,serif\" font-size=\"14.00\">value = [9, 31]</text>\n",
       "<text text-anchor=\"middle\" x=\"605\" y=\"-7.8\" font-family=\"Times,serif\" font-size=\"14.00\">class = Alive</text>\n",
       "</g>\n",
       "<!-- 10&#45;&gt;11 -->\n",
       "<g id=\"edge11\" class=\"edge\">\n",
       "<title>10&#45;&gt;11</title>\n",
       "<path fill=\"none\" stroke=\"black\" d=\"M687.58,-88.95C674.67,-79.34 660.6,-68.87 647.8,-59.34\"/>\n",
       "<polygon fill=\"black\" stroke=\"black\" points=\"649.7,-56.4 639.59,-53.24 645.52,-62.01 649.7,-56.4\"/>\n",
       "</g>\n",
       "<!-- 12 -->\n",
       "<g id=\"node13\" class=\"node\">\n",
       "<title>12</title>\n",
       "<polygon fill=\"#e58139\" stroke=\"black\" points=\"797.5,-53 684.5,-53 684.5,0 797.5,0 797.5,-53\"/>\n",
       "<text text-anchor=\"middle\" x=\"741\" y=\"-37.8\" font-family=\"Times,serif\" font-size=\"14.00\">samples = 3</text>\n",
       "<text text-anchor=\"middle\" x=\"741\" y=\"-22.8\" font-family=\"Times,serif\" font-size=\"14.00\">value = [3, 0]</text>\n",
       "<text text-anchor=\"middle\" x=\"741\" y=\"-7.8\" font-family=\"Times,serif\" font-size=\"14.00\">class = Dead</text>\n",
       "</g>\n",
       "<!-- 10&#45;&gt;12 -->\n",
       "<g id=\"edge12\" class=\"edge\">\n",
       "<title>10&#45;&gt;12</title>\n",
       "<path fill=\"none\" stroke=\"black\" d=\"M735.15,-88.95C735.94,-80.62 736.8,-71.65 737.6,-63.2\"/>\n",
       "<polygon fill=\"black\" stroke=\"black\" points=\"741.08,-63.52 738.55,-53.24 734.12,-62.86 741.08,-63.52\"/>\n",
       "</g>\n",
       "<!-- 14 -->\n",
       "<g id=\"node15\" class=\"node\">\n",
       "<title>14</title>\n",
       "<polygon fill=\"#f7d8c2\" stroke=\"black\" points=\"946.5,-53 815.5,-53 815.5,0 946.5,0 946.5,-53\"/>\n",
       "<text text-anchor=\"middle\" x=\"881\" y=\"-37.8\" font-family=\"Times,serif\" font-size=\"14.00\">samples = 44</text>\n",
       "<text text-anchor=\"middle\" x=\"881\" y=\"-22.8\" font-family=\"Times,serif\" font-size=\"14.00\">value = [26, 18]</text>\n",
       "<text text-anchor=\"middle\" x=\"881\" y=\"-7.8\" font-family=\"Times,serif\" font-size=\"14.00\">class = Dead</text>\n",
       "</g>\n",
       "<!-- 13&#45;&gt;14 -->\n",
       "<g id=\"edge14\" class=\"edge\">\n",
       "<title>13&#45;&gt;14</title>\n",
       "<path fill=\"none\" stroke=\"black\" d=\"M881,-88.95C881,-80.72 881,-71.85 881,-63.48\"/>\n",
       "<polygon fill=\"black\" stroke=\"black\" points=\"884.5,-63.24 881,-53.24 877.5,-63.24 884.5,-63.24\"/>\n",
       "</g>\n",
       "<!-- 15 -->\n",
       "<g id=\"node16\" class=\"node\">\n",
       "<title>15</title>\n",
       "<polygon fill=\"#e58139\" stroke=\"black\" points=\"1077.5,-53 964.5,-53 964.5,0 1077.5,0 1077.5,-53\"/>\n",
       "<text text-anchor=\"middle\" x=\"1021\" y=\"-37.8\" font-family=\"Times,serif\" font-size=\"14.00\">samples = 9</text>\n",
       "<text text-anchor=\"middle\" x=\"1021\" y=\"-22.8\" font-family=\"Times,serif\" font-size=\"14.00\">value = [9, 0]</text>\n",
       "<text text-anchor=\"middle\" x=\"1021\" y=\"-7.8\" font-family=\"Times,serif\" font-size=\"14.00\">class = Dead</text>\n",
       "</g>\n",
       "<!-- 13&#45;&gt;15 -->\n",
       "<g id=\"edge15\" class=\"edge\">\n",
       "<title>13&#45;&gt;15</title>\n",
       "<path fill=\"none\" stroke=\"black\" d=\"M929.97,-88.95C944.33,-79.25 960,-68.68 974.23,-59.07\"/>\n",
       "<polygon fill=\"black\" stroke=\"black\" points=\"976.54,-61.73 982.87,-53.24 972.62,-55.93 976.54,-61.73\"/>\n",
       "</g>\n",
       "<!-- 17 -->\n",
       "<g id=\"node18\" class=\"node\">\n",
       "<title>17</title>\n",
       "<polygon fill=\"#5eafea\" stroke=\"black\" points=\"1150,-261 1028,-261 1028,-193 1150,-193 1150,-261\"/>\n",
       "<text text-anchor=\"middle\" x=\"1089\" y=\"-245.8\" font-family=\"Times,serif\" font-size=\"14.00\">8 &lt;= 2.5</text>\n",
       "<text text-anchor=\"middle\" x=\"1089\" y=\"-230.8\" font-family=\"Times,serif\" font-size=\"14.00\">samples = 19</text>\n",
       "<text text-anchor=\"middle\" x=\"1089\" y=\"-215.8\" font-family=\"Times,serif\" font-size=\"14.00\">value = [3, 16]</text>\n",
       "<text text-anchor=\"middle\" x=\"1089\" y=\"-200.8\" font-family=\"Times,serif\" font-size=\"14.00\">class = Alive</text>\n",
       "</g>\n",
       "<!-- 16&#45;&gt;17 -->\n",
       "<g id=\"edge17\" class=\"edge\">\n",
       "<title>16&#45;&gt;17</title>\n",
       "<path fill=\"none\" stroke=\"black\" d=\"M1089,-296.88C1089,-288.78 1089,-279.98 1089,-271.47\"/>\n",
       "<polygon fill=\"black\" stroke=\"black\" points=\"1092.5,-271.3 1089,-261.3 1085.5,-271.3 1092.5,-271.3\"/>\n",
       "</g>\n",
       "<!-- 20 -->\n",
       "<g id=\"node21\" class=\"node\">\n",
       "<title>20</title>\n",
       "<polygon fill=\"#ea985e\" stroke=\"black\" points=\"1372,-261 1232,-261 1232,-193 1372,-193 1372,-261\"/>\n",
       "<text text-anchor=\"middle\" x=\"1302\" y=\"-245.8\" font-family=\"Times,serif\" font-size=\"14.00\">6 &lt;= 1.5</text>\n",
       "<text text-anchor=\"middle\" x=\"1302\" y=\"-230.8\" font-family=\"Times,serif\" font-size=\"14.00\">samples = 379</text>\n",
       "<text text-anchor=\"middle\" x=\"1302\" y=\"-215.8\" font-family=\"Times,serif\" font-size=\"14.00\">value = [320, 59]</text>\n",
       "<text text-anchor=\"middle\" x=\"1302\" y=\"-200.8\" font-family=\"Times,serif\" font-size=\"14.00\">class = Dead</text>\n",
       "</g>\n",
       "<!-- 16&#45;&gt;20 -->\n",
       "<g id=\"edge20\" class=\"edge\">\n",
       "<title>16&#45;&gt;20</title>\n",
       "<path fill=\"none\" stroke=\"black\" d=\"M1158.15,-296.88C1179.09,-286.86 1202.24,-275.77 1223.73,-265.48\"/>\n",
       "<polygon fill=\"black\" stroke=\"black\" points=\"1225.32,-268.6 1232.83,-261.12 1222.3,-262.29 1225.32,-268.6\"/>\n",
       "</g>\n",
       "<!-- 18 -->\n",
       "<g id=\"node19\" class=\"node\">\n",
       "<title>18</title>\n",
       "<polygon fill=\"#399de5\" stroke=\"black\" points=\"1087,-149.5 965,-149.5 965,-96.5 1087,-96.5 1087,-149.5\"/>\n",
       "<text text-anchor=\"middle\" x=\"1026\" y=\"-134.3\" font-family=\"Times,serif\" font-size=\"14.00\">samples = 16</text>\n",
       "<text text-anchor=\"middle\" x=\"1026\" y=\"-119.3\" font-family=\"Times,serif\" font-size=\"14.00\">value = [0, 16]</text>\n",
       "<text text-anchor=\"middle\" x=\"1026\" y=\"-104.3\" font-family=\"Times,serif\" font-size=\"14.00\">class = Alive</text>\n",
       "</g>\n",
       "<!-- 17&#45;&gt;18 -->\n",
       "<g id=\"edge18\" class=\"edge\">\n",
       "<title>17&#45;&gt;18</title>\n",
       "<path fill=\"none\" stroke=\"black\" d=\"M1068.55,-192.88C1061.68,-181.78 1054.02,-169.37 1047.11,-158.18\"/>\n",
       "<polygon fill=\"black\" stroke=\"black\" points=\"1050,-156.19 1041.76,-149.52 1044.04,-159.87 1050,-156.19\"/>\n",
       "</g>\n",
       "<!-- 19 -->\n",
       "<g id=\"node20\" class=\"node\">\n",
       "<title>19</title>\n",
       "<polygon fill=\"#e58139\" stroke=\"black\" points=\"1218.5,-149.5 1105.5,-149.5 1105.5,-96.5 1218.5,-96.5 1218.5,-149.5\"/>\n",
       "<text text-anchor=\"middle\" x=\"1162\" y=\"-134.3\" font-family=\"Times,serif\" font-size=\"14.00\">samples = 3</text>\n",
       "<text text-anchor=\"middle\" x=\"1162\" y=\"-119.3\" font-family=\"Times,serif\" font-size=\"14.00\">value = [3, 0]</text>\n",
       "<text text-anchor=\"middle\" x=\"1162\" y=\"-104.3\" font-family=\"Times,serif\" font-size=\"14.00\">class = Dead</text>\n",
       "</g>\n",
       "<!-- 17&#45;&gt;19 -->\n",
       "<g id=\"edge19\" class=\"edge\">\n",
       "<title>17&#45;&gt;19</title>\n",
       "<path fill=\"none\" stroke=\"black\" d=\"M1112.7,-192.88C1120.73,-181.67 1129.7,-169.13 1137.77,-157.85\"/>\n",
       "<polygon fill=\"black\" stroke=\"black\" points=\"1140.76,-159.69 1143.74,-149.52 1135.07,-155.61 1140.76,-159.69\"/>\n",
       "</g>\n",
       "<!-- 21 -->\n",
       "<g id=\"node22\" class=\"node\">\n",
       "<title>21</title>\n",
       "<polygon fill=\"#f4c8a8\" stroke=\"black\" points=\"1367.5,-157 1236.5,-157 1236.5,-89 1367.5,-89 1367.5,-157\"/>\n",
       "<text text-anchor=\"middle\" x=\"1302\" y=\"-141.8\" font-family=\"Times,serif\" font-size=\"14.00\">5 &lt;= 382.5</text>\n",
       "<text text-anchor=\"middle\" x=\"1302\" y=\"-126.8\" font-family=\"Times,serif\" font-size=\"14.00\">samples = 78</text>\n",
       "<text text-anchor=\"middle\" x=\"1302\" y=\"-111.8\" font-family=\"Times,serif\" font-size=\"14.00\">value = [50, 28]</text>\n",
       "<text text-anchor=\"middle\" x=\"1302\" y=\"-96.8\" font-family=\"Times,serif\" font-size=\"14.00\">class = Dead</text>\n",
       "</g>\n",
       "<!-- 20&#45;&gt;21 -->\n",
       "<g id=\"edge21\" class=\"edge\">\n",
       "<title>20&#45;&gt;21</title>\n",
       "<path fill=\"none\" stroke=\"black\" d=\"M1302,-192.88C1302,-184.78 1302,-175.98 1302,-167.47\"/>\n",
       "<polygon fill=\"black\" stroke=\"black\" points=\"1305.5,-167.3 1302,-157.3 1298.5,-167.3 1305.5,-167.3\"/>\n",
       "</g>\n",
       "<!-- 24 -->\n",
       "<g id=\"node25\" class=\"node\">\n",
       "<title>24</title>\n",
       "<polygon fill=\"#e88f50\" stroke=\"black\" points=\"1526,-157 1386,-157 1386,-89 1526,-89 1526,-157\"/>\n",
       "<text text-anchor=\"middle\" x=\"1456\" y=\"-141.8\" font-family=\"Times,serif\" font-size=\"14.00\">7 &lt;= 32.25</text>\n",
       "<text text-anchor=\"middle\" x=\"1456\" y=\"-126.8\" font-family=\"Times,serif\" font-size=\"14.00\">samples = 301</text>\n",
       "<text text-anchor=\"middle\" x=\"1456\" y=\"-111.8\" font-family=\"Times,serif\" font-size=\"14.00\">value = [270, 31]</text>\n",
       "<text text-anchor=\"middle\" x=\"1456\" y=\"-96.8\" font-family=\"Times,serif\" font-size=\"14.00\">class = Dead</text>\n",
       "</g>\n",
       "<!-- 20&#45;&gt;24 -->\n",
       "<g id=\"edge24\" class=\"edge\">\n",
       "<title>20&#45;&gt;24</title>\n",
       "<path fill=\"none\" stroke=\"black\" d=\"M1352,-192.88C1366.46,-183.3 1382.38,-172.76 1397.32,-162.86\"/>\n",
       "<polygon fill=\"black\" stroke=\"black\" points=\"1399.58,-165.56 1405.99,-157.12 1395.72,-159.73 1399.58,-165.56\"/>\n",
       "</g>\n",
       "<!-- 22 -->\n",
       "<g id=\"node23\" class=\"node\">\n",
       "<title>22</title>\n",
       "<polygon fill=\"#eb9d65\" stroke=\"black\" points=\"1218,-53 1096,-53 1096,0 1218,0 1218,-53\"/>\n",
       "<text text-anchor=\"middle\" x=\"1157\" y=\"-37.8\" font-family=\"Times,serif\" font-size=\"14.00\">samples = 33</text>\n",
       "<text text-anchor=\"middle\" x=\"1157\" y=\"-22.8\" font-family=\"Times,serif\" font-size=\"14.00\">value = [27, 6]</text>\n",
       "<text text-anchor=\"middle\" x=\"1157\" y=\"-7.8\" font-family=\"Times,serif\" font-size=\"14.00\">class = Dead</text>\n",
       "</g>\n",
       "<!-- 21&#45;&gt;22 -->\n",
       "<g id=\"edge22\" class=\"edge\">\n",
       "<title>21&#45;&gt;22</title>\n",
       "<path fill=\"none\" stroke=\"black\" d=\"M1251.29,-88.95C1236.27,-79.16 1219.87,-68.48 1205.03,-58.8\"/>\n",
       "<polygon fill=\"black\" stroke=\"black\" points=\"1206.78,-55.76 1196.49,-53.24 1202.96,-61.63 1206.78,-55.76\"/>\n",
       "</g>\n",
       "<!-- 23 -->\n",
       "<g id=\"node24\" class=\"node\">\n",
       "<title>23</title>\n",
       "<polygon fill=\"#fefaf6\" stroke=\"black\" points=\"1367.5,-53 1236.5,-53 1236.5,0 1367.5,0 1367.5,-53\"/>\n",
       "<text text-anchor=\"middle\" x=\"1302\" y=\"-37.8\" font-family=\"Times,serif\" font-size=\"14.00\">samples = 45</text>\n",
       "<text text-anchor=\"middle\" x=\"1302\" y=\"-22.8\" font-family=\"Times,serif\" font-size=\"14.00\">value = [23, 22]</text>\n",
       "<text text-anchor=\"middle\" x=\"1302\" y=\"-7.8\" font-family=\"Times,serif\" font-size=\"14.00\">class = Dead</text>\n",
       "</g>\n",
       "<!-- 21&#45;&gt;23 -->\n",
       "<g id=\"edge23\" class=\"edge\">\n",
       "<title>21&#45;&gt;23</title>\n",
       "<path fill=\"none\" stroke=\"black\" d=\"M1302,-88.95C1302,-80.72 1302,-71.85 1302,-63.48\"/>\n",
       "<polygon fill=\"black\" stroke=\"black\" points=\"1305.5,-63.24 1302,-53.24 1298.5,-63.24 1305.5,-63.24\"/>\n",
       "</g>\n",
       "<!-- 25 -->\n",
       "<g id=\"node26\" class=\"node\">\n",
       "<title>25</title>\n",
       "<polygon fill=\"#e99355\" stroke=\"black\" points=\"1526,-53 1386,-53 1386,0 1526,0 1526,-53\"/>\n",
       "<text text-anchor=\"middle\" x=\"1456\" y=\"-37.8\" font-family=\"Times,serif\" font-size=\"14.00\">samples = 232</text>\n",
       "<text text-anchor=\"middle\" x=\"1456\" y=\"-22.8\" font-family=\"Times,serif\" font-size=\"14.00\">value = [203, 29]</text>\n",
       "<text text-anchor=\"middle\" x=\"1456\" y=\"-7.8\" font-family=\"Times,serif\" font-size=\"14.00\">class = Dead</text>\n",
       "</g>\n",
       "<!-- 24&#45;&gt;25 -->\n",
       "<g id=\"edge25\" class=\"edge\">\n",
       "<title>24&#45;&gt;25</title>\n",
       "<path fill=\"none\" stroke=\"black\" d=\"M1456,-88.95C1456,-80.72 1456,-71.85 1456,-63.48\"/>\n",
       "<polygon fill=\"black\" stroke=\"black\" points=\"1459.5,-63.24 1456,-53.24 1452.5,-63.24 1459.5,-63.24\"/>\n",
       "</g>\n",
       "<!-- 26 -->\n",
       "<g id=\"node27\" class=\"node\">\n",
       "<title>26</title>\n",
       "<polygon fill=\"#e6853f\" stroke=\"black\" points=\"1666,-53 1544,-53 1544,0 1666,0 1666,-53\"/>\n",
       "<text text-anchor=\"middle\" x=\"1605\" y=\"-37.8\" font-family=\"Times,serif\" font-size=\"14.00\">samples = 69</text>\n",
       "<text text-anchor=\"middle\" x=\"1605\" y=\"-22.8\" font-family=\"Times,serif\" font-size=\"14.00\">value = [67, 2]</text>\n",
       "<text text-anchor=\"middle\" x=\"1605\" y=\"-7.8\" font-family=\"Times,serif\" font-size=\"14.00\">class = Dead</text>\n",
       "</g>\n",
       "<!-- 24&#45;&gt;26 -->\n",
       "<g id=\"edge26\" class=\"edge\">\n",
       "<title>24&#45;&gt;26</title>\n",
       "<path fill=\"none\" stroke=\"black\" d=\"M1508.11,-88.95C1523.55,-79.16 1540.39,-68.48 1555.65,-58.8\"/>\n",
       "<polygon fill=\"black\" stroke=\"black\" points=\"1557.85,-61.55 1564.42,-53.24 1554.1,-55.64 1557.85,-61.55\"/>\n",
       "</g>\n",
       "</g>\n",
       "</svg>\n"
      ],
      "text/plain": [
       "<graphviz.files.Source at 0x7f1e9f6c4e50>"
      ]
     },
     "execution_count": 47,
     "metadata": {},
     "output_type": "execute_result"
    }
   ],
   "source": [
    "import graphviz\n",
    "with open(\"tree.dot\") as f:\n",
    "    dot_graph = f.read()\n",
    "graphviz.Source(dot_graph)"
   ]
  },
  {
   "cell_type": "code",
   "execution_count": 48,
   "metadata": {
    "ExecuteTime": {
     "end_time": "2021-01-04T16:11:32.220361Z",
     "start_time": "2021-01-04T16:11:32.194957Z"
    }
   },
   "outputs": [],
   "source": [
    "def plot_feature_importance(model):\n",
    "    n_features = X.shape[1]\n",
    "    plt.barh(np.arange(n_features), model.feature_importances_, align=\"center\")\n",
    "    plt.yticks(np.arange(n_features), feature_names)\n",
    "    plt.xlabel(\"Feature Importance\")\n",
    "    plt.ylabel(\"Feature Names\")"
   ]
  },
  {
   "cell_type": "code",
   "execution_count": 49,
   "metadata": {
    "ExecuteTime": {
     "end_time": "2021-01-04T16:11:32.308908Z",
     "start_time": "2021-01-04T16:11:32.222396Z"
    }
   },
   "outputs": [],
   "source": [
    "# plot_feature_importance(tree)"
   ]
  },
  {
   "cell_type": "markdown",
   "metadata": {},
   "source": [
    "## Visualizing Random Forest"
   ]
  },
  {
   "cell_type": "code",
   "execution_count": 50,
   "metadata": {
    "ExecuteTime": {
     "end_time": "2021-01-04T16:11:32.378200Z",
     "start_time": "2021-01-04T16:11:32.310584Z"
    }
   },
   "outputs": [],
   "source": [
    "# plot_feature_importance(forest)"
   ]
  },
  {
   "cell_type": "markdown",
   "metadata": {},
   "source": [
    "## Visualizing Gradient Boosting"
   ]
  },
  {
   "cell_type": "code",
   "execution_count": 51,
   "metadata": {
    "ExecuteTime": {
     "end_time": "2021-01-04T16:11:32.470046Z",
     "start_time": "2021-01-04T16:11:32.380198Z"
    }
   },
   "outputs": [],
   "source": [
    "# plot_feature_importance(gradient)"
   ]
  }
 ],
 "metadata": {
  "kernelspec": {
   "display_name": "Python 3",
   "language": "python",
   "name": "python3"
  },
  "language_info": {
   "codemirror_mode": {
    "name": "ipython",
    "version": 3
   },
   "file_extension": ".py",
   "mimetype": "text/x-python",
   "name": "python",
   "nbconvert_exporter": "python",
   "pygments_lexer": "ipython3",
   "version": "3.8.5"
  },
  "toc": {
   "base_numbering": 1,
   "nav_menu": {},
   "number_sections": true,
   "sideBar": true,
   "skip_h1_title": false,
   "title_cell": "Table of Contents",
   "title_sidebar": "Contents",
   "toc_cell": false,
   "toc_position": {
    "height": "calc(100% - 180px)",
    "left": "10px",
    "top": "150px",
    "width": "300.8px"
   },
   "toc_section_display": true,
   "toc_window_display": true
  }
 },
 "nbformat": 4,
 "nbformat_minor": 1
}
